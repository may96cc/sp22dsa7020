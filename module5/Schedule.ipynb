{
 "cells": [
  {
   "cell_type": "markdown",
   "metadata": {},
   "source": [
    "# Module 5: Regression\n",
    "\n",
    "\n",
    "## Topics covered\n",
    "\n",
    "\n",
    "* Linear Regression (ch 14 of ItS book)\n",
    "    * Introduction\n",
    "    * Partitioning the Sums of Squares\n",
    "    * Standard Error of the Estimate\n",
    "    * Influential Observations\n",
    "* Intro to Multiple Regression\n",
    "* Logistic Regression\n",
    "    * Confusion Matrix\n",
    "    * ROC Curves \n",
    "    * Precision and Recall\n",
    "* Multinomial Logistic Regression    \n",
    "* Subset Selection\n",
    "* Polynomial Regression\n",
    "\n",
    "\n",
    "## Readings\n",
    "The following list is the suggested readings for above topics.\n",
    "\n",
    "- [Regression Chapter: Online Stats Book](http://onlinestatbook.com/2/regression/regression.pdf)\n",
    "- [Multiple Regression](http://onlinestatbook.com/2/regression/multiple_regression.html) \n",
    "- [Logistic Regression](https://en.wikipedia.org/wiki/Logistic_regression)\n",
    "- [Multinomial Logistic Regression](https://peopleanalytics-regression-book.org/multinomial-logistic-regression-for-nominal-category-outcomes.html)\n",
    "\n",
    "- Multivariate Regression Reading\n",
    "  - [Multivariate Regression 1](https://academic.oup.com/ntr/article/23/8/1446/5812038)\n",
    "  - [Multivariate Regression 2](https://data.library.virginia.edu/getting-started-with-multivariate-multiple-regression/)\n",
    "  - [Multivariate Regression 3](https://socialsciences.mcmaster.ca/jfox/Books/Companion/appendices/Appendix-Multivariate-Linear-Models.pdf)\n",
    "  \n",
    "  \n",
    "- [An Introduction to Statistical Learning with Applications in R](https://www.statlearning.com/)\n",
    "  *James, Witten, Hastie, and Tibshirani*: Free to use."
   ]
  },
  {
   "cell_type": "markdown",
   "metadata": {},
   "source": [
    "\n",
    "## Labs\n",
    "  - [Linear_and_Multiple_Regression](./labs/Linear_and_Multiple_Regression.ipynb)\n",
    "  - [Logistic_Regression](./labs/Logistic_Regression.ipynb)\n",
    "  - [Multinomial_Logistic_Regression](./labs/Multinomial_Logistic_Regression.ipynb)\n",
    "  - [Subset selection](./labs/Subset_selection.ipynb)\n",
    "  - [Polynomial Regression](./labs/Polynomial_Regression.ipynb)\n",
    "\n",
    "\n",
    "## Practice Examples  \n",
    "  - [Simple_Linear_Regression](./practices/Simple_Linear_Regression.ipynb)\n",
    "  - [Multiple_Linear_Regression](./practices/Multiple_Linear_Regression.ipynb)\n",
    "  - [Logistic_Regression](./practices/Logistic_Regression.ipynb)\n",
    "\n",
    "\n",
    "## Exercises\n",
    "  - [Linear Regression Exercises](./exercises/Exercises_Linear_Regression.ipynb)\n",
    "  - [Logistic Regression Exercises](./exercises/Exercises_Logistic_Regression.ipynb)\n",
    "  "
   ]
  }
 ],
 "metadata": {
  "kernelspec": {
   "display_name": "Python 3",
   "language": "python",
   "name": "python3"
  },
  "language_info": {
   "codemirror_mode": {
    "name": "ipython",
    "version": 3
   },
   "file_extension": ".py",
   "mimetype": "text/x-python",
   "name": "python",
   "nbconvert_exporter": "python",
   "pygments_lexer": "ipython3",
   "version": "3.7.10"
  }
 },
 "nbformat": 4,
 "nbformat_minor": 1
}
