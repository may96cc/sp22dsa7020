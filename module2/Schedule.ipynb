{
 "cells": [
  {
   "cell_type": "markdown",
   "metadata": {},
   "source": [
    "# Module Two: Multivariate Data\n",
    "\n",
    "## Topics covered\n",
    "- Univariate vs Multivariate data\n",
    "- How does univariate data analysis differ from multivariate data analysis\n",
    "- Descriptive statistics with vector\n",
    "- Vector for Bivariate and Multivariate data.\n",
    "- Pearson's correlation\n",
    "- Visualizing vectors"
   ]
  },
  {
   "cell_type": "markdown",
   "metadata": {},
   "source": [
    "## Readings\n",
    "The following are the suggested readings for each topic.\n",
    "\n",
    "- [Bivariate data](http://onlinestatbook.com/2/describing_bivariate_data/intro.html)\n",
    "- [Pearson's correlation](http://onlinestatbook.com/2/describing_bivariate_data/pearson.html)\n",
    "- [Variance sum law](http://onlinestatbook.com/2/describing_bivariate_data/variance_sum_law2.html)\n"
   ]
  },
  {
   "cell_type": "markdown",
   "metadata": {},
   "source": [
    "\n",
    "## Labs\n",
    "  - [Introduction to Linear Algebra](./labs/intro_linear_algebra.ipynb)\n",
    "  - [Multivariate Analysis](./labs/Lab1.ipynb)\n",
    "  \n",
    "  - [Multivariate Example1](./labs/Multivariate.ipynb)\n",
    "  - [Multivariate Example2](./labs/Multivariate2.ipynb)\n",
    "  \n",
    "  - **Optional, deeper dive** [Extra Material 1](./labs/Lab_Multivariate_extra1.ipynb)\n",
    "  - **Optional, deeper dive** [Extra Material 2](./labs/Lab_Multivariate_extra2.ipynb)\n",
    "  \n",
    "## Extra Reading \n",
    "\n",
    "**Simpson's Paradox:** How correlations observed in a population can be reversed within the subgroups in that population. It's also known as the Reversal Paradox and shows how correlations can be misleading!\n",
    "\n",
    " - https://everydayconcepts.io/simpsons-paradox/\n",
    " - https://robertheaton.com/2019/02/24/making-peace-with-simpsons-paradox/\n",
    " - https://towardsdatascience.com/simpsons-paradox-how-to-prove-two-opposite-arguments-using-one-dataset-1c9c917f5ff9\n",
    " - https://trends.ufm.edu/en/article/tax-burdens-per-capita-income-simpsons-paradox/\n",
    " - https://predictivehacks.com/simpsons-paradox-example/\n",
    " - https://paulvanderlaken.com/2017/09/27/simpsons-paradox-two-hr-examples-with-r-code/\n",
    "\n"
   ]
  },
  {
   "cell_type": "markdown",
   "metadata": {},
   "source": [
    "\n",
    "\n",
    "## Practice Examples  \n",
    "  - [Multivariate](./practices/Practice_Multivariate.ipynb)\n",
    "  - **Optional, deeper dive**[Multivariate](./practices/Practice_Multivariate_extra2_lab.ipynb)\n",
    "\n",
    "## Exercises\n",
    "  - [Exercises](./exercises/Exercises.ipynb)\n",
    "  \n",
    "\n"
   ]
  }
 ],
 "metadata": {
  "kernelspec": {
   "display_name": "Python 3",
   "language": "python",
   "name": "python3"
  },
  "language_info": {
   "codemirror_mode": {
    "name": "ipython",
    "version": 3
   },
   "file_extension": ".py",
   "mimetype": "text/x-python",
   "name": "python",
   "nbconvert_exporter": "python",
   "pygments_lexer": "ipython3",
   "version": "3.7.10"
  }
 },
 "nbformat": 4,
 "nbformat_minor": 1
}
