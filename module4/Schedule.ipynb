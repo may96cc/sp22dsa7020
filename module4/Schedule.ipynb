{
 "cells": [
  {
   "cell_type": "markdown",
   "metadata": {},
   "source": [
    "# Module 4: Probability\n",
    "\n",
    "In this module we discuss conditional probability, independent events, along with Bayes’ Theorem. We will also look into \n",
    "random variables and some discrete and continuous distributions.  \n",
    "\n",
    "\n",
    "## Topics covered\n",
    "\n",
    "\n",
    "  * Basic Probabilities\n",
    "  * Independent vs Dependent Events\n",
    "  * Conditional Probabilities and Bayesian Statistics  \n",
    "  * Permutations and Combinations\n",
    "  * Distributions\n",
    "  \n",
    "  \n",
    "## Readings\n",
    "The following is the **suggested reading** for above topic.\n",
    "\n",
    "- [Probability Chapter: Online Stats Book](http://onlinestatbook.com/2/probability/probability.pdf)\n"
   ]
  },
  {
   "cell_type": "markdown",
   "metadata": {},
   "source": [
    "  \n",
    "## Labs\n",
    "  - [Basic Probability](./labs/Basic_Probability.ipynb)\n",
    "  - [Conditional Probability](./labs/Conditional_Probability.ipynb)\n",
    "  - [Bayes Theorem](./labs/Bayes.ipynb)\n",
    "  - [Distributions](./labs/Distributions.ipynb)\n",
    "\n",
    "\n",
    "## Practice Examples  \n",
    "  - [Conditional Probability](./practices/Conditional_Probability.ipynb)\n",
    "  - [Bayes](./practices/Bayes.ipynb)\n",
    "\n",
    "## Exercises\n",
    "  - [Exercises](./exercises/Exercises.ipynb)"
   ]
  }
 ],
 "metadata": {
  "kernelspec": {
   "display_name": "Python 3",
   "language": "python",
   "name": "python3"
  },
  "language_info": {
   "codemirror_mode": {
    "name": "ipython",
    "version": 3
   },
   "file_extension": ".py",
   "mimetype": "text/x-python",
   "name": "python",
   "nbconvert_exporter": "python",
   "pygments_lexer": "ipython3",
   "version": "3.7.10"
  }
 },
 "nbformat": 4,
 "nbformat_minor": 1
}
