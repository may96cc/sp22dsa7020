{
 "cells": [
  {
   "cell_type": "markdown",
   "metadata": {},
   "source": [
    "# Module 8: Clustering\n",
    "\n",
    "\n",
    "## Topics covered\n",
    "\n",
    "\n",
    "\n",
    "   - Unsupervised Machine Learning vs. Supervised Machine Learning (Section 2.1.4 of ISLRv2 Book)\n",
    "   - KMeans & its variants (Section 12.4.1 of ISLRv2 Book)    \n",
    "   - Hierarchical clustering (Section 12.4.2 of ISLRv2 Book)\n",
    "        - Agglomerative\n",
    "        - Divisive\n",
    "   - Other techniques\n",
    "        - DBScan\n",
    "   - Cluster Validation\n"
   ]
  },
  {
   "cell_type": "markdown",
   "metadata": {},
   "source": [
    " ## Labs\n",
    "  - [K-Means_Clustering](./labs/K-Means_Clustering.ipynb)\n",
    "  - [Hierarchical_Clustering](./labs/Hierarchical_Clustering.ipynb)\n",
    "  - [DBscan](./labs/DBscan.ipynb)\n",
    "  - [Cluster_Validation](./labs/Cluster_Validation.ipynb)\n",
    "  - [Clustering Examples](./labs/Clustering_Examples.ipynb)\n",
    "\n",
    "## Practice Examples\n",
    "  - [K-Means_Clustering](./practices/KMeans_Clustering.ipynb)\n",
    "  - [Hierarchical_Clustering](./practices/Hierarchical_Clustering.ipynb)\n",
    "  - [DBSCAN](./practices/DBSCAN.ipynb)\n",
    "\n",
    "\n",
    "## Exercises\n",
    "  - [Exercises](./exercises/Exercises.ipynb)"
   ]
  }
 ],
 "metadata": {
  "kernelspec": {
   "display_name": "Python 3",
   "language": "python",
   "name": "python3"
  },
  "language_info": {
   "codemirror_mode": {
    "name": "ipython",
    "version": 3
   },
   "file_extension": ".py",
   "mimetype": "text/x-python",
   "name": "python",
   "nbconvert_exporter": "python",
   "pygments_lexer": "ipython3",
   "version": "3.7.10"
  }
 },
 "nbformat": 4,
 "nbformat_minor": 1
}
