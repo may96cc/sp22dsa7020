{
 "cells": [
  {
   "cell_type": "markdown",
   "metadata": {},
   "source": [
    "# Z-test Practice\n",
    "\n",
    "In this notebook, we will see how to use the z-test for hypothesis testing examples. \n",
    "\n",
    "In practice, we can use z-test only when we know the population standard deviation. Since it is not always readily available, one can determine a guessed value for it. \n",
    "\n",
    "We have to make sure that the data follows the normal distribution especially if we have a small sample size. \n",
    "\n",
    "---\n",
    "\n",
    "**Activity 1:**\n",
    "\n",
    "Let's work on a data set that is a collection of counts of pizzas eaten at parties. After 10 parties, we have the following numbers and our guess for the standard deviation of the distribution is 2. \n"
   ]
  },
  {
   "cell_type": "code",
   "execution_count": 1,
   "metadata": {},
   "outputs": [
    {
     "data": {
      "image/png": "[encoded data removed]",
      "text/plain": [
       "Plot with title “Normal Q-Q Plot”"
      ]
     },
     "metadata": {},
     "output_type": "display_data"
    }
   ],
   "source": [
    "data <- c(3, 7, 11, 0, 7, 0, 4, 5, 6, 2)\n",
    "\n",
    "# do a q-q plot to check normal distribution assumption\n",
    "qqnorm(data)\n",
    "qqline(data)"
   ]
  },
  {
   "cell_type": "markdown",
   "metadata": {},
   "source": [
    "Since the data lies close the line y=x, and has no notable systematic deviations from line, it’s safe to treat the sample as coming from a normal distribution. We can proceed with our hypothesis test.\n",
    "\n",
    "Our hypothesis is that on average three pizzas are eaten at a party. So $H_0: \\mu=3$ and $H_1: \\mu \\ne 3$.\n",
    "\n",
    "Our alpha is 0.05. Keep in mind that this is a two-tailed test; we are looking for inequality. \n",
    "\n",
    "First we need to compute the z-statistic:\n"
   ]
  },
  {
   "cell_type": "code",
   "execution_count": 2,
   "metadata": {},
   "outputs": [
    {
     "data": {
      "text/html": [
       "4.5"
      ],
      "text/latex": [
       "4.5"
      ],
      "text/markdown": [
       "4.5"
      ],
      "text/plain": [
       "[1] 4.5"
      ]
     },
     "metadata": {},
     "output_type": "display_data"
    },
    {
     "data": {
      "text/html": [
       "2.37170824512628"
      ],
      "text/latex": [
       "2.37170824512628"
      ],
      "text/markdown": [
       "2.37170824512628"
      ],
      "text/plain": [
       "[1] 2.371708"
      ]
     },
     "metadata": {},
     "output_type": "display_data"
    }
   ],
   "source": [
    "mubar = mean(data) # sample mean \n",
    "mubar\n",
    "\n",
    "mu = 3 # population mean \n",
    "\n",
    "n = 10 # sample size \n",
    "\n",
    "s = 2  # population standard deviation \n",
    "\n",
    "z <- (mubar-mu)/(s/sqrt(n))\n",
    "z"
   ]
  },
  {
   "cell_type": "code",
   "execution_count": 3,
   "metadata": {},
   "outputs": [
    {
     "data": {
      "text/html": [
       "-1.95996398454005"
      ],
      "text/latex": [
       "-1.95996398454005"
      ],
      "text/markdown": [
       "-1.95996398454005"
      ],
      "text/plain": [
       "[1] -1.959964"
      ]
     },
     "metadata": {},
     "output_type": "display_data"
    }
   ],
   "source": [
    "# compute the critical values for alpha=0.05 and two-tailed test \n",
    "\n",
    "# look for critical z values on both tails for alpha/2\n",
    "\n",
    "qnorm(0.025)"
   ]
  },
  {
   "cell_type": "raw",
   "metadata": {},
   "source": [
    "Remember that in a two-tailed test, we are looking on both ends of the distribution for rejection regions. \n",
    "\n",
    "The critical z values Zc that correspond to the boundaries for areas of 0.025 on both ends are -1.96 and 1.96 . \n",
    "\n",
    "So, we are testing if |z| > |Zc|. In this case, it is. So our z is in the rejection region. We reject H0. "
   ]
  },
  {
   "cell_type": "code",
   "execution_count": 4,
   "metadata": {},
   "outputs": [
    {
     "data": {
      "text/html": [
       "0.0177060658073666"
      ],
      "text/latex": [
       "0.0177060658073666"
      ],
      "text/markdown": [
       "0.0177060658073666"
      ],
      "text/plain": [
       "[1] 0.01770607"
      ]
     },
     "metadata": {},
     "output_type": "display_data"
    }
   ],
   "source": [
    "# Compute the p-value for the test \n",
    "\n",
    "p.value = 2*pnorm (z, lower.tail=FALSE)\n",
    "p.value\n"
   ]
  },
  {
   "cell_type": "raw",
   "metadata": {},
   "source": [
    "Our z value is on the upper tail, we find the area that corresponds to that in the upper tail and multiply it by two because it's a two-tailed test. \n",
    "\n",
    "\n",
    "In a more general way, we can find it like this: "
   ]
  },
  {
   "cell_type": "code",
   "execution_count": 5,
   "metadata": {},
   "outputs": [
    {
     "data": {
      "text/html": [
       "0.0177060658073666"
      ],
      "text/latex": [
       "0.0177060658073666"
      ],
      "text/markdown": [
       "0.0177060658073666"
      ],
      "text/plain": [
       "[1] 0.01770607"
      ]
     },
     "metadata": {},
     "output_type": "display_data"
    }
   ],
   "source": [
    "p.value = 2*pnorm(-abs(z))\n",
    "p.value"
   ]
  },
  {
   "cell_type": "markdown",
   "metadata": {},
   "source": [
    "Your p-value should be less than 0.05. So the $H_0$ is rejected. what does that mean? "
   ]
  },
  {
   "cell_type": "raw",
   "metadata": {},
   "source": [
    "We reject the H0 that mu is 3. In other words, this sample is not likely to come from a normal distribution with a mean of 3 and a standard deviation of 2. \n"
   ]
  },
  {
   "cell_type": "markdown",
   "metadata": {},
   "source": [
    "\n",
    "----\n",
    "\n",
    "**Activity 2:** \n",
    "\n",
    "The following distribution is given for the BMI measurements. \n",
    "<img src=\"../images/BMI.png\">\n",
    "\n",
    "What is the probability that a person has BMI **greater than** 35? In other words, what is P(X > 35)? \n"
   ]
  },
  {
   "cell_type": "code",
   "execution_count": 6,
   "metadata": {},
   "outputs": [
    {
     "data": {
      "text/html": [
       "1"
      ],
      "text/latex": [
       "1"
      ],
      "text/markdown": [
       "1"
      ],
      "text/plain": [
       "[1] 1"
      ]
     },
     "metadata": {},
     "output_type": "display_data"
    }
   ],
   "source": [
    "# YOUR CODE HERE \n",
    "\n",
    "# first compute z-statistic \n",
    "\n",
    "Z = (35 - 29)/6 \n",
    "Z"
   ]
  },
  {
   "cell_type": "raw",
   "metadata": {},
   "source": [
    "Look at the above distribution: P(X>35) is the proportion of the area under the curve and the right side of 35 line (upper tail) to the whole area under the curve. \n",
    "\n",
    "Instead of computing those areas, we use standard normal distribution; so we find the corresponding Z first, and compute P(Z>1).\n",
    "\n",
    "Essentially, P(X>35) is same as P(Z>1) . \n",
    "\n",
    "We need to find the area bound by Z=1 line on the UPPER tail. "
   ]
  },
  {
   "cell_type": "code",
   "execution_count": 7,
   "metadata": {},
   "outputs": [
    {
     "data": {
      "text/html": [
       "0.158655253931457"
      ],
      "text/latex": [
       "0.158655253931457"
      ],
      "text/markdown": [
       "0.158655253931457"
      ],
      "text/plain": [
       "[1] 0.1586553"
      ]
     },
     "metadata": {},
     "output_type": "display_data"
    }
   ],
   "source": [
    "# then find the probability by using the pnorm() function. \n",
    "\n",
    "pnorm(Z, lower.tail=FALSE)"
   ]
  },
  {
   "cell_type": "raw",
   "metadata": {},
   "source": [
    "There is about 16 percent chance that a randomly chosen person has a BMI greater than 35. In other words, about 16% of the population has a BMI greater than 35. "
   ]
  },
  {
   "cell_type": "markdown",
   "metadata": {},
   "source": [
    "---\n",
    "\n",
    "\n",
    "**Activity 3:**\n",
    "\n",
    "Suppose the food label on a cookie bag states that there is at most 2 grams of saturated fat in a single cookie. In a sample of 35 cookies, it is found that the mean amount of saturated fat per cookie is 2.1 grams. Assume that the population standard deviation is 0.25 grams. At .05 significance level, can we reject the claim on food label?\n",
    "\n",
    "Assume that your $H_0: \\mu \\le 2$. This is a **one-tailed test**. "
   ]
  },
  {
   "cell_type": "raw",
   "metadata": {},
   "source": [
    "Our H0 basically says that the mean value of the saturated fat in the cookies (population) should be less than 2 grams. \n",
    "\n",
    "Our Ha (or H1) will be H1: mu>2"
   ]
  },
  {
   "cell_type": "markdown",
   "metadata": {},
   "source": [
    "Now figure out the sample mean, hypothesized mean, population standard deviation, and sample size. Then compute the z-statistic."
   ]
  },
  {
   "cell_type": "code",
   "execution_count": 8,
   "metadata": {},
   "outputs": [
    {
     "data": {
      "text/html": [
       "2.36643191323985"
      ],
      "text/latex": [
       "2.36643191323985"
      ],
      "text/markdown": [
       "2.36643191323985"
      ],
      "text/plain": [
       "[1] 2.366432"
      ]
     },
     "metadata": {},
     "output_type": "display_data"
    }
   ],
   "source": [
    "mubar = 2.1  # sample mean \n",
    "mu = 2      # population mean \n",
    "\n",
    "sigma = 0.25 # population standard deviation \n",
    "\n",
    "n= 35 # sample size \n",
    "\n",
    "z = (mubar-mu)/(sigma/sqrt(n))\n",
    "z"
   ]
  },
  {
   "cell_type": "markdown",
   "metadata": {},
   "source": [
    "Compute the critical value at 0.05 significance level: "
   ]
  },
  {
   "cell_type": "markdown",
   "metadata": {},
   "source": [
    "Remember that our rejection region is in the upper tail: "
   ]
  },
  {
   "cell_type": "code",
   "execution_count": 9,
   "metadata": {},
   "outputs": [
    {
     "data": {
      "text/html": [
       "1.64485362695147"
      ],
      "text/latex": [
       "1.64485362695147"
      ],
      "text/markdown": [
       "1.64485362695147"
      ],
      "text/plain": [
       "[1] 1.644854"
      ]
     },
     "metadata": {},
     "output_type": "display_data"
    }
   ],
   "source": [
    "alpha = 0.05\n",
    "\n",
    "z.alpha = qnorm(alpha, lower.tail=FALSE)\n",
    "z.alpha"
   ]
  },
  {
   "cell_type": "markdown",
   "metadata": {},
   "source": [
    "The test statistic 2.3664 is greater than the critical value of 1.6449. Hence, at .05 significance level, we reject the claim that there is at most 2 grams of saturated fat in a cookie.\n",
    "\n",
    "Alternatively, find the p-value using `pnorm`:  \n"
   ]
  },
  {
   "cell_type": "code",
   "execution_count": 10,
   "metadata": {},
   "outputs": [
    {
     "data": {
      "text/html": [
       "0.00898023876303933"
      ],
      "text/latex": [
       "0.00898023876303933"
      ],
      "text/markdown": [
       "0.00898023876303933"
      ],
      "text/plain": [
       "[1] 0.008980239"
      ]
     },
     "metadata": {},
     "output_type": "display_data"
    }
   ],
   "source": [
    "pval = pnorm(z, lower.tail=FALSE) # upper tail p−value \n",
    "\n",
    "pval"
   ]
  },
  {
   "cell_type": "raw",
   "metadata": {},
   "source": [
    "P-value is less than 0.05. We reject the null hypothesis."
   ]
  },
  {
   "cell_type": "code",
   "execution_count": null,
   "metadata": {},
   "outputs": [],
   "source": []
  },
  {
   "cell_type": "code",
   "execution_count": null,
   "metadata": {},
   "outputs": [],
   "source": []
  }
 ],
 "metadata": {
  "kernelspec": {
   "display_name": "R",
   "language": "R",
   "name": "ir"
  },
  "language_info": {
   "codemirror_mode": "r",
   "file_extension": ".r",
   "mimetype": "text/x-r-source",
   "name": "R",
   "pygments_lexer": "r",
   "version": "3.5.1"
  }
 },
 "nbformat": 4,
 "nbformat_minor": 2
}
