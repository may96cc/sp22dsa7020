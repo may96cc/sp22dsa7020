{
 "cells": [
  {
   "cell_type": "markdown",
   "metadata": {},
   "source": [
    "# Module 6 Exercises\n",
    "\n",
    "\n",
    "\n",
    "Let x represent a sample collected from a normal population with unknown mean and standard deviation. We want to test if the population mean is equal to 9, at significance level alpha=0.05 .\n",
    "\n",
    "\n"
   ]
  },
  {
   "cell_type": "code",
   "execution_count": 4,
   "metadata": {},
   "outputs": [
    {
     "data": {
      "text/html": [
       "24"
      ],
      "text/latex": [
       "24"
      ],
      "text/markdown": [
       "24"
      ],
      "text/plain": [
       "[1] 24"
      ]
     },
     "metadata": {},
     "output_type": "display_data"
    }
   ],
   "source": [
    "x= c(6.2, 6.6, 7.1, 7.4, 7.6, 7.9, 8, 8.3, 8.4, 8.5, 8.6,\n",
    "+            + 8.8, 8.8, 9.1, 9.2, 9.4, 9.4, 9.7, 9.9, 10.2, 10.4, 10.8,\n",
    "+            + 11.3, 11.9)  \n",
    "\n",
    "length(x)\n"
   ]
  },
  {
   "cell_type": "markdown",
   "metadata": {},
   "source": [
    "**Activity 1:** Which statistical test should we use to find out if the population mean is equal to 9? Why? "
   ]
  },
  {
   "cell_type": "raw",
   "metadata": {},
   "source": [
    "YOUR ANSWER HERE: \n",
    "one sample t test. We're comparing the signle group (x), with a relatively small sample size,  with a known population value (mean = 9). We do not know the population variance, so the z test would not be appropriate. two tailed because direction of differnce is irrelevant to the question \n"
   ]
  },
  {
   "cell_type": "markdown",
   "metadata": {},
   "source": [
    "**Activity 2:** Write the null hypothesis and the alternate hypothesis in the cell below for the above question. "
   ]
  },
  {
   "cell_type": "raw",
   "metadata": {},
   "source": [
    "YOUR ANSWER HERE: \n",
    "H0: µ =  µ0\n",
    "H1: µ ≠  µ0\n",
    "\n",
    "\n",
    "H0: µ =  9\n",
    "H1: µ ≠  9\n",
    "\n",
    "\n",
    "µ = population mean \n",
    "µ0 = proposed population mean (9)\n",
    "\n",
    "\n"
   ]
  },
  {
   "cell_type": "markdown",
   "metadata": {},
   "source": [
    "**Activity 3:** Run the test in the following code cell for the above question. Interpret the result. Pay attention to one-tailed or two-tailed when you compute the p-value. Do you reject the null hypothesis? What does it mean? "
   ]
  },
  {
   "cell_type": "code",
   "execution_count": 5,
   "metadata": {},
   "outputs": [
    {
     "data": {
      "text/plain": [
       "\n",
       "\tOne Sample t-test\n",
       "\n",
       "data:  x\n",
       "t = -0.35687, df = 23, p-value = 0.7244\n",
       "alternative hypothesis: true mean is not equal to 9\n",
       "95 percent confidence interval:\n",
       " 8.292017 9.499649\n",
       "sample estimates:\n",
       "mean of x \n",
       " 8.895833 \n"
      ]
     },
     "metadata": {},
     "output_type": "display_data"
    }
   ],
   "source": [
    "t.test(x, mu = 9, alternative = c('two.sided'), conf.level = 0.95)"
   ]
  },
  {
   "cell_type": "code",
   "execution_count": 2,
   "metadata": {},
   "outputs": [
    {
     "data": {
      "text/html": [
       "-0.356872218196748"
      ],
      "text/latex": [
       "-0.356872218196748"
      ],
      "text/markdown": [
       "-0.356872218196748"
      ],
      "text/plain": [
       "[1] -0.3568722"
      ]
     },
     "metadata": {},
     "output_type": "display_data"
    },
    {
     "data": {
      "text/html": [
       "0.724440855918324"
      ],
      "text/latex": [
       "0.724440855918324"
      ],
      "text/markdown": [
       "0.724440855918324"
      ],
      "text/plain": [
       "[1] 0.7244409"
      ]
     },
     "metadata": {},
     "output_type": "display_data"
    }
   ],
   "source": [
    "# YOUR CODE HERE \n",
    "t <- (mean(x) - 9) / (sd(x)/sqrt(24))\n",
    "t\n",
    "\n",
    "pt(abs(t), df=23, lower.tail=FALSE) * 2\n",
    "\n",
    "critical_value = +- 2.069"
   ]
  },
  {
   "cell_type": "raw",
   "metadata": {},
   "source": [
    "YOUR ANSWER HERE:\n",
    "critical value is +-2.0687, t value (-0.357) is smaller than the critical value. In addition, P-value is higher than alpha (.05). We  fail to reject the null hypothesis (fail to reject that mean = 9)\n",
    "\n",
    "\n",
    " "
   ]
  },
  {
   "cell_type": "markdown",
   "metadata": {},
   "source": [
    "**Activity 4:**  We have measured the weight of 100 individuals: 50 women (group A) and 50 men (group B). We want to know if the mean weight of women (mA) is significantly different from that of men (mB).\n",
    "\n",
    "You will run a two-sample **t.test** to answer the question."
   ]
  },
  {
   "cell_type": "code",
   "execution_count": 7,
   "metadata": {},
   "outputs": [
    {
     "data": {
      "text/html": [
       "<table>\n",
       "<caption>A data.frame: 18 × 2</caption>\n",
       "<thead>\n",
       "\t<tr><th scope=col>group</th><th scope=col>weight</th></tr>\n",
       "\t<tr><th scope=col>&lt;fct&gt;</th><th scope=col>&lt;dbl&gt;</th></tr>\n",
       "</thead>\n",
       "<tbody>\n",
       "\t<tr><td>Woman</td><td>38.9</td></tr>\n",
       "\t<tr><td>Woman</td><td>61.2</td></tr>\n",
       "\t<tr><td>Woman</td><td>73.3</td></tr>\n",
       "\t<tr><td>Woman</td><td>21.8</td></tr>\n",
       "\t<tr><td>Woman</td><td>63.4</td></tr>\n",
       "\t<tr><td>Woman</td><td>64.6</td></tr>\n",
       "\t<tr><td>Woman</td><td>48.4</td></tr>\n",
       "\t<tr><td>Woman</td><td>48.8</td></tr>\n",
       "\t<tr><td>Woman</td><td>48.5</td></tr>\n",
       "\t<tr><td>Man  </td><td>67.8</td></tr>\n",
       "\t<tr><td>Man  </td><td>60.0</td></tr>\n",
       "\t<tr><td>Man  </td><td>63.4</td></tr>\n",
       "\t<tr><td>Man  </td><td>76.0</td></tr>\n",
       "\t<tr><td>Man  </td><td>89.4</td></tr>\n",
       "\t<tr><td>Man  </td><td>73.3</td></tr>\n",
       "\t<tr><td>Man  </td><td>67.3</td></tr>\n",
       "\t<tr><td>Man  </td><td>61.3</td></tr>\n",
       "\t<tr><td>Man  </td><td>62.4</td></tr>\n",
       "</tbody>\n",
       "</table>\n"
      ],
      "text/latex": [
       "A data.frame: 18 × 2\n",
       "\\begin{tabular}{r|ll}\n",
       " group & weight\\\\\n",
       " <fct> & <dbl>\\\\\n",
       "\\hline\n",
       "\t Woman & 38.9\\\\\n",
       "\t Woman & 61.2\\\\\n",
       "\t Woman & 73.3\\\\\n",
       "\t Woman & 21.8\\\\\n",
       "\t Woman & 63.4\\\\\n",
       "\t Woman & 64.6\\\\\n",
       "\t Woman & 48.4\\\\\n",
       "\t Woman & 48.8\\\\\n",
       "\t Woman & 48.5\\\\\n",
       "\t Man   & 67.8\\\\\n",
       "\t Man   & 60.0\\\\\n",
       "\t Man   & 63.4\\\\\n",
       "\t Man   & 76.0\\\\\n",
       "\t Man   & 89.4\\\\\n",
       "\t Man   & 73.3\\\\\n",
       "\t Man   & 67.3\\\\\n",
       "\t Man   & 61.3\\\\\n",
       "\t Man   & 62.4\\\\\n",
       "\\end{tabular}\n"
      ],
      "text/markdown": [
       "\n",
       "A data.frame: 18 × 2\n",
       "\n",
       "| group &lt;fct&gt; | weight &lt;dbl&gt; |\n",
       "|---|---|\n",
       "| Woman | 38.9 |\n",
       "| Woman | 61.2 |\n",
       "| Woman | 73.3 |\n",
       "| Woman | 21.8 |\n",
       "| Woman | 63.4 |\n",
       "| Woman | 64.6 |\n",
       "| Woman | 48.4 |\n",
       "| Woman | 48.8 |\n",
       "| Woman | 48.5 |\n",
       "| Man   | 67.8 |\n",
       "| Man   | 60.0 |\n",
       "| Man   | 63.4 |\n",
       "| Man   | 76.0 |\n",
       "| Man   | 89.4 |\n",
       "| Man   | 73.3 |\n",
       "| Man   | 67.3 |\n",
       "| Man   | 61.3 |\n",
       "| Man   | 62.4 |\n",
       "\n"
      ],
      "text/plain": [
       "   group weight\n",
       "1  Woman 38.9  \n",
       "2  Woman 61.2  \n",
       "3  Woman 73.3  \n",
       "4  Woman 21.8  \n",
       "5  Woman 63.4  \n",
       "6  Woman 64.6  \n",
       "7  Woman 48.4  \n",
       "8  Woman 48.8  \n",
       "9  Woman 48.5  \n",
       "10 Man   67.8  \n",
       "11 Man   60.0  \n",
       "12 Man   63.4  \n",
       "13 Man   76.0  \n",
       "14 Man   89.4  \n",
       "15 Man   73.3  \n",
       "16 Man   67.3  \n",
       "17 Man   61.3  \n",
       "18 Man   62.4  "
      ]
     },
     "metadata": {},
     "output_type": "display_data"
    }
   ],
   "source": [
    "# Data in two numeric vectors\n",
    "women_weight <- c(38.9, 61.2, 73.3, 21.8, 63.4, 64.6, 48.4, 48.8, 48.5)\n",
    "men_weight <- c(67.8, 60, 63.4, 76, 89.4, 73.3, 67.3, 61.3, 62.4) \n",
    "# Create a data frame\n",
    "my_data <- data.frame( \n",
    "                group = rep(c(\"Woman\", \"Man\"), each = 9),\n",
    "                weight = c(women_weight,  men_weight)\n",
    "                )\n",
    "\n",
    "my_data"
   ]
  },
  {
   "cell_type": "markdown",
   "metadata": {},
   "source": [
    "**Activity 4a:** Visualize the mean and standard deviations of both groups using side by side boxplots. "
   ]
  },
  {
   "cell_type": "code",
   "execution_count": 16,
   "metadata": {},
   "outputs": [
    {
     "data": {
      "image/png": "[encoded data removed]",
      "text/plain": [
       "plot without title"
      ]
     },
     "metadata": {},
     "output_type": "display_data"
    }
   ],
   "source": [
    "# YOUR CODE HERE \n",
    "library(ggplot2)\n",
    "means <- aggregate(weight ~  group, my_data, mean)\n",
    "sds <- aggregate(weight ~  group, my_data, sd)\n",
    "ggplot(data = my_data, aes(group, y =weight, fill = group)) + geom_boxplot() + geom_text(data = means, aes(label = weight, y = weight)) + geom_text(data = sds, aes(label = weight, y = weight)) + geom_text(data = sds, aes(label = \"std deviation =\", y = weight + 2)) + geom_text(data = means, aes(label = \"mean =\", y = weight + 2)) "
   ]
  },
  {
   "cell_type": "markdown",
   "metadata": {},
   "source": [
    "**Activity 4b:** Plot a Q-Q plot for both groups to check for normality. (Alternatively, use `shapiro.test()` to check the normality if you want)"
   ]
  },
  {
   "cell_type": "code",
   "execution_count": 18,
   "metadata": {},
   "outputs": [
    {
     "data": {
      "image/png": "[encoded data removed]",
      "text/plain": [
       "plot without title"
      ]
     },
     "metadata": {},
     "output_type": "display_data"
    }
   ],
   "source": [
    "# YOUR CODE HERE \n",
    "\n",
    "p.wt <- ggplot(data = my_data, aes(sample = weight))\n",
    "p.wt + stat_qq() + stat_qq_line() + facet_grid(. ~ group)\n"
   ]
  },
  {
   "cell_type": "markdown",
   "metadata": {},
   "source": [
    "**Activity 4c:** Run your test in the below code cell, interpret the results. Does the test reject the null hypothesis? \n",
    "\n",
    "(You can assume that these two samples have equal variance. If you don't believe, try `var.test()` to check for that assumption.) "
   ]
  },
  {
   "cell_type": "code",
   "execution_count": 19,
   "metadata": {},
   "outputs": [
    {
     "data": {
      "text/plain": [
       "\n",
       "\tWelch Two Sample t-test\n",
       "\n",
       "data:  weight by group\n",
       "t = 2.7842, df = 13.114, p-value = 0.01538\n",
       "alternative hypothesis: true difference in means is not equal to 0\n",
       "95 percent confidence interval:\n",
       "  3.795858 29.981920\n",
       "sample estimates:\n",
       "  mean in group Man mean in group Woman \n",
       "           68.98889            52.10000 \n"
      ]
     },
     "metadata": {},
     "output_type": "display_data"
    }
   ],
   "source": [
    "# YOUR CODE HERE \n",
    "\n",
    "mydata.t.test <- t.test(weight ~ group, data = my_data)\n",
    "mydata.t.test\n",
    "\n",
    "critical_value = 2.7842\n",
    "## p value 0.01538 is less than alpha (.05), so we reject the null hypothesis. The two means are not equal. Mean weight of women is statistically different "
   ]
  },
  {
   "cell_type": "raw",
   "metadata": {},
   "source": [
    "p value 0.01538 is less than alpha (.05), so we reject the null hypothesis. The two means are liekly not equal. Mean weight of women is statistically different"
   ]
  },
  {
   "cell_type": "markdown",
   "metadata": {},
   "source": [
    "**Activity 5:** Suppose that the mean weight of King Penguins found in an Antarctic colony last year was 34.0 pounds. In a **sample of 35 penguins** same time this year in the same colony, the mean penguin weight is 32.2 pounds. Assume the **population** standard deviation is 5.51 pounds. At alpha=0.05 significance level, can we reject the null hypothesis that the mean penguin weight does not differ from last year?"
   ]
  },
  {
   "cell_type": "markdown",
   "metadata": {},
   "source": [
    "**Activity 5a:** What ttype of statistical testing should you run to answer this question? Why? "
   ]
  },
  {
   "cell_type": "markdown",
   "metadata": {},
   "source": [
    "We will use a 1 sample z test. I chose this test because the sample size is over 30, and the mean and sd of the population are given to us. We are given 1 sample and 1 proposed mean, hence the 'one sample' z test\n"
   ]
  },
  {
   "cell_type": "markdown",
   "metadata": {},
   "source": [
    "**Activity 5b:** Write your $H_0$ and $H_1$:"
   ]
  },
  {
   "cell_type": "raw",
   "metadata": {},
   "source": [
    "H0 = sample mean - population mean = 0 \n",
    "H1 = sample mean ≠ population mean\n",
    " \n",
    "H0 =  32.2 - 34 = 0\n",
    "H1 = 32.3 ≠ 34\n"
   ]
  },
  {
   "cell_type": "markdown",
   "metadata": {},
   "source": [
    "**Activity 5c:** Run your test in the below code cell, interpret the results. Does the test reject the null hypothesis? \n"
   ]
  },
  {
   "cell_type": "code",
   "execution_count": 30,
   "metadata": {},
   "outputs": [
    {
     "data": {
      "text/html": [
       "-1.93265764239189"
      ],
      "text/latex": [
       "-1.93265764239189"
      ],
      "text/markdown": [
       "-1.93265764239189"
      ],
      "text/plain": [
       "[1] -1.932658"
      ]
     },
     "metadata": {},
     "output_type": "display_data"
    }
   ],
   "source": [
    "# YOUR CODE HERE \n",
    "\n",
    "\n",
    "mubar = 32.2\n",
    "mu = 34\n",
    "\n",
    "sigma = 5.51\n",
    "n = 35\n",
    "\n",
    "\n",
    "z = (mubar-mu)/(sigma/sqrt(n))\n",
    "z\n",
    "\n"
   ]
  },
  {
   "cell_type": "code",
   "execution_count": 25,
   "metadata": {},
   "outputs": [
    {
     "data": {
      "text/html": [
       "1.95996398454005"
      ],
      "text/latex": [
       "1.95996398454005"
      ],
      "text/markdown": [
       "1.95996398454005"
      ],
      "text/plain": [
       "[1] 1.959964"
      ]
     },
     "metadata": {},
     "output_type": "display_data"
    },
    {
     "data": {
      "text/html": [
       "-1.95996398454005"
      ],
      "text/latex": [
       "-1.95996398454005"
      ],
      "text/markdown": [
       "-1.95996398454005"
      ],
      "text/plain": [
       "[1] -1.959964"
      ]
     },
     "metadata": {},
     "output_type": "display_data"
    }
   ],
   "source": [
    "##critical value \n",
    "alpha = .05 \n",
    "z.alpha = qnorm(1-alpha/2)\n",
    "z.alpha\n",
    "## critical values are 1.95996398454005 and -1.95996398454005\n",
    "\n",
    "qnorm(0.025)"
   ]
  },
  {
   "cell_type": "code",
   "execution_count": 28,
   "metadata": {},
   "outputs": [
    {
     "data": {
      "text/html": [
       "0.0532783864358466"
      ],
      "text/latex": [
       "0.0532783864358466"
      ],
      "text/markdown": [
       "0.0532783864358466"
      ],
      "text/plain": [
       "[1] 0.05327839"
      ]
     },
     "metadata": {},
     "output_type": "display_data"
    }
   ],
   "source": [
    "p_val = 2* pnorm(abs(z),lower.tail = FALSE)\n",
    "p_val"
   ]
  },
  {
   "cell_type": "code",
   "execution_count": 32,
   "metadata": {},
   "outputs": [
    {
     "name": "stdout",
     "output_type": "stream",
     "text": [
      "[1] \"test statistic -1.93265764239189 in between critical values 1.95996398454005 and -1.95996398454005, leads us to not reject null. P value is greater than 0.05, so we fail to reject the null. If we were to reject the null, the chance of error would be too high\"\n"
     ]
    }
   ],
   "source": [
    "\n",
    "print('test statistic -1.93265764239189 in between critical values 1.95996398454005 and -1.95996398454005, leads us to not reject null. P value is greater than 0.05, so we fail to reject the null. If we were to reject the null, the chance of error would be too high')"
   ]
  },
  {
   "cell_type": "markdown",
   "metadata": {},
   "source": [
    "**Activity 6:** Imagine we have collected a random sample of 31 energy bars from a number of different stores to represent the population of energy bars available to the general consumer. The labels on the bars claim that each bar contains 20 grams of protein.\n",
    "\n",
    "Run a statistical test at alpha=0.05 to see if the labels are correct. Your null hypothesis is $H_0: \\mu=20$."
   ]
  },
  {
   "cell_type": "code",
   "execution_count": 34,
   "metadata": {},
   "outputs": [],
   "source": [
    "protein <- c(20.70,27.46,22.15,19.85,21.29,24.75,\n",
    "+ 20.75,22.91,25.34,20.33,21.54,21.08,\n",
    "+ 22.14,19.56,21.10,18.04,24.12,19.95,\n",
    "+ 19.72,18.28,16.26,17.46,20.53,22.12,\n",
    "+ 25.06,22.44,19.08,19.88,21.39,22.33,25.79)\n"
   ]
  },
  {
   "cell_type": "code",
   "execution_count": 35,
   "metadata": {},
   "outputs": [
    {
     "data": {
      "text/html": [
       "1.4"
      ],
      "text/latex": [
       "1.4"
      ],
      "text/markdown": [
       "1.4"
      ],
      "text/plain": [
       "[1] 1.4"
      ]
     },
     "metadata": {},
     "output_type": "display_data"
    },
    {
     "data": {
      "text/html": [
       "0.456497182268801"
      ],
      "text/latex": [
       "0.456497182268801"
      ],
      "text/markdown": [
       "0.456497182268801"
      ],
      "text/plain": [
       "[1] 0.4564972"
      ]
     },
     "metadata": {},
     "output_type": "display_data"
    },
    {
     "data": {
      "text/html": [
       "3.06683163528407"
      ],
      "text/latex": [
       "3.06683163528407"
      ],
      "text/markdown": [
       "3.06683163528407"
      ],
      "text/plain": [
       "[1] 3.066832"
      ]
     },
     "metadata": {},
     "output_type": "display_data"
    }
   ],
   "source": [
    "meansamp = mean(protein)\n",
    "meansd = sd(protein)\n",
    "\n",
    "diff = meansamp - 20\n",
    "diff\n",
    "stderror = (meansd / sqrt(31))\n",
    "stderror\n",
    "\n",
    "t = diff / stderror\n",
    "t\n",
    "\n",
    "##critical value = +- 2.043"
   ]
  },
  {
   "cell_type": "code",
   "execution_count": 36,
   "metadata": {},
   "outputs": [
    {
     "data": {
      "text/plain": [
       "\n",
       "\tOne Sample t-test\n",
       "\n",
       "data:  protein\n",
       "t = 3.0668, df = 30, p-value = 0.004553\n",
       "alternative hypothesis: true mean is not equal to 20\n",
       "95 percent confidence interval:\n",
       " 20.46771 22.33229\n",
       "sample estimates:\n",
       "mean of x \n",
       "     21.4 \n"
      ]
     },
     "metadata": {},
     "output_type": "display_data"
    }
   ],
   "source": [
    "t.test(protein, mu = 20, alternative = c('two.sided'), conf.level = 0.95)"
   ]
  },
  {
   "cell_type": "code",
   "execution_count": 37,
   "metadata": {},
   "outputs": [],
   "source": [
    "##3.06683163528407 > 2.043, so we reject the null that mean grams protein is 20. This means that the labels that are currently in use are likely inaccurate and that the amount of protein is greater than 20.\n",
    "## p value is less than .05, so reject the null"
   ]
  },
  {
   "cell_type": "markdown",
   "metadata": {},
   "source": [
    "**Activity 7:** Take a look at the `mtcars` data set. Is there an association between `cyl` and `gear` variables? Run a statistical test to answer the question. Treat these variables as **categorical**. Which test should you use? **Why?**"
   ]
  },
  {
   "cell_type": "code",
   "execution_count": 14,
   "metadata": {},
   "outputs": [
    {
     "data": {
      "text/html": [
       "<table class=\"dataframe\">\n",
       "<caption>A data.frame: 6 × 11</caption>\n",
       "<thead>\n",
       "\t<tr><th></th><th scope=col>mpg</th><th scope=col>cyl</th><th scope=col>disp</th><th scope=col>hp</th><th scope=col>drat</th><th scope=col>wt</th><th scope=col>qsec</th><th scope=col>vs</th><th scope=col>am</th><th scope=col>gear</th><th scope=col>carb</th></tr>\n",
       "\t<tr><th></th><th scope=col>&lt;dbl&gt;</th><th scope=col>&lt;dbl&gt;</th><th scope=col>&lt;dbl&gt;</th><th scope=col>&lt;dbl&gt;</th><th scope=col>&lt;dbl&gt;</th><th scope=col>&lt;dbl&gt;</th><th scope=col>&lt;dbl&gt;</th><th scope=col>&lt;dbl&gt;</th><th scope=col>&lt;dbl&gt;</th><th scope=col>&lt;dbl&gt;</th><th scope=col>&lt;dbl&gt;</th></tr>\n",
       "</thead>\n",
       "<tbody>\n",
       "\t<tr><th scope=row>Mazda RX4</th><td>21.0</td><td>6</td><td>160</td><td>110</td><td>3.90</td><td>2.620</td><td>16.46</td><td>0</td><td>1</td><td>4</td><td>4</td></tr>\n",
       "\t<tr><th scope=row>Mazda RX4 Wag</th><td>21.0</td><td>6</td><td>160</td><td>110</td><td>3.90</td><td>2.875</td><td>17.02</td><td>0</td><td>1</td><td>4</td><td>4</td></tr>\n",
       "\t<tr><th scope=row>Datsun 710</th><td>22.8</td><td>4</td><td>108</td><td> 93</td><td>3.85</td><td>2.320</td><td>18.61</td><td>1</td><td>1</td><td>4</td><td>1</td></tr>\n",
       "\t<tr><th scope=row>Hornet 4 Drive</th><td>21.4</td><td>6</td><td>258</td><td>110</td><td>3.08</td><td>3.215</td><td>19.44</td><td>1</td><td>0</td><td>3</td><td>1</td></tr>\n",
       "\t<tr><th scope=row>Hornet Sportabout</th><td>18.7</td><td>8</td><td>360</td><td>175</td><td>3.15</td><td>3.440</td><td>17.02</td><td>0</td><td>0</td><td>3</td><td>2</td></tr>\n",
       "\t<tr><th scope=row>Valiant</th><td>18.1</td><td>6</td><td>225</td><td>105</td><td>2.76</td><td>3.460</td><td>20.22</td><td>1</td><td>0</td><td>3</td><td>1</td></tr>\n",
       "</tbody>\n",
       "</table>\n"
      ],
      "text/latex": [
       "A data.frame: 6 × 11\n",
       "\\begin{tabular}{r|lllllllllll}\n",
       "  & mpg & cyl & disp & hp & drat & wt & qsec & vs & am & gear & carb\\\\\n",
       "  & <dbl> & <dbl> & <dbl> & <dbl> & <dbl> & <dbl> & <dbl> & <dbl> & <dbl> & <dbl> & <dbl>\\\\\n",
       "\\hline\n",
       "\tMazda RX4 & 21.0 & 6 & 160 & 110 & 3.90 & 2.620 & 16.46 & 0 & 1 & 4 & 4\\\\\n",
       "\tMazda RX4 Wag & 21.0 & 6 & 160 & 110 & 3.90 & 2.875 & 17.02 & 0 & 1 & 4 & 4\\\\\n",
       "\tDatsun 710 & 22.8 & 4 & 108 &  93 & 3.85 & 2.320 & 18.61 & 1 & 1 & 4 & 1\\\\\n",
       "\tHornet 4 Drive & 21.4 & 6 & 258 & 110 & 3.08 & 3.215 & 19.44 & 1 & 0 & 3 & 1\\\\\n",
       "\tHornet Sportabout & 18.7 & 8 & 360 & 175 & 3.15 & 3.440 & 17.02 & 0 & 0 & 3 & 2\\\\\n",
       "\tValiant & 18.1 & 6 & 225 & 105 & 2.76 & 3.460 & 20.22 & 1 & 0 & 3 & 1\\\\\n",
       "\\end{tabular}\n"
      ],
      "text/markdown": [
       "\n",
       "A data.frame: 6 × 11\n",
       "\n",
       "| <!--/--> | mpg &lt;dbl&gt; | cyl &lt;dbl&gt; | disp &lt;dbl&gt; | hp &lt;dbl&gt; | drat &lt;dbl&gt; | wt &lt;dbl&gt; | qsec &lt;dbl&gt; | vs &lt;dbl&gt; | am &lt;dbl&gt; | gear &lt;dbl&gt; | carb &lt;dbl&gt; |\n",
       "|---|---|---|---|---|---|---|---|---|---|---|---|\n",
       "| Mazda RX4 | 21.0 | 6 | 160 | 110 | 3.90 | 2.620 | 16.46 | 0 | 1 | 4 | 4 |\n",
       "| Mazda RX4 Wag | 21.0 | 6 | 160 | 110 | 3.90 | 2.875 | 17.02 | 0 | 1 | 4 | 4 |\n",
       "| Datsun 710 | 22.8 | 4 | 108 |  93 | 3.85 | 2.320 | 18.61 | 1 | 1 | 4 | 1 |\n",
       "| Hornet 4 Drive | 21.4 | 6 | 258 | 110 | 3.08 | 3.215 | 19.44 | 1 | 0 | 3 | 1 |\n",
       "| Hornet Sportabout | 18.7 | 8 | 360 | 175 | 3.15 | 3.440 | 17.02 | 0 | 0 | 3 | 2 |\n",
       "| Valiant | 18.1 | 6 | 225 | 105 | 2.76 | 3.460 | 20.22 | 1 | 0 | 3 | 1 |\n",
       "\n"
      ],
      "text/plain": [
       "                  mpg  cyl disp hp  drat wt    qsec  vs am gear carb\n",
       "Mazda RX4         21.0 6   160  110 3.90 2.620 16.46 0  1  4    4   \n",
       "Mazda RX4 Wag     21.0 6   160  110 3.90 2.875 17.02 0  1  4    4   \n",
       "Datsun 710        22.8 4   108   93 3.85 2.320 18.61 1  1  4    1   \n",
       "Hornet 4 Drive    21.4 6   258  110 3.08 3.215 19.44 1  0  3    1   \n",
       "Hornet Sportabout 18.7 8   360  175 3.15 3.440 17.02 0  0  3    2   \n",
       "Valiant           18.1 6   225  105 2.76 3.460 20.22 1  0  3    1   "
      ]
     },
     "metadata": {},
     "output_type": "display_data"
    },
    {
     "data": {
      "text/html": [
       "<table class=\"dataframe\">\n",
       "<caption>A data.frame: 6 × 11</caption>\n",
       "<thead>\n",
       "\t<tr><th></th><th scope=col>mpg</th><th scope=col>cyl</th><th scope=col>disp</th><th scope=col>hp</th><th scope=col>drat</th><th scope=col>wt</th><th scope=col>qsec</th><th scope=col>vs</th><th scope=col>am</th><th scope=col>gear</th><th scope=col>carb</th></tr>\n",
       "\t<tr><th></th><th scope=col>&lt;dbl&gt;</th><th scope=col>&lt;fct&gt;</th><th scope=col>&lt;dbl&gt;</th><th scope=col>&lt;dbl&gt;</th><th scope=col>&lt;dbl&gt;</th><th scope=col>&lt;dbl&gt;</th><th scope=col>&lt;dbl&gt;</th><th scope=col>&lt;dbl&gt;</th><th scope=col>&lt;dbl&gt;</th><th scope=col>&lt;fct&gt;</th><th scope=col>&lt;dbl&gt;</th></tr>\n",
       "</thead>\n",
       "<tbody>\n",
       "\t<tr><th scope=row>Mazda RX4</th><td>21.0</td><td>6</td><td>160</td><td>110</td><td>3.90</td><td>2.620</td><td>16.46</td><td>0</td><td>1</td><td>4</td><td>4</td></tr>\n",
       "\t<tr><th scope=row>Mazda RX4 Wag</th><td>21.0</td><td>6</td><td>160</td><td>110</td><td>3.90</td><td>2.875</td><td>17.02</td><td>0</td><td>1</td><td>4</td><td>4</td></tr>\n",
       "\t<tr><th scope=row>Datsun 710</th><td>22.8</td><td>4</td><td>108</td><td> 93</td><td>3.85</td><td>2.320</td><td>18.61</td><td>1</td><td>1</td><td>4</td><td>1</td></tr>\n",
       "\t<tr><th scope=row>Hornet 4 Drive</th><td>21.4</td><td>6</td><td>258</td><td>110</td><td>3.08</td><td>3.215</td><td>19.44</td><td>1</td><td>0</td><td>3</td><td>1</td></tr>\n",
       "\t<tr><th scope=row>Hornet Sportabout</th><td>18.7</td><td>8</td><td>360</td><td>175</td><td>3.15</td><td>3.440</td><td>17.02</td><td>0</td><td>0</td><td>3</td><td>2</td></tr>\n",
       "\t<tr><th scope=row>Valiant</th><td>18.1</td><td>6</td><td>225</td><td>105</td><td>2.76</td><td>3.460</td><td>20.22</td><td>1</td><td>0</td><td>3</td><td>1</td></tr>\n",
       "</tbody>\n",
       "</table>\n"
      ],
      "text/latex": [
       "A data.frame: 6 × 11\n",
       "\\begin{tabular}{r|lllllllllll}\n",
       "  & mpg & cyl & disp & hp & drat & wt & qsec & vs & am & gear & carb\\\\\n",
       "  & <dbl> & <fct> & <dbl> & <dbl> & <dbl> & <dbl> & <dbl> & <dbl> & <dbl> & <fct> & <dbl>\\\\\n",
       "\\hline\n",
       "\tMazda RX4 & 21.0 & 6 & 160 & 110 & 3.90 & 2.620 & 16.46 & 0 & 1 & 4 & 4\\\\\n",
       "\tMazda RX4 Wag & 21.0 & 6 & 160 & 110 & 3.90 & 2.875 & 17.02 & 0 & 1 & 4 & 4\\\\\n",
       "\tDatsun 710 & 22.8 & 4 & 108 &  93 & 3.85 & 2.320 & 18.61 & 1 & 1 & 4 & 1\\\\\n",
       "\tHornet 4 Drive & 21.4 & 6 & 258 & 110 & 3.08 & 3.215 & 19.44 & 1 & 0 & 3 & 1\\\\\n",
       "\tHornet Sportabout & 18.7 & 8 & 360 & 175 & 3.15 & 3.440 & 17.02 & 0 & 0 & 3 & 2\\\\\n",
       "\tValiant & 18.1 & 6 & 225 & 105 & 2.76 & 3.460 & 20.22 & 1 & 0 & 3 & 1\\\\\n",
       "\\end{tabular}\n"
      ],
      "text/markdown": [
       "\n",
       "A data.frame: 6 × 11\n",
       "\n",
       "| <!--/--> | mpg &lt;dbl&gt; | cyl &lt;fct&gt; | disp &lt;dbl&gt; | hp &lt;dbl&gt; | drat &lt;dbl&gt; | wt &lt;dbl&gt; | qsec &lt;dbl&gt; | vs &lt;dbl&gt; | am &lt;dbl&gt; | gear &lt;fct&gt; | carb &lt;dbl&gt; |\n",
       "|---|---|---|---|---|---|---|---|---|---|---|---|\n",
       "| Mazda RX4 | 21.0 | 6 | 160 | 110 | 3.90 | 2.620 | 16.46 | 0 | 1 | 4 | 4 |\n",
       "| Mazda RX4 Wag | 21.0 | 6 | 160 | 110 | 3.90 | 2.875 | 17.02 | 0 | 1 | 4 | 4 |\n",
       "| Datsun 710 | 22.8 | 4 | 108 |  93 | 3.85 | 2.320 | 18.61 | 1 | 1 | 4 | 1 |\n",
       "| Hornet 4 Drive | 21.4 | 6 | 258 | 110 | 3.08 | 3.215 | 19.44 | 1 | 0 | 3 | 1 |\n",
       "| Hornet Sportabout | 18.7 | 8 | 360 | 175 | 3.15 | 3.440 | 17.02 | 0 | 0 | 3 | 2 |\n",
       "| Valiant | 18.1 | 6 | 225 | 105 | 2.76 | 3.460 | 20.22 | 1 | 0 | 3 | 1 |\n",
       "\n"
      ],
      "text/plain": [
       "                  mpg  cyl disp hp  drat wt    qsec  vs am gear carb\n",
       "Mazda RX4         21.0 6   160  110 3.90 2.620 16.46 0  1  4    4   \n",
       "Mazda RX4 Wag     21.0 6   160  110 3.90 2.875 17.02 0  1  4    4   \n",
       "Datsun 710        22.8 4   108   93 3.85 2.320 18.61 1  1  4    1   \n",
       "Hornet 4 Drive    21.4 6   258  110 3.08 3.215 19.44 1  0  3    1   \n",
       "Hornet Sportabout 18.7 8   360  175 3.15 3.440 17.02 0  0  3    2   \n",
       "Valiant           18.1 6   225  105 2.76 3.460 20.22 1  0  3    1   "
      ]
     },
     "metadata": {},
     "output_type": "display_data"
    }
   ],
   "source": [
    "head(mtcars)\n",
    "mtcars$cyl <- as.factor(mtcars$cyl)\n",
    "mtcars$gear <- as.factor(mtcars$gear)\n",
    "head(mtcars)"
   ]
  },
  {
   "cell_type": "code",
   "execution_count": 15,
   "metadata": {},
   "outputs": [
    {
     "data": {
      "text/plain": [
       "   \n",
       "     3  4  5\n",
       "  4  1  8  2\n",
       "  6  2  4  1\n",
       "  8 12  0  2"
      ]
     },
     "metadata": {},
     "output_type": "display_data"
    }
   ],
   "source": [
    "# YOUR CODE HERE \n",
    "\n",
    "table(mtcars$cyl, mtcars$gear)\n",
    "\n"
   ]
  },
  {
   "cell_type": "code",
   "execution_count": 16,
   "metadata": {},
   "outputs": [
    {
     "name": "stderr",
     "output_type": "stream",
     "text": [
      "Warning message in chisq.test(table(mtcars$cyl, mtcars$gear)):\n",
      "“Chi-squared approximation may be incorrect”\n"
     ]
    },
    {
     "data": {
      "text/plain": [
       "\n",
       "\tPearson's Chi-squared test\n",
       "\n",
       "data:  table(mtcars$cyl, mtcars$gear)\n",
       "X-squared = 18.036, df = 4, p-value = 0.001214\n"
      ]
     },
     "metadata": {},
     "output_type": "display_data"
    }
   ],
   "source": [
    "test <- chisq.test(table(mtcars$cyl, mtcars$gear))\n",
    "test"
   ]
  },
  {
   "cell_type": "code",
   "execution_count": 17,
   "metadata": {},
   "outputs": [
    {
     "data": {
      "text/plain": [
       "\n",
       "\tFisher's Exact Test for Count Data\n",
       "\n",
       "data:  table(mtcars$cyl, mtcars$gear)\n",
       "p-value = 8.26e-05\n",
       "alternative hypothesis: two.sided\n"
      ]
     },
     "metadata": {},
     "output_type": "display_data"
    }
   ],
   "source": [
    "test.f <- fisher.test(table(mtcars$cyl, mtcars$gear))\n",
    "test.f"
   ]
  },
  {
   "cell_type": "raw",
   "metadata": {},
   "source": [
    "YOUR ANSWER HERE \n",
    "Chi squared test because we are observing relationship between two cateogrical variables that aren't paired. If the data were paired, I would have used McNemar test. Used fischer's exact test due to many values below 5. The P values is extremely small, which leads me to conclude that there is a significant association between cyl and gear. \n",
    "\n"
   ]
  },
  {
   "cell_type": "code",
   "execution_count": null,
   "metadata": {},
   "outputs": [],
   "source": []
  }
 ],
 "metadata": {
  "kernelspec": {
   "display_name": "R",
   "language": "R",
   "name": "ir"
  },
  "language_info": {
   "codemirror_mode": "r",
   "file_extension": ".r",
   "mimetype": "text/x-r-source",
   "name": "R",
   "pygments_lexer": "r",
   "version": "4.0.5"
  }
 },
 "nbformat": 4,
 "nbformat_minor": 2
}
