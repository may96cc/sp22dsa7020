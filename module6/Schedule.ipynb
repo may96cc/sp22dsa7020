{
 "cells": [
  {
   "cell_type": "markdown",
   "metadata": {},
   "source": [
    "# Module 6: Hypothesis Testing\n",
    "\n",
    "\n",
    "## Topics covered\n",
    "\n",
    "\n",
    "* NULL Hypothesis, Interpreting P-value \n",
    "* T-test, Z-Test, Chi-Squared Test\n",
    "* Dependent vs Independent Samples (paired, one-sample, two-sample tests)\n",
    "* Parametric vs. Non-parametric Statistical Testing \n",
    "* Statistical Testing for Categorical Variables \n",
    "\n",
    "\n",
    "## Readings\n",
    "The following list is the suggested readings for above topics.\n",
    "\n",
    "- [Logic of Hypothesis Testing](https://onlinestatbook.com/2/logic_of_hypothesis_testing/logic_hypothesis.pdf)\n",
    "\n",
    "- [Testing Means (p.399-412, p.429-432](https://onlinestatbook.com/2/tests_of_means/testing_means.pdf)"
   ]
  },
  {
   "cell_type": "markdown",
   "metadata": {},
   "source": [
    "\n",
    "## Labs\n",
    "  - [Hypothesis_Testing](./labs/Hypothesis_Testing.ipynb)\n",
    "  \n",
    "\n",
    "## Practice Examples  \n",
    "  - [Z-test_Practice](./practices/Z-test_Practice.ipynb)\n",
    "  - [T-test_Practice](./practices/T-test_Practice.ipynb)\n",
    "\n",
    "\n",
    "## Exercises\n",
    "  - [Exercises](./exercises/Exercises.ipynb)\n",
    "  \n",
    "  "
   ]
  }
 ],
 "metadata": {
  "kernelspec": {
   "display_name": "Python 3",
   "language": "python",
   "name": "python3"
  },
  "language_info": {
   "codemirror_mode": {
    "name": "ipython",
    "version": 3
   },
   "file_extension": ".py",
   "mimetype": "text/x-python",
   "name": "python",
   "nbconvert_exporter": "python",
   "pygments_lexer": "ipython3",
   "version": "3.7.10"
  }
 },
 "nbformat": 4,
 "nbformat_minor": 1
}
