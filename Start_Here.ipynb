{
 "cells": [
  {
   "cell_type": "markdown",
   "metadata": {},
   "source": [
    "# DATA_SCI 7020 Statistical and Mathematical Foundations for Data Analytics\n",
    "\n",
    "This course is an intermediate statistics class designed to build the mathematical\n",
    "foundation for students dealing with Big Data phenomena. Topics include discussions of\n",
    "probability, data sampling, data summarization, sampling distributions, statistical\n",
    "inference, statistical pattern analysis, hypothesis testing, regression, and nonparametric\n",
    "inference over multidimensional data collections. Students will engage in learning activities\n",
    "using various publicly available data sets and leveraging modern Data Science\n",
    "tools, techniques, and cyberinfrastructure."
   ]
  },
  {
   "cell_type": "markdown",
   "metadata": {},
   "source": [
    "## Course Module Schedule\n",
    "\n",
    "  1. [Introduction and Review of Statistics with R](./module1/Schedule.ipynb)\n",
    "  2. [Multivariate Statistics, Linear Algebra](./module2/Schedule.ipynb)\n",
    "  3. [Multivariate Exploration, Dim. Reduction, PCA, LDA](./module3/Schedule.ipynb)\n",
    "  4. [Probabilities, Bayesian Statistics](./module4/Schedule.ipynb)\n",
    "  5. [Regression](./module5/Schedule.ipynb)\n",
    "  6. [Statistical Testing](./module6/Schedule.ipynb)\n",
    "  7. [Analysis of Variance](./module7/Schedule.ipynb)\n",
    "  8. [MANOVA, Final Projects](./module8/Schedule.ipynb)"
   ]
  },
  {
   "cell_type": "markdown",
   "metadata": {},
   "source": [
    "---\n",
    "\n",
    "### Resources\n",
    "\n",
    "\n",
    "Weekly videos and discussion topics will be available on Canvas. Course help and communication will be on Slack. Each module will have reading links and other resources available here on JupyterHub. \n",
    "\n",
    "**Please consult the weekly module schedule notebook for details and other particulars.** \n",
    "\n",
    "This course requires you programming in R using math and statistics libraries. All of the software you need are freely available on Internet and already installed on JupyterHub for your use. You do not need to install anything on your local computer other than a **current version of Chrome browser**. \n",
    "\n",
    "\n",
    "\n",
    "### Weekly Module Download\n",
    "\n",
    "Each Saturday, the new module will become available. You will be using **```git pull```** to acquire the module material to your account on europa.dsa.missouri.edu (JupyterHub).\n",
    "Clicking on the modules above before the content is pulled is expected to give you a 404 Error.\n",
    "\n",
    "#### Steps:\n",
    "1. Open Terminal in JupyterHub\n",
    "2. Change into the course folder\n",
    "```bash\n",
    "cd sp22dsa7020_yourusername\n",
    "```\n",
    "3. Execute command:\n",
    "```bash\n",
    "git pull --no-edit upstream master\n",
    "```"
   ]
  },
  {
   "cell_type": "markdown",
   "metadata": {},
   "source": [
    "### Suggested Weekly Module Schedule\n",
    "\n",
    "Every module can be worked through at your own pace within the timeframe of the module. Modules are seven days long from Saturday to the Saturday of the following week. **The only component that must be completed by a particular day is the discussion as the other students will be required to respond to several submissions. Posting by the intended date will allow others adequate time to respond to your post.** \n",
    "\n",
    "**Saturday - Wednesday** : \n",
    " - Labs\n",
    " - Videos\n",
    " - Readings\n",
    " - Practices\n",
    " \n",
    "**Wednesday**\n",
    " - Post Discussion \n",
    " \n",
    "**Thursday**\n",
    " - Respond to Discussions\n",
    " \n",
    "**Wednesday - Saturday**\n",
    " - Exercises\n",
    "\n",
    "\n",
    "**Module exercises will be collected midnight central time on Saturdays.**\n",
    "\n",
    "\n",
    "  You will push your exercises notebook (and other notebooks if you choose to do so) to the git repository for submission of the exercises. \n",
    "#### Steps:\n",
    "1. Open Terminal in JupyterHub\n",
    "2. Change into the course folder\n",
    "\n",
    "```bash\n",
    "cd sp22dsa7020_yourusername\n",
    "```\n",
    "3. Execute commands:\n",
    "\n",
    "```bash\n",
    "git add . --all \n",
    "git commit -a -m \"completed exercises module X\"\n",
    "git push origin master \n",
    "```\n",
    "`X` stands for the module number."
   ]
  }
 ],
 "metadata": {
  "kernelspec": {
   "display_name": "Python 3",
   "language": "python",
   "name": "python3"
  },
  "language_info": {
   "codemirror_mode": {
    "name": "ipython",
    "version": 3
   },
   "file_extension": ".py",
   "mimetype": "text/x-python",
   "name": "python",
   "nbconvert_exporter": "python",
   "pygments_lexer": "ipython3",
   "version": "3.7.10"
  }
 },
 "nbformat": 4,
 "nbformat_minor": 2
}
