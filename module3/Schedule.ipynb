{
 "cells": [
  {
   "cell_type": "markdown",
   "metadata": {},
   "source": [
    "# Module 3: Multivariate Data Exploration\n",
    "\n",
    "\n",
    "## Topics covered\n",
    "\n",
    "- What happens after 3D plot with colors?  5 dimensions, etc.\n",
    "- Dimensionality Reduction - Read section 6.4 in [An Introduction to Statistical Learning with Applications in R](https://www.statlearning.com/) (free to download as PDF).\n",
    "- Feature extraction\n",
    "- Principal Component Analysis\n",
    "- Factor Analysis\n",
    "- Feature selection\n",
    "- Down selecting for visual exploration\n",
    "\n",
    "\n",
    "## Readings\n",
    "The following are the suggested readings and references for each topic.\n",
    "\n",
    "- [**Principal Components**](http://www.sthda.com/english/wiki/principal-component-analysis-the-basics-you-should-read-r-software-and-data-mining)\n",
    "\n",
    "- Multivariate Analysis and Visualization\n",
    "\n",
    "  - [Plotting Multivariate Data](http://www.sthda.com/english/articles/32-r-graphics-essentials/130-plot-multivariate-continuous-data/)\n",
    "  - [FactoExtra Package for Multivariate Analysis and Visualization](http://www.sthda.com/english/wiki/factoextra-r-package-easy-multivariate-data-analyses-and-elegant-visualization)\n",
    "  - [Little Book of R for Multivariate Analysis](https://little-book-of-r-for-multivariate-analysis.readthedocs.io/en/latest/src/multivariateanalysis.html)  \n",
    "  - [Overview of R Tools for Multivariate Visualization, sect. Visualising multivariate data](https://cran.r-project.org/web/views/Multivariate.html)\n",
    "  \n",
    "  \n",
    "- [An Introduction to Statistical Learning with Applications in R](https://www.statlearning.com/)\n",
    "  *James, Witten, Hastie, and Tibshirani*: Section 6.4."
   ]
  },
  {
   "cell_type": "markdown",
   "metadata": {},
   "source": [
    "\n",
    "## Labs\n",
    "  - [Multivariate Visualization](./labs/Multivariate_Visualization.ipynb)\n",
    "  - [Extra R summary functions](./labs/Extra_r_summary_functions.ipynb)\n",
    "  - [Dimensionality Reduction](./labs/Dimensionality_Reduction.ipynb)\n",
    "  - [Dimensionality Reduction 2](./labs/Dimensionality_Reduction2.ipynb)\n",
    "  - [Factor Analysis Example 1](./labs/FA_track.ipynb)\n",
    "  - [Factor Analysis Example 2](./labs/FA_food.ipynb)\n",
    "\n",
    "\n",
    "## Practice Examples  \n",
    "  - [Multivariate Exploration](./practices/Practice_Multivariate_Exploration.ipynb)\n",
    "  - [Multivariate Reduction](./practices/Practice_Multivariate_Reduction.ipynb)\n",
    "\n",
    "## Exercises\n",
    "  - [Exercises](./exercises/Exercises.ipynb)\n",
    "  "
   ]
  }
 ],
 "metadata": {
  "kernelspec": {
   "display_name": "Python 3",
   "language": "python",
   "name": "python3"
  },
  "language_info": {
   "codemirror_mode": {
    "name": "ipython",
    "version": 3
   },
   "file_extension": ".py",
   "mimetype": "text/x-python",
   "name": "python",
   "nbconvert_exporter": "python",
   "pygments_lexer": "ipython3",
   "version": "3.7.10"
  }
 },
 "nbformat": 4,
 "nbformat_minor": 1
}
