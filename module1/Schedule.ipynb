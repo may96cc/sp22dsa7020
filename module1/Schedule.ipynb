{
 "cells": [
  {
   "cell_type": "markdown",
   "metadata": {},
   "source": [
    "# Module One: Introduction to Statistics with R\n",
    "\n",
    "## Topics covered\n",
    "- Intro to statistical thinking\n",
    "- Graphing distributions\n",
    "- Summarizing distributions\n",
    "\n",
    "## Readings\n",
    "The following are the suggested readings for each topic.\n",
    "\n",
    "- [Intro to statistical thinking](http://onlinestatbook.com/2/introduction/introduction.html)\n",
    "- [Graphing distributions](http://onlinestatbook.com/2/graphing_distributions/graphing_distributions.html)\n",
    "- [Summarizing distributions](http://onlinestatbook.com/2/summarizing_distributions/summarizing_distributions.html)\n",
    "\n",
    "**ALSO, take a look at the reading material posted on the _Canvas_ page of Module 1.**"
   ]
  },
  {
   "cell_type": "markdown",
   "metadata": {},
   "source": [
    "## Labs\n",
    "\n",
    "**A Note on the Labs**  \n",
    "Students typically have a diverse background and comfort level with statistics.\n",
    "Please consider these notebooks as a reference set of examples for concepts with computational functions in R.\n",
    "You can lightly review all the labs first to take note of the content and if you see concepts you are not familiar with,\n",
    "you can consult the reading materials for more clarification. \n",
    "\n",
    "\n",
    "**Make sure to run the STATMATH CONTAINER.** \n",
    "\n",
    "  * [Variables](./labs/Variables.ipynb)\n",
    "  * [Intro to Statistics with R, Descriptive Statistics](./labs/1_lab1_intro_to_stats_ptA.ipynb)\n",
    "  * [Intro to Statistics with R, Inferential Statistics](./labs/1_lab1_intro_to_stats_ptB.ipynb)\n",
    "  * [Distributions, Continuous](./labs/2_Distributions_Continuous.ipynb)\n",
    "  * [Distributions, Discrete](./labs/2_Distributions_Discrete.ipynb)\n",
    "  * [Graphing Distributions](./labs/3_Graphing_Distributions.ipynb)\n",
    "  * [Summarizing Distributions](./labs/4_Summarizing_Distributions.ipynb)\n",
    "\n",
    "\n",
    "Please remember to **Save** (`File > Save and Checkpoint`) and **Close** all your notebooks. \n",
    "To properly close a notebook:  \n",
    "`File > Close and Halt`\n",
    "\n",
    "\n",
    "## Practice Examples  \n",
    "- [Intro to statistics practice](practices/practice_wine.ipynb)\n",
    "\n",
    "\n",
    "## Exercises\n",
    "- [Exercises](exercises/exercises.ipynb)\n"
   ]
  },
  {
   "cell_type": "markdown",
   "metadata": {},
   "source": [
    "---\n",
    "\n",
    "## Submitting your work\n",
    "\n",
    "#### Steps:\n",
    "  1. Open Terminal in JupyterHub\n",
    "  1. Change into the course folder\n",
    "  1. Stage (git add), commit, and push\n",
    "  \n",
    "```bash\n",
    "git add . --all \n",
    "git commit -a -m \"completed exercises module X\"\n",
    "git push origin master \n",
    "```\n",
    "`X` stands for the module number."
   ]
  },
  {
   "cell_type": "markdown",
   "metadata": {},
   "source": [
    "# Congratulations, you have completed the learning activities for this module!"
   ]
  }
 ],
 "metadata": {
  "kernelspec": {
   "display_name": "Python 3",
   "language": "python",
   "name": "python3"
  },
  "language_info": {
   "codemirror_mode": {
    "name": "ipython",
    "version": 3
   },
   "file_extension": ".py",
   "mimetype": "text/x-python",
   "name": "python",
   "nbconvert_exporter": "python",
   "pygments_lexer": "ipython3",
   "version": "3.7.10"
  }
 },
 "nbformat": 4,
 "nbformat_minor": 1
}
