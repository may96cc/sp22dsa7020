{
 "cells": [
  {
   "cell_type": "markdown",
   "metadata": {},
   "source": [
    "# Graphing distributions\n",
    "\n",
    "**Note**: The following is a short guide to graphing with R. \n",
    "Data is often something we cannot use directly and seeing data visualization is critical to understanding the data set.\n",
    "Because we cannot go through each and every record to understand the dataset, \n",
    "we need graphs to summarize and tell us a story which can be understood by people of diverse technical backgrounds. \n",
    "Pictures are the best way to do this. \n",
    "\n",
    "You may have likely covered some exercises in graphing in the prior courses \n",
    "and we will cover it in-depth in the visualization course; \n",
    "but it's good to review some basics of what we'll be doing in this course.\n"
   ]
  },
  {
   "cell_type": "markdown",
   "metadata": {},
   "source": [
    "In the previous lab we dicussed different types of data, \n",
    "such as qualitative (discrete) and quantitative (continuous), \n",
    "and different ways of analyzing the data, such as those involving one variable (univariate analyses) \n",
    "and those involving two variables (bivariate analyses). \n",
    "As you may have guessed, there are different ways to graph univariate quantitative data, univariate qualitative data, and bivariate quantitative data. \n",
    "\n",
    "* Note: some of the material in this lab comes from: http://onlinestatbook.com/2/index.html "
   ]
  },
  {
   "cell_type": "markdown",
   "metadata": {},
   "source": [
    "# Univariate Analyses of Qualitative Data:\n",
    "\n",
    "A frequency table can be generated from data which can then be graphed as a bar plot or a pie chart.   \n",
    "Data -> frequency table  -> bar graph/pie chart\n",
    "\n",
    "|no of cylinders|frequency|\n",
    "|:-------------:|:-------:|\n",
    "|3|4|\n",
    "|4|204|\n",
    "|5|3|\n",
    "|6|84|\n",
    "|8|103|"
   ]
  },
  {
   "cell_type": "markdown",
   "metadata": {},
   "source": [
    "### Remember:\n",
    "\n",
    "* Since qualitative data represent individual categories, calculating descriptive statistics is limited. Mean, median, and measures of spread cannot be calculated; however, the mode can be calculated.\n",
    "\n",
    "* One way in which we can graphically represent qualitative data is in a pie chart. Categories are represented by slices of the pie, whose areas are proportional to the percentage of items in that category.\n",
    "\n",
    "* The key point about the qualitative data is that they do not come with a pre-established ordering (the way numbers are ordered).\n",
    "\n",
    "* Bar charts can also be used to graph qualitative data. The Y axis displays the frequencies and the X axis displays the categories."
   ]
  },
  {
   "cell_type": "markdown",
   "metadata": {},
   "source": [
    "## Pie Charts:"
   ]
  },
  {
   "cell_type": "markdown",
   "metadata": {},
   "source": [
    "### Plotting a pie chart\n",
    "\n",
    "\n",
    "Each category is represented by a slice of the pie (wedge) in the pie chart. \n",
    "Our _bdims_ dataset has just one categorical variable: gender. \n",
    "The area of each slice, or each category in the variable, \n",
    "is proportional to the percentage of responses in that category.\n",
    "This is simply the relative frequency multiplied by 100.\n",
    "\n",
    "Pie charts are effective for displaying the relative frequencies of a **small number of categories**. \n",
    "They are not recommended, however, when you have a large number of categories."
   ]
  },
  {
   "cell_type": "code",
   "execution_count": null,
   "metadata": {},
   "outputs": [],
   "source": [
    "download.file(\"http://www.openintro.org/stat/data/bdims.RData\", destfile = \"bdims.RData\")\n",
    "load(\"bdims.RData\")\n",
    "head(bdims)"
   ]
  },
  {
   "cell_type": "code",
   "execution_count": null,
   "metadata": {},
   "outputs": [],
   "source": [
    "slices <- table(bdims$sex)\n",
    "lbls <- c(\"men\",\"women\")\n",
    "pct <- round(slices/sum(slices)*100)\n",
    "lbls <- paste(lbls, pct) # add actual percentage values to labels in variable \"lbls\" \n",
    "lbls <- paste(lbls,\"%\",sep=\"\") # add % symbol to labels in \"lbls\" \n",
    "pie(slices, labels = lbls, main=\"Pie Chart of Gender\")"
   ]
  },
  {
   "cell_type": "code",
   "execution_count": null,
   "metadata": {},
   "outputs": [],
   "source": [
    "library(ggplot2)\n",
    "\n",
    "ggplot(bdims, aes(x=\"\",fill=sex)) + geom_bar() + coord_polar(theta=\"y\") + \n",
    "                                    theme_void() + scale_fill_manual(labels=c(\"men\",\"women\"), values=c(\"blue\",\"red\"))"
   ]
  },
  {
   "cell_type": "markdown",
   "metadata": {},
   "source": [
    "Here is another important point about pie charts. \n",
    "If they are based on a small number of observations, it can be misleading to label the pie slices with percentages. For example, if just 5 people had been interviewed by Apple Computers, and 3 were former Windows users, \n",
    "it would be misleading to display a pie chart with the Windows slice showing 60%. \n",
    "With so few people interviewed, such a large percentage of Windows users might easily have occured since chance can cause large errors with small samples. \n",
    "In this case, it is better to alert the user of the pie chart to the actual numbers involved. \n",
    "The slices should therefore be labeled with the actual frequencies observed (e.g., 3) instead of with percentages.\n",
    "\n",
    "We will learn more about sampling error and small sample sizes later in the course."
   ]
  },
  {
   "cell_type": "markdown",
   "metadata": {},
   "source": [
    "## Bar Graphs:\n",
    "\n",
    "Bar charts can also be used to represent frequencies of different categories . \n",
    "Frequencies are shown on the Y-axis and the categories are shown on the X-axis. \n",
    "Typically the Y-axis shows the number of observations rather than the percentage of observations in each category as is typical in pie charts.\n",
    "\n",
    "The below figure shows the number of people playing card games at the Yahoo website on a Sunday and on a Wednesday in the Spring of 2001. We see that there were more players overall on Wednesday compared to Sunday. \n",
    "The number of people playing Pinochle was the same on these two days. \n",
    "In contrast, there were about twice as many people playing Hearts on Wednesday as on Sunday. \n",
    "Facts like these emerge clearly from a well-designed bar chart.\n",
    "\n",
    "<img src='../images/bar_graph_h.jpg'/>\n",
    "\n",
    "## R to create bar charts"
   ]
  },
  {
   "cell_type": "code",
   "execution_count": null,
   "metadata": {},
   "outputs": [],
   "source": [
    "auto_mpg <- read.csv(\"/dsa/data/all_datasets/auto-mpg/auto-mpg.csv\", header = T, sep=\",\")"
   ]
  },
  {
   "cell_type": "code",
   "execution_count": null,
   "metadata": {},
   "outputs": [],
   "source": [
    "barplot(table(auto_mpg$cylinders), main=\"Car Distribution\",xlab=\"Number of Cylinders\")"
   ]
  },
  {
   "cell_type": "code",
   "execution_count": null,
   "metadata": {},
   "outputs": [],
   "source": [
    "ggplot(auto_mpg) + geom_bar(aes(x=cylinders), stat=\"count\") + theme_light()"
   ]
  },
  {
   "cell_type": "markdown",
   "metadata": {},
   "source": [
    "# Univariate Analyses of Quantitative Data:\n",
    "\n",
    "A histogram or a boxplot are ideal if the data are continuous or quantitative. \n",
    "Like in the previous section, histograms and boxplots measure the frequency of values for a single variable. "
   ]
  },
  {
   "cell_type": "markdown",
   "metadata": {},
   "source": [
    "## Histograms:\n",
    "\n",
    "A histogram is a graphical method for displaying the shape of a distribution. \n",
    "It is particularly useful when there are a large number of observations.\n",
    "We begin with an example consisting of the scores of 642 students on a psychology test. \n",
    "The test consists of 197 items, each graded as \"correct\" or \"incorrect.\" \n",
    "The students' scores ranged from 46 to 167.\n",
    "The first step is to create a frequency table. Unfortunately, a simple frequency table would be too big, \n",
    "containing over 100 rows. \n",
    "To simplify the table, we group scores together as shown in this table.\n",
    "\n",
    "<img src='../images/histogram.jpg'/>\n",
    "\n",
    "To create this table, the range of scores was broken into intervals, often referred to as buckets or _bins_. \n",
    "The first interval is from 39.5 to 49.5, the second from 49.5 to 59.5, etc. \n",
    "Next, the number of scores falling into each interval was counted to obtain the class frequencies. \n",
    "There are three scores in the first interval, 10 in the second, etc."
   ]
  },
  {
   "cell_type": "markdown",
   "metadata": {},
   "source": [
    "In R histograms the data are grouped into _bins_. \n",
    "The `hist()` function will choose an ideal set of bin interval values automatically if you don't supply one. \n",
    "But, choosing your own bin value will help you understand the data better. \n",
    "Sometimes a small bin size will unearth interesting patterns, whereas at other times, large bin sizes are better."
   ]
  },
  {
   "cell_type": "code",
   "execution_count": null,
   "metadata": {},
   "outputs": [],
   "source": [
    "?hist"
   ]
  },
  {
   "cell_type": "code",
   "execution_count": null,
   "metadata": {},
   "outputs": [],
   "source": [
    "#plain R\n",
    "\n",
    "# par(mfrow()) helps you create multi-paneled plotting window. \n",
    "# mfrow() takes an input vector of length 2. \n",
    "# The first argument specifies the number of rows and \n",
    "# the second the number of columns of plots. \n",
    "# c(1,3) will create plots in 3 columns and in 1 row. \n",
    "par(mfrow=c(1,3))\n",
    "\n",
    "hist(auto_mpg$acceleration, main=\"Acceleration with default bin size\")\n",
    "\n",
    "# breaks: define number of bins you want. \n",
    "# In other words, its the custom bin size\n",
    "hist(auto_mpg$acceleration, main=\"Acceleration with bin size 20\",breaks=20)\n",
    "hist(auto_mpg$acceleration, main=\"Acceleration with bin size 50\",breaks=50)"
   ]
  },
  {
   "cell_type": "code",
   "execution_count": null,
   "metadata": {},
   "outputs": [],
   "source": [
    "# ggplot\n",
    "\n",
    "ggplot(auto_mpg) + geom_histogram(aes(x=acceleration), fill=NA, color=\"black\", bins=20) + theme_light()\n"
   ]
  },
  {
   "cell_type": "markdown",
   "metadata": {},
   "source": [
    "## Boxplots:\n",
    "\n",
    "Box plots are useful for identifying outliers and for comparing distributions. \n",
    "We will explain box plots with the help of data from an in-class experiment. \n",
    "\n",
    "As part of the \"Stroop Interference Case Study,\" \n",
    "students in introductory statistics were presented with a page containing 30 colored rectangles. \n",
    "Their task was to name the colors as quickly as possible. \n",
    "Their times (in seconds) were recorded. \n",
    "We'll compare the scores for the 16 men and 31 women who participated in the experiment by \n",
    "making separate box plots for each gender.\n",
    "Such a display is said to involve parallel box plots.\n",
    "\n",
    "There are several steps in constructing a box plot. \n",
    "The first relies on the 25th, 50th, and 75th percentiles in the distribution of scores. \n",
    "The first figure below shows how these three statistics are used. \n",
    "For each gender, we draw a box extending from the 25th percentile to the 75th percentile. \n",
    "The 50th percentile is drawn inside the box. \n",
    "Therefore, the bottom of each box is the 25th percentile, the top is the 75th percentile, \n",
    "and the line in the middle is the 50th percentile.\n",
    "\n",
    "The data for the women in our sample are shown in the next table.\n",
    "\n",
    "<img src='../images/table_1.jpg'/>"
   ]
  },
  {
   "cell_type": "markdown",
   "metadata": {},
   "source": [
    "For these data, the 25th percentile is 17, the 50th percentile is 19, and the 75th percentile is 20. \n",
    "\n",
    "<img src='../images/figure_1.jpg'/>\n",
    "\n",
    "For the men (whose data are not shown), the 25th percentile is 19, the 50th percentile is 22.5, and the 75th percentile is 25.5.\n",
    "\n",
    "Before proceeding, the terminology in the following table is helpful.\n",
    "\n",
    "<img src='../images/table_2.jpg'/>\n"
   ]
  },
  {
   "cell_type": "markdown",
   "metadata": {},
   "source": [
    "Continuing with the box plots, we put \"whiskers\" above and below each box to give additional information about the spread of the data. \n",
    "Whiskers are vertical lines that end in a horizontal stroke. \n",
    "Whiskers are drawn from the upper and lower hinges to the upper and lower adjacent values \n",
    "(24 and 14 for the women's data).\n",
    "<img src='../images/figure_2.jpg'/>"
   ]
  },
  {
   "cell_type": "markdown",
   "metadata": {},
   "source": [
    "Although we don't draw whiskers all the way to outside or far out values, we still wish to represent them in our box plots. This is achieved by adding additional marks beyond the whiskers. Specifically, outside values are indicated by small \"o's\" and far out values are indicated by asterisks (*).\n",
    "\n",
    "  **Note of caution**: Some plotting libraries use the true min and max values instead of a particular percentile range.\n",
    "In these cases, you will have no outlier plot points.\n",
    "\n",
    "In our data, there are no far out values and just one outside value. This outside value of 29 is for the women and is shown in the next figure.\n",
    "\n",
    "<img src='../images/figure_3.jpg'/>"
   ]
  },
  {
   "cell_type": "markdown",
   "metadata": {},
   "source": [
    "There is one more mark to include in box plots (although sometimes it is omitted). \n",
    "We indicate the mean score for a group by inserting a plus sign. \n",
    "The next figure shows the result of adding means to our box plots.\n",
    "\n",
    "<img src='../images/figure_4.jpg'/>\n",
    "\n",
    "The following figure provides a revealing summary of the data. \n",
    "Since half the scores in a distribution are between the hinges \n",
    "(recall that the hinges are the 25th and 75th percentiles), \n",
    "we see that half the women's times are between 17 and 20 seconds, \n",
    "whereas half the men's times are between 19 and 25.5. \n",
    "We also see that women generally named the colors faster than the men did, \n",
    "although one woman was slower than almost all of the men. \n",
    "This plot shows the box plot for the women's data with detailed labels.\n",
    "\n",
    "<img src='../images/figure_5.jpg'/>"
   ]
  },
  {
   "cell_type": "markdown",
   "metadata": {},
   "source": [
    "Box plots provide basic information about a distribution. \n",
    "For example, a distribution with a positive skew would have a longer whisker in the positive direction than in the negative direction. \n",
    "A larger mean than median would also indicate a positive skew. \n",
    "Box plots are good at portraying extreme values and are especially good at showing differences between distributions. \n",
    "However, many of the details of a distribution are not revealed in a box plot, and to examine these details one should create a histogram to better understand the shape of the data distribution.\n",
    "\n",
    "**Note:** In the help output generated below, pay attention to how the `range` parameter can affect the whiskers."
   ]
  },
  {
   "cell_type": "code",
   "execution_count": null,
   "metadata": {},
   "outputs": [],
   "source": [
    "help(boxplot)"
   ]
  },
  {
   "cell_type": "code",
   "execution_count": null,
   "metadata": {},
   "outputs": [],
   "source": [
    "boxplot(auto_mpg$mpg,data=auto_mpg, main=\"Car Mileage\", xlab=\"Auto-mpg dataset\", ylab=\"Miles Per Gallon\")"
   ]
  },
  {
   "cell_type": "code",
   "execution_count": null,
   "metadata": {},
   "outputs": [],
   "source": [
    "ggplot(auto_mpg) + geom_boxplot(aes(y=mpg)) + theme_light()"
   ]
  },
  {
   "cell_type": "markdown",
   "metadata": {},
   "source": [
    "Recall that this box plot shows the min, 1st quartile, median, 3rd quartile, max, and outliers. \n",
    "The lowest bar is often the min, \n",
    "the second lowest bar shows the 1st quartile (the cutoff point for the lowest 25% of all values), \n",
    "the thick middle line is the median (the cutoff point for the lowest 50%), \n",
    "the fourth line is the 3rd quartile (the cutoff point for the lowest 75% of the values), \n",
    "and the highest horizontal line is often the max. \n",
    "The circles represent the outliers _beyond the **min** or **max**_. \n"
   ]
  },
  {
   "cell_type": "markdown",
   "metadata": {},
   "source": [
    "The `auto` dataset has many variables. \n",
    "Two of them are \"miles per gallon\" and \"number of cylinders\". \n",
    "Here we break up the data by the number of cylinders and make a box plot for each category (3 cylinders, 4 cylinders, etc.). "
   ]
  },
  {
   "cell_type": "code",
   "execution_count": null,
   "metadata": {},
   "outputs": [],
   "source": [
    "boxplot(auto_mpg$mpg~auto_mpg$cylinders,data=auto_mpg, main=\"Car Mileage\", xlab=\"Number of Cylinders\", ylab=\"Miles Per Gallon\")"
   ]
  },
  {
   "cell_type": "code",
   "execution_count": null,
   "metadata": {},
   "outputs": [],
   "source": [
    "ggplot(auto_mpg) + geom_boxplot(aes(x=factor(cylinders), y=mpg)) + theme_light()"
   ]
  },
  {
   "cell_type": "markdown",
   "metadata": {},
   "source": [
    "**Recall the note about range**, and observe what setting range to _4_ instead of the default _1.5_ does to whiskers and outliers."
   ]
  },
  {
   "cell_type": "code",
   "execution_count": null,
   "metadata": {},
   "outputs": [],
   "source": [
    "boxplot(auto_mpg$mpg~auto_mpg$cylinders,data=auto_mpg, \n",
    "        range=4, \n",
    "        main=\"Car Mileage\", xlab=\"Number of Cylinders\", ylab=\"Miles Per Gallon\")"
   ]
  },
  {
   "cell_type": "code",
   "execution_count": null,
   "metadata": {},
   "outputs": [],
   "source": [
    "ggplot(auto_mpg) + geom_boxplot(aes(x=factor(cylinders), y=mpg), coef=4) + theme_light()"
   ]
  },
  {
   "cell_type": "markdown",
   "metadata": {},
   "source": [
    "# Bivariate Analyses of Quantitative Data:\n",
    "\n",
    "\n",
    "Measures of central tendency, variability, and spread summarize a single variable by providing important information about its distribution. \n",
    "Often, more than one variable is collected on each datum. \n",
    "For example, in large health studies of populations it is common to obtain variables such as age, sex, height, weight, blood pressure, and total cholesterol on each individual. \n",
    "Economic studies may be interested in, among other things, personal income and years of education. \n",
    "As a third example, most university admissions committees ask for an applicant's high school grade point average and standardized admission test scores (e.g., SAT). \n",
    "\n",
    "In this section we consider bivariate data, \n",
    "which for now consists of two quantitative variables for each individual.\n",
    "Our first interest is in summarizing such data in a way that is analogous to summarizing univariate (single variable) data.\n",
    "\n",
    "Bivariate data considers two variables simultaneously. \n",
    "A very common graph, that we'll see more often in the linear regression section, is the scatterplot. \n",
    "It just plots individual ordered pairs on a graph. \n"
   ]
  },
  {
   "cell_type": "markdown",
   "metadata": {},
   "source": [
    "## Scatterplots:\n",
    "\n",
    "X-Y scatter plots are a great way to visually explore bivariate relationships. \n",
    "A scatter plot of two variables shows the values of one variable on the Y axis and the values of the other variable on the X axis.\n",
    "Scatter plots are well suited for revealing the relationship between two variables. \n",
    "\n",
    "By way of illustration, let's consider something with which we are all familiar: age. \n",
    "Let’s begin by asking if people tend to marry other people of about the same age. \n",
    "Our experience tells us \"yes,\" but how good is the correspondence? \n",
    "One way to address the question is to look at pairs of ages for a sample of married couples. \n",
    "\n",
    "This table below shows the ages of 10 married couples. \n",
    "Going across the columns we see that, yes, husbands and wives tend to be of about the same age, with men having a tendency to be slightly older than their wives. \n",
    "This is no big surprise, but at least the data bear out our experiences, which is not always the case.\n",
    "\n",
    "<img src='../images/tab1.jpg'/>"
   ]
  },
  {
   "cell_type": "markdown",
   "metadata": {},
   "source": [
    "The pairs of ages in the table are from a dataset consisting of 282 pairs of spousal ages -- i.e., too many to make sense of from a table. \n",
    "What we need is a way to summarize the 282 pairs of ages. \n",
    "We know that each variable can be summarized by a histogram (see prior section) and by a mean and standard deviation.\n",
    "\n",
    "<img src='../images/double.jpg'/>\n",
    "\n",
    "Each distribution is fairly skewed with a long right tail. \n",
    "From the prior table we saw that not all husbands are older than their wives and it is important to see that this fact is lost when we separate the variables. \n",
    "That is, even though we provide summary statistics on each variable, the pairing within couples is lost by separating the variables. \n",
    "We cannot say, for example, based on the means alone what percentage of couples has younger husbands than wives. \n",
    "We have to count across pairs to find this out. \n",
    "\n",
    "Only by maintaining the pairing can meaningful answers be found about couples per se. \n",
    "Another example of information not available from the separate descriptions of husbands and wives' ages is the mean age of husbands with wives of a certain age. \n",
    "For instance, what is the average age of husbands with 45-year-old wives? \n",
    "Finally, we do not know the relationship between the husband's age and the wife's age.\n",
    "\n",
    "We can learn much more by displaying the bivariate data in a graphical form that maintains the pairing. \n",
    "This figure shows a scatter plot of the paired ages. \n",
    "The X-axis represents the age of the husband and the Y-axis the age of the wife.\n",
    "\n",
    "<img src='../images/fig2.jpg'/>"
   ]
  },
  {
   "cell_type": "markdown",
   "metadata": {},
   "source": [
    "\n",
    "There are two important characteristics of the data revealed by this figure. \n",
    "First, it is clear that there is a strong relationship between the husband's age and the wife's age: \n",
    "the older the husband, the older the wife. \n",
    "When one variable (Y) increases with the second variable (X), \n",
    "we say that X and Y have a positive association. \n",
    "Conversely, when Y decreases as X increases, we say that they have a negative association.\n",
    "Second, the points cluster along a straight line. When this occurs, the relationship is called a linear relationship.\n",
    "\n",
    "Not all scatter plots show linear relationships.\n",
    "The image below shows the results of an experiment conducted by Galileo on projectile motion. \n",
    "In the experiment, Galileo rolled balls down an incline and measured how far they traveled as a function of the release height. \n",
    "It is clear from the figure that the relationship between \"Release Height\" and \"Distance Traveled\" is not described well by a straight line: \n",
    "If you drew a line connecting the lowest point and the highest point, all of the remaining points would be above the line. \n",
    "The data are better fit by a parabola.\n",
    "\n",
    "<img src='../images/fig4.jpg'/>\n",
    "\n",
    "Scatter plots that show linear relationships between variables can differ in several ways including the slope of the line about which they cluster and how tightly the points cluster about the line.\n",
    "A statistical measure of the strength of the relationship between two quantitative variables that takes these factors into account is correlation."
   ]
  },
  {
   "cell_type": "markdown",
   "metadata": {},
   "source": [
    "The following are two scatterplots comparing the weight of the `car` to `horsepower` and to `miles per gallon` in the `auto_mpg` data set.  "
   ]
  },
  {
   "cell_type": "code",
   "execution_count": null,
   "metadata": {},
   "outputs": [],
   "source": [
    "#plot is the basic command to plot a scatter plot. It takes x and y arguments for input variables. The parameter pch is used \n",
    "#to set the symbol used to denote the observations on the plot. Here pch=19 indicates solid circles. \n",
    "plot(auto_mpg$weight, auto_mpg$horsepower, main=\"Weight of car vs Horsepower\", \n",
    "  \txlab=\"Car Weight \", ylab=\"Horse power \", pch=19)"
   ]
  },
  {
   "cell_type": "code",
   "execution_count": null,
   "metadata": {},
   "outputs": [],
   "source": [
    "ggplot(auto_mpg) + geom_point(aes(x=weight, y=as.numeric(horsepower)), size=3, alpha=.4) + theme_classic()"
   ]
  },
  {
   "cell_type": "code",
   "execution_count": null,
   "metadata": {},
   "outputs": [],
   "source": [
    "plot(auto_mpg$weight, auto_mpg$mpg, main=\"MPG vs Weight of Car\", \n",
    "  \txlab=\"Car Weight (in lbs)\", ylab=\"Miles Per Gallon\", pch=19)"
   ]
  },
  {
   "cell_type": "code",
   "execution_count": null,
   "metadata": {},
   "outputs": [],
   "source": [
    "ggplot(auto_mpg) + geom_point(aes(x=weight, y=mpg), size=3, alpha=.4) + \n",
    "theme_classic() + labs(title=\"MPG vs Weight of Car\", x=\"Car Weight (in lbs)\", y=\"Miles Per Gallon\")"
   ]
  },
  {
   "cell_type": "code",
   "execution_count": null,
   "metadata": {},
   "outputs": [],
   "source": [
    "ggplot(auto_mpg) + geom_point(aes(x=weight, y=mpg, color=factor(cylinders)), size=3, alpha=.4) + \n",
    "theme_classic() + labs(title=\"MPG vs Weight of Car\", x=\"Car Weight (in lbs)\", y=\"Miles Per Gallon\")"
   ]
  },
  {
   "cell_type": "markdown",
   "metadata": {},
   "source": [
    "## Line Charts:"
   ]
  },
  {
   "cell_type": "markdown",
   "metadata": {},
   "source": [
    "Line charts are also a type of bivariate plot. \n",
    "Its implementation is not as easy as other types of charts. \n",
    "Line charts can be created using the function lines(x, y, type=) where x and y are numeric vectors of form (x,y) points to connect. \n",
    "The parameter <span style=\"color:#e0763c\">type=</span> takes different values as listed below for generating different kinds of points on the plot.\n",
    "\n",
    "|type|\tdescription|\n",
    "|----|-------------|\n",
    "|p   |   \tpoints|\n",
    "|l\t |   lines|\n",
    "|o\t |   overplotted points and lines|\n",
    "|b, c|\tpoints (empty if \"c\") joined by lines|\n",
    "|s, S|\tstair steps|\n",
    "|h\t |   histogram-like vertical lines|\n",
    "|n\t |   does not produce any points or lines|\n",
    "\n",
    "Let's go ahead and make a line plot with points for female heights"
   ]
  },
  {
   "cell_type": "code",
   "execution_count": null,
   "metadata": {},
   "outputs": [],
   "source": [
    "male <- subset(bdims, sex == 1)\n",
    "female <- subset(bdims, sex == 0)"
   ]
  },
  {
   "cell_type": "code",
   "execution_count": null,
   "metadata": {},
   "outputs": [],
   "source": [
    "x <- female$hgt\n",
    "y <- female$wgt\n",
    "#par() is set to plot 3 different plots in the same panel.\n",
    "par(mfrow=c(1,3))\n",
    "plot(x, y, type=\"n\", main=\"Line chart with points\")\n",
    "lines(x, y, type='p')\n",
    "plot(x, y, type=\"n\", main=\"Line chart with lines\") \n",
    "lines(x, y, type='l') \n",
    "plot(x, y, type=\"n\", main=\"chart with overplotted lines and points\") \n",
    "lines(x, y, type='o') "
   ]
  },
  {
   "cell_type": "code",
   "execution_count": null,
   "metadata": {},
   "outputs": [],
   "source": [
    "ggplot(female, aes(x=hgt,y=wgt)) + geom_point(shape='o',size=3) + theme_light()"
   ]
  },
  {
   "cell_type": "markdown",
   "metadata": {},
   "source": [
    "The plots above don't make any sense because the data is random and unordered. Let's see if we get a useful plot after sorting the data."
   ]
  },
  {
   "cell_type": "code",
   "execution_count": null,
   "metadata": {},
   "outputs": [],
   "source": [
    "x <- sort(female$hgt)\n",
    "y <- female$wgt\n",
    "plot(x, y, type=\"n\", main=\"female height vs weight\") \n",
    "lines(x, y, type='l')"
   ]
  },
  {
   "cell_type": "code",
   "execution_count": null,
   "metadata": {},
   "outputs": [],
   "source": [
    "ggplot(female, aes(x=hgt,y=wgt)) + geom_point(shape='o',size=3) + geom_line() + theme_light()"
   ]
  },
  {
   "cell_type": "markdown",
   "metadata": {
    "collapsed": true
   },
   "source": [
    "The plot is still not aesthetic and readable but it is alot better than the previous plot. \n",
    "So <b>line charts make sense when the data is ordered. </b>\n",
    "\n",
    "One of the issues with the last plot was that we only sorted the X axis values independent of the Y axis values.\n",
    "We have broken the association of the two values at the per-datum level.\n",
    "In a more traditional usage, the full data set is sorted based on a column of values.\n",
    "\n",
    "## This concludes the review of plotting."
   ]
  }
 ],
 "metadata": {
  "kernelspec": {
   "display_name": "R",
   "language": "R",
   "name": "ir"
  },
  "language_info": {
   "codemirror_mode": "r",
   "file_extension": ".r",
   "mimetype": "text/x-r-source",
   "name": "R",
   "pygments_lexer": "r",
   "version": "4.0.5"
  }
 },
 "nbformat": 4,
 "nbformat_minor": 2
}
