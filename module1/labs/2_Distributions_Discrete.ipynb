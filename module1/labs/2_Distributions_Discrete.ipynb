{
 "cells": [
  {
   "cell_type": "markdown",
   "metadata": {},
   "source": [
    "# Discrete Distributions\n",
    "\n",
    "\n",
    "### Discrete Random Variables: \n",
    "\n",
    "#### Probability Mass Functions: \n",
    "Discrete random variables are characterized by their supports which take the form \n",
    "$$S_x = {u_1, u_2, ... u_k}$$\n",
    "\n",
    "Every discrete random variable X has associated with it a probability mass function (PMF) $f_x : S_x \\rightarrow [0, 1]$ defined by\n",
    "\n",
    "$$f_x(x) = P(X = x), x \\in S_x$$"
   ]
  },
  {
   "cell_type": "markdown",
   "metadata": {},
   "source": [
    "----\n",
    "\n",
    "When there are a few outcomes, its easy to estimate the probabilities of outcomes but this becomes more tedious as the number of outcomes increases.\n",
    "\n",
    "#### Binomial distribution:\n",
    "A binomial distribution measures the probabilities of the number of successes over a given number of trials with a specified probability of success in each try. \n",
    "In the simplest scenario of a coin toss (with a fair coin), \n",
    "where the probability of getting a head with each toss is 0.50 and there are a fifty trials (you flip the coin 50 times), the binomial distribution will measure the likelihood of getting anywhere from no heads in fifty tosses \n",
    "(very unlikely) to 25 heads (most likely) to 50 heads (also very unlikely). \n",
    "If the coin is fair, the binomial distribution will be symmetric, reflecting the even odds;\n",
    "as the probabilities shift from even odds, the distribution will get more skewed. \n",
    "The figure rendered from the code cells below presents binomial distributions for two scenarios – \n",
    "one with 50% probability of success and one with a 20% probability of success.            "
   ]
  },
  {
   "cell_type": "code",
   "execution_count": null,
   "metadata": {},
   "outputs": [],
   "source": [
    "#Take a moment and read the information about this topic in R.\n",
    "help(Binomial)"
   ]
  },
  {
   "cell_type": "code",
   "execution_count": null,
   "metadata": {},
   "outputs": [],
   "source": [
    "# install.packages(\"prob\",repos=\"http://cran.us.r-project.org\")\n",
    "# library(prob)\n",
    "\n",
    "# Generate a sequence (1 to 50) of quantiles. Each quantile is a possibility of \n",
    "#success, such as 1 head, 2 heads or 25 heads, etc. \n",
    "x <- seq(1,50,by=1)\n",
    "\n",
    "# Generate probabilities for each quantile from 1 to 50 with the success probability as \n",
    "#0.2(unfair coin). There is a 20% chance of getting a head when a coin is tossed.\n",
    "y1 <- dbinom(x,50,0.2)\n",
    "\n",
    "# Generate probabilities for each quantile from 1 to 50 with success probability as \n",
    "#0.5(fair coin). There is a 50% chance of getting a head when a coin is tossed.\n",
    "y2 <- dbinom(x,50,0.5)\n",
    "\n",
    "# Create a dataframe for plotting\n",
    "df <- data.frame(x=rep(x,2), y=c(y1, y2), class=c(rep(\"y1 = 50%\", 50), rep(\"y2 = 20%\", 50)))\n",
    "head(df)\n",
    "\n",
    "library(ggplot2)\n",
    "ggplot(df, aes(x=x, y=y, color=class)) + geom_line() + theme_light()"
   ]
  },
  {
   "cell_type": "markdown",
   "metadata": {},
   "source": [
    "As the probability of success varies (from 50%), the shape of the distribution will also shift, \n",
    "becoming positively skewed for probabilities less than 50% and negatively skewed for probabilities greater than 50%."
   ]
  },
  {
   "cell_type": "markdown",
   "metadata": {},
   "source": [
    "#### The Poisson Distribution\n",
    "This is a distribution associated with “rare events”. The events might be:\n",
    "1. traffic accidents\n",
    "2. typing errors, or\n",
    "3. customers arriving in a bank\n",
    "\n",
    "Poisson distribution measures the likelihood of a number of events occurring within a given time interval, \n",
    "where the key parameter that is required is the average number of events in the given interval. \n",
    "\n",
    "**Note**: If X counts the number of events in the interval [0; t] and ${\\lambda}$ is the average number that occurs in unit time, then `X ~ pois(lambda = $\\lambda$t)`, that is,\n",
    "\n",
    "$$P(X=x) = \\mathrm{e}^{-{\\lambda}t}  \\frac{(\\lambda t)^x}{x!}$$\n",
    "\n",
    "**Example**: On the average, five cars arrive at a particular car wash every hour. Let X count the number of cars that arrive from 10AM to 11AM. Then `X ~ pois(lambda = 5)`. Also, $\\mu$ = $\\sigma^2$ = 5. What is the probability that no car arrives during this period?\n",
    "\n",
    "**Solution**: The probability that no car arrives is\n",
    "$$P(X=0) = \\mathrm{e}^{-5}  \\frac{(5)^0}{0!} = \\mathrm{e}^{-5} = 0.0067$$"
   ]
  },
  {
   "cell_type": "markdown",
   "metadata": {},
   "source": [
    "**Example: ** Suppose the car wash above is in operation from 8AM to 6PM, \n",
    "and we let Y be the number of customers that appear in this period.\n",
    "Since this period covers a total of 10 hours, from above note we get that `Y ~ pois(lambda = 5 * 10 = 50)`.\n",
    "What is the probability that there are between 48 and 50 customers, inclusive?\n",
    "\n",
    "_Solution: _ We want... \n",
    "$$P(48 \\le Y \\le 50) = P(X \\le 50) - P(X \\le 47)$$\n",
    "... Which is calculated below..."
   ]
  },
  {
   "cell_type": "code",
   "execution_count": null,
   "metadata": {},
   "outputs": [],
   "source": [
    "diff(ppois(c(47, 50), lambda = 50))"
   ]
  },
  {
   "cell_type": "code",
   "execution_count": null,
   "metadata": {},
   "outputs": [],
   "source": [
    "help(dpois)"
   ]
  },
  {
   "cell_type": "code",
   "execution_count": null,
   "metadata": {},
   "outputs": [],
   "source": [
    "x <- seq(1,20,by=1)\n",
    "\n",
    "# 2 events occuring in a time interval for a total of 20 events\n",
    "y1 <- dpois(x,2)\n",
    "\n",
    "# 4 events occuring in a time interval for a total of 20 events\n",
    "y2 <- dpois(x,4)\n",
    "\n",
    "# 10 events occuring in a time interval for a total of 20 events\n",
    "y3 <- dpois(x,10)\n",
    "\n",
    "# Create a dataframe for plotting\n",
    "df <- data.frame(x=rep(x,3), y=c(y1, y2, y3), class=c(rep(\"y1\", 20), rep(\"y2\", 20), rep(\"y3\", 20)))\n",
    "head(df)\n",
    "\n",
    "ggplot(df, aes(x=x, y=y, color=class)) + geom_line() + theme_light()"
   ]
  },
  {
   "cell_type": "markdown",
   "metadata": {},
   "source": [
    "**Negative Binomial distribution**: \n",
    "Consider the coin toss example again.\n",
    "Assume we hold the number of successes fixed at a given number and estimate the number of tries we will have before we reach the specified number of successes. \n",
    "The resulting distribution is called the negative binomial and it very closely resembles the Poisson. \n",
    "It will be more skewed to the right (positive values).\n",
    "\n",
    "We can say that X has a Negative Binomial distribution and write `X ~ nbinom(size = r; prob = p)`. \n",
    "The associated R functions are `dnbinom(x, size, prob)`, `pnbinom`, `qnbinom`, and `rnbinom`, \n",
    "which calculate the PMF, CDF, and quantile function and simulate random variates, respectively."
   ]
  },
  {
   "cell_type": "markdown",
   "metadata": {},
   "source": [
    "**Question: ** We flip a coin repeatedly and let X count the number of Tails until we get seven\n",
    "Heads. What is IP(X = 5)?\n",
    "\n",
    "**Solution: ** We know that X ~ nbinom(size = 7; prob = 1/2). In R same can be produced as below..."
   ]
  },
  {
   "cell_type": "code",
   "execution_count": null,
   "metadata": {},
   "outputs": [],
   "source": [
    "dnbinom(5, size = 7, prob = 0.5)"
   ]
  },
  {
   "cell_type": "markdown",
   "metadata": {},
   "source": [
    "**Geometric distribution**: Consider the coin toss example again. \n",
    "Rather than focus on the number of successes in **n** trials, \n",
    "assume that you were measuring the likelihood of when the first success will occur. \n",
    "For example, with a fair coin toss, there is a 50% chance that the first success will occur at the first try, \n",
    "a 25% chance that it will occur on the second try and a 12.5% chance that it will occur on the third try. \n",
    "The resulting distribution is positively skewed. This is demonstrated below with following three different probability scenarios.\n",
    "\n",
    "Suppose that we conduct [Bernoulli trials](https://en.wikipedia.org/wiki/Bernoulli_trial) repeatedly, noting the successes and failures. \n",
    "Let X be the number of failures before a success. If P(S) = p then X has PMF\n",
    "\n",
    "$$f_x(x) = p(1 - p)^x, x = 0, 1, 2 . . . $$\n",
    "\n",
    "We say that X has a Geometric distribution and we write `X ~ geom(prob = p)`. \n",
    "The associated R functions are `dgeom(x, prob)`, `pgeom`, `qgeom`, and `rhyper`,\n",
    "which give the PMF, CDF, quantile function, and simulate random variates, respectively.\n",
    "\n",
    "**Example: ** \n",
    "The Pittsburgh Steelers place kicker, Jeff Reed, made 81.2% of his attempted field goals in his career up to 2006.\n",
    "Assuming that his successive field goal attempts approximately resemble Bernoulli trials, \n",
    "find the probability that Jeff misses at least 5 field goals before his first successful goal.\n",
    "\n",
    "_Solution:_ \n",
    "If X = the number of missed goals until Jeff’s first success, then `X ~ geom(prob =0:812)` and we want $P(X \\ge 5) = P(X > 4)$. We can find this in R with..."
   ]
  },
  {
   "cell_type": "code",
   "execution_count": null,
   "metadata": {},
   "outputs": [],
   "source": [
    "pgeom(4, prob = 0.812, lower.tail = FALSE)"
   ]
  },
  {
   "cell_type": "markdown",
   "metadata": {},
   "source": [
    "Some of the content and images are referred from the following [webpage](http://people.stern.nyu.edu/adamodar/New_Home_Page/StatFile/statdistns.htm) discussing Statistical Distributions. "
   ]
  }
 ],
 "metadata": {
  "kernelspec": {
   "display_name": "R",
   "language": "R",
   "name": "ir"
  },
  "language_info": {
   "codemirror_mode": "r",
   "file_extension": ".r",
   "mimetype": "text/x-r-source",
   "name": "R",
   "pygments_lexer": "r",
   "version": "4.0.5"
  }
 },
 "nbformat": 4,
 "nbformat_minor": 2
}
