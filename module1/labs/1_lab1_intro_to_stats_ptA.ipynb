{
 "cells": [
  {
   "cell_type": "markdown",
   "metadata": {},
   "source": [
    "# Reviewing Statistics and R\n",
    "\n",
    "This is your first lab for the Introduction to Statistical and Mathematical Foundations of Data Science course. \n",
    "You can refer to chapters 1 to 3 in [intro to statistics textbook](http://onlinestatbook.com/2/index.html) book for reference. \n",
    "\n",
    "**Make sure to run the STATMATH CONTAINER.** \n",
    "\n",
    "We will begin with statistics mainly for univariate data analysis, \n",
    "covering some basic concepts like descriptive and inferential statistics and distributions.\n",
    "\n",
    "Some of the concepts may have been covered in the Intro course or boot camp; we will refresh those concepts here a little bit."
   ]
  },
  {
   "cell_type": "markdown",
   "metadata": {},
   "source": [
    "\n",
    "### Loading data\n",
    "\n",
    "Load the data `auto-mpg` into R and view the first few rows \n",
    "(including the column names (called the header)) using the following code. \n",
    "This data is about city-cycle fuel consumption based on different types of cars."
   ]
  },
  {
   "cell_type": "code",
   "execution_count": null,
   "metadata": {},
   "outputs": [],
   "source": [
    "auto_mpg <- read.csv(\"/dsa/data/all_datasets/auto-mpg/auto-mpg.csv\", header = TRUE)\n",
    "\n",
    "# how is the following different? \n",
    "\n",
    "#auto_mpg <- read.csv(\"/dsa/data/all_datasets/auto-mpg/auto-mpg.csv\", header = TRUE, stringsAsFactors=TRUE)"
   ]
  },
  {
   "cell_type": "markdown",
   "metadata": {},
   "source": [
    "We can get a quick view of some of the relevant information about the data set `auto_mpg` using head() function. \n",
    "**`head()`** shows the first six rows by default. \n",
    "Just typing the variable `auto_mpg` will return all the rows in the table which is time consuming if you are dealing with a very big dataset."
   ]
  },
  {
   "cell_type": "code",
   "execution_count": null,
   "metadata": {},
   "outputs": [],
   "source": [
    "head(auto_mpg)"
   ]
  },
  {
   "cell_type": "markdown",
   "metadata": {},
   "source": [
    "**`names()`** : The auto_mpg dataset has the column names already set. \n",
    "But in many cases, a dataset will not have headers for the columns or the names will need some formatting. \n",
    "`names()` function is helpful in manipulating the names of dataframe columns. \n",
    "It is illustrated below how you can use this command. \n",
    "\n",
    "\n",
    "`Usage: names(x) <- value`\n",
    "\n",
    "\n",
    "`names(x)`, where `x` is the input dataframe, shows the variable names of the dataframe. \n",
    "You can also modify column names using this command.\n",
    "You can assign the variable names as a vector of names. \n",
    "If the length of character vector of names is less than the number of variables in the dataframe, \n",
    "it is extended by character NAs to the length of `x`."
   ]
  },
  {
   "cell_type": "code",
   "execution_count": null,
   "metadata": {},
   "outputs": [],
   "source": [
    "names(auto_mpg)"
   ]
  },
  {
   "cell_type": "code",
   "execution_count": null,
   "metadata": {},
   "outputs": [],
   "source": [
    "#Assign the current names of auto_mpg columns to the variable 'column_names', which we \n",
    "#will use later.\n",
    "column_names=names(auto_mpg)\n",
    "column_names"
   ]
  },
  {
   "cell_type": "code",
   "execution_count": null,
   "metadata": {},
   "outputs": [],
   "source": [
    "#Modify the names of columns of auto_mpg dataset by assigning new names.\n",
    "names(auto_mpg)=c('a','b','c','d','e','f','g','h','i')\n",
    "names(auto_mpg)"
   ]
  },
  {
   "cell_type": "markdown",
   "metadata": {},
   "source": [
    "### Changing a specific column name "
   ]
  },
  {
   "cell_type": "code",
   "execution_count": null,
   "metadata": {},
   "outputs": [],
   "source": [
    "#Modify the name of first column of auto_mpg dataset.\n",
    "names(auto_mpg)[1]='z'\n"
   ]
  },
  {
   "cell_type": "code",
   "execution_count": null,
   "metadata": {},
   "outputs": [],
   "source": [
    "#Display the names of auto_mpg columns\n",
    "names(auto_mpg)"
   ]
  },
  {
   "cell_type": "code",
   "execution_count": null,
   "metadata": {},
   "outputs": [],
   "source": [
    "#Assigning the original column names back to auto_mpg dataset variables, using the variable\n",
    "#column_names we created before.\n",
    "names(auto_mpg)=column_names\n",
    "names(auto_mpg)"
   ]
  },
  {
   "cell_type": "markdown",
   "metadata": {},
   "source": [
    "\n",
    "----\n",
    "**`summary()`** \n",
    "\n",
    "`summary()` command gives a summary of each variable in the dataframe, show some descriptive statistics. \n",
    "As shown below, the command is very informative. \n",
    "It calculates the minimum value, 1st quartile, 2nd quartile(median), mean value, \n",
    "3rd quartile, and maximum values of numeric variables. \n",
    "If the variable has NA values, number of such rows with NA values is displayed too. \n",
    "\n",
    "You can use this information to quickly identify if the variables are qualitative (discrete) or quantitative (continuous). \n",
    "For example, all of the variables in auto_mpg dataset except for origin, horsepower, and car.name are continuous.  Origin is discrete; horsepower is discrete;  and `car.name` is a qualitative (nominal) variable (also discrete)."
   ]
  },
  {
   "cell_type": "code",
   "execution_count": null,
   "metadata": {},
   "outputs": [],
   "source": [
    "summary(auto_mpg)"
   ]
  },
  {
   "cell_type": "markdown",
   "metadata": {},
   "source": [
    "**Note**: Do you wonder why there is no min, max, mean, or other values given for the **horsepower variable**? \n",
    "The same is the case with car.name but it makes sense for the car.name variable. \n",
    "The horsepower variable can't have a minimum value or mean values because it has strings in it. \n",
    "Run the `str()` function to understand the difference between `horsepower` and other numeric variables.\n",
    "\n",
    "The `str()` function displays **the internal structure of an R object** and is an alternative to `summary()`. It tells you the datatype of variables, the dimensions of the dataframe, \n",
    "and also gives an overview of the kind of values each variable contains."
   ]
  },
  {
   "cell_type": "code",
   "execution_count": null,
   "metadata": {},
   "outputs": [],
   "source": [
    "str(auto_mpg)"
   ]
  },
  {
   "cell_type": "markdown",
   "metadata": {},
   "source": [
    "Horsepower is a character datatype. Character fields in the csv file are read as characters by default, but we can change that behavior by setting the `stringsAsFactors` parameter to TRUE. This will read character fields as **factors**."
   ]
  },
  {
   "cell_type": "code",
   "execution_count": null,
   "metadata": {},
   "outputs": [],
   "source": [
    "auto_mpg_fct <- read.csv(\"/dsa/data/all_datasets/auto-mpg/auto-mpg.csv\", header = TRUE, stringsAsFactors=TRUE)\n",
    "str(auto_mpg_fct)"
   ]
  },
  {
   "cell_type": "markdown",
   "metadata": {},
   "source": [
    "Now, horsepower and car.name are of `factor` datatype. \n",
    "Factor is a categorical (nominal/discrete) datatype. \n",
    " It is used for variables that take discrete values from a limited, specific set of values, so they are not continuous.\n",
    "\n",
    "The summary function would not calculate mean, median, min etc. for horsepower or car.name because they are either factor or character variables, but it would give a breakdown of the **levels** of the factor variable. \n",
    "\n",
    "Each value a factor variable can take is called a \"**level**\".\n"
   ]
  },
  {
   "cell_type": "code",
   "execution_count": null,
   "metadata": {},
   "outputs": [],
   "source": [
    "summary(auto_mpg_fct)"
   ]
  },
  {
   "cell_type": "code",
   "execution_count": null,
   "metadata": {},
   "outputs": [],
   "source": [
    "levels(auto_mpg_fct$horsepower)"
   ]
  },
  {
   "cell_type": "markdown",
   "metadata": {},
   "source": [
    "**Horsepower is not a good example of a factor variable because there is no reason for it to be a categorical type.** Since it it has missing values represented by a '?' character in the csv file, it is either read as character or factor into the data frame. \n",
    "\n",
    "Similarly, car.name is NOT a good example of a categorical variable either, because each data item has a unique name creating 369 levels. "
   ]
  },
  {
   "cell_type": "markdown",
   "metadata": {},
   "source": [
    "---\n",
    "\n",
    "## Column Access in R\n",
    "\n",
    "Recall, that column access in R is accomplished by using the __ \\$ __ operator.  \n",
    "```R\n",
    "dataframe$columnName\n",
    "```\n",
    "\n",
    "**`summary(auto_mpg$weight)`** shows summary of `weight` variable of the `auto_mpg` data."
   ]
  },
  {
   "cell_type": "code",
   "execution_count": null,
   "metadata": {},
   "outputs": [],
   "source": [
    "summary(auto_mpg$weight)"
   ]
  },
  {
   "cell_type": "markdown",
   "metadata": {},
   "source": [
    "----\n",
    "## Descriptive Statistics\n",
    "\n",
    "Descriptive statistics are used to summarize and describe data.\n",
    "If we are analyzing miles per gallon data, for example, \n",
    "a descriptive statistic might be the percentage of cars with different numbers of \n",
    "cylinders or the average miles per gallon for all cars. \n",
    "Many descriptive statistics are often used at one time to give a full picture of the data. \n",
    "\n",
    "**There are mainly two categories of descriptive statistics:**\n",
    "measures of central tendency (or averages) and measures of dispersion \n",
    "(which summarizes how spread out or dispersed the data points are). \n",
    "\n",
    "\n",
    "A variable can have many observations (data points or values) and a summary set of numbers that describe those multiple observations, such as those as shown by the `summary()` command, are descriptive statistics. \n",
    "\n",
    "There are **three important measures** of central tendency used to summarize data: the mean, the median, and the mode. \n",
    "\n",
    "\n",
    "When we talk about the **mean**, we'll be referring to the arithmetic mean as contrasted to some other means, \n",
    "such as the geometric mean or the harmonic mean, which are not used as frequently as arithmetic mean. \n",
    "The mean of a set of data is simply the sum of data observations divided by the total number of observations. \n",
    "\n",
    "The **median** of a set of ordered observations is a middle number that divides the data into two parts, \n",
    "where half of the data points are in one part and the other half in the second part. \n",
    "\n",
    "**The mean is influenced to a greater extent by extreme observations.**\n",
    "\n",
    "**So, if you notice extreme observations in your data, then perhaps a median is a better summary of data than a mean.**\n",
    "\n",
    "Income and price data generally follow this pattern, which is why census organizations report **median incomes and median prices.**\n",
    "\n",
    "Descriptive statistics are just descriptive. \n",
    "They cannot generalize anything beyond the data at hand. \n",
    "Generalizing from our data to another set of cases is dealt with in **inferential statistics**.\n",
    "\n",
    "R has built-in functions to calculate mean, median, standard deviation (a measure of the spread of data points around the mean), and other descriptive statistics.\n",
    "\n",
    "These terms should be familiar from the previous intro course or boot camp."
   ]
  },
  {
   "cell_type": "code",
   "execution_count": null,
   "metadata": {},
   "outputs": [],
   "source": [
    "#Let's run the head() command on auto_mpg to peek into the dataset.\n",
    "head(auto_mpg)"
   ]
  },
  {
   "cell_type": "markdown",
   "metadata": {},
   "source": [
    "----\n",
    "#### Mean\n",
    "The `mean()` function gives the average value of the column. \n",
    "The mean is the most basic statistic to help you understand the distribution of observations (data points) of a variable.\n",
    "    \n",
    "    Mean = Sum of all Observations / No. of Observations"
   ]
  },
  {
   "cell_type": "code",
   "execution_count": null,
   "metadata": {},
   "outputs": [],
   "source": [
    "#The paste function below is used to concatenate strings to make things readable. \n",
    "#paste concatenates strings in the order they are given as input. \n",
    "paste('Average auto displacement is:',mean(auto_mpg$displacement))\n",
    "\n",
    "# Note, that paste adds a space character between the parts when concatenating"
   ]
  },
  {
   "cell_type": "code",
   "execution_count": null,
   "metadata": {},
   "outputs": [],
   "source": [
    "#Without the paste function\n",
    "mean(auto_mpg$displacement)"
   ]
  },
  {
   "cell_type": "markdown",
   "metadata": {},
   "source": [
    "These commands tell us on an average each vehicle has a displacement of 193.42. "
   ]
  },
  {
   "cell_type": "markdown",
   "metadata": {},
   "source": [
    "#### Mode\n",
    "    \n",
    "    Mode = Most occuring value in a set of values, i.e., in a column of a dataframe.\n",
    "    \n",
    "Mode is the value that has been repeated most frequently in a set of values and is especially useful when dealing with discrete variables.\n",
    "R does not have any built-in function to compute Mode as you would expect. \n",
    "Instead, the `mode()` function returns the type or **storage mode** of the object. \n",
    "For example:\n",
    "\n",
    "_mode_(dataframe\\$columnName). "
   ]
  },
  {
   "cell_type": "code",
   "execution_count": null,
   "metadata": {},
   "outputs": [],
   "source": [
    "paste('Datatype of mpg is ',mode(auto_mpg$mpg))\n"
   ]
  },
  {
   "cell_type": "code",
   "execution_count": null,
   "metadata": {},
   "outputs": [],
   "source": [
    "#Without the paste function\n",
    "mode(auto_mpg$mpg)"
   ]
  },
  {
   "cell_type": "markdown",
   "metadata": {},
   "source": [
    "However, you can use a command like below to calculate the most frequently occuring value. \n",
    "The `table()` command tells us the distribution/count of different values of a variable. \n",
    "So, using the command below, we are able to print how often each value occurred in the dataset. "
   ]
  },
  {
   "cell_type": "code",
   "execution_count": null,
   "metadata": {},
   "outputs": [],
   "source": [
    "table(auto_mpg$mpg)"
   ]
  },
  {
   "cell_type": "markdown",
   "metadata": {},
   "source": [
    "**Note:** In the output above, the table is line-wrapping in the display\n",
    "```\n",
    "Value->   9   10   11   12   13   14 14.5   15 15.5   16 16.2 16.5 16.9   17 17.5 17.6 \n",
    "Count->   1    2    4    6   20   19    1   16    5   13    1    3    1    7    5    2 \n",
    "\n",
    "Value->   17.7   18 18.1 18.2 18.5 18.6   19 19.1 19.2 19.4 19.8 19.9   20 20.2 20.3 20.5\n",
    "Count->      1   17    2    1    3    1   12    1    3    2    1    1    9    4    1    3\n",
    "\n",
    "...\n",
    "```\n",
    "\n",
    "We see that 13 MPG occurs 20 times (13 is at position 5).\n",
    "\n",
    "**Note:** What table() is actually doing is computing a histogram of the value for the given set / column.\n",
    "\n",
    "This tells us, 13 is the most commonly occuring mileage (miles per gallon) of the vehicles. Of the 398 vehicles, 20 vehicles have 13 miles per gallon. "
   ]
  },
  {
   "cell_type": "markdown",
   "metadata": {},
   "source": [
    "This is not quite the answer we are looking for, so a little more code and we can get what we need.\n",
    "In this case we will use the `which.max()` function to ask:  \n",
    "**Which index holds the greatest value?**\n",
    "\n",
    "\n",
    "In some other languages and mathematical notation, this is often referred to as \"argmax\" for:  \n",
    "Which argument (aka index) has the maximum value?"
   ]
  },
  {
   "cell_type": "code",
   "execution_count": null,
   "metadata": {},
   "outputs": [],
   "source": [
    "#Let's use which.max with the table function to find out which value \n",
    "#occurred the most frequently in the dataset\n",
    "which.max(table(auto_mpg$mpg))"
   ]
  },
  {
   "cell_type": "code",
   "execution_count": null,
   "metadata": {},
   "outputs": [],
   "source": [
    "#And now we can combine the previous code with the paste function...\n",
    "paste(\"The mode using which.max():\",names(which.max(table(auto_mpg$mpg))))\n",
    "\n",
    "#Note: If we don't use `names()` around `which.max`, the returned value is not correct."
   ]
  },
  {
   "cell_type": "markdown",
   "metadata": {},
   "source": [
    "#### Median\n",
    "    \n",
    "    Median = Mid point of all values. \n",
    "\n",
    "Median value divides the data set into two equal halves. \n",
    "One half lies to the left of median and the other to the right. \n",
    "Median values are less affected than the mean by outliers (extreme values). \n",
    "Therefore, the median is considered an ideal choice for measuring central tendency when the data is skewed \n",
    "(when the data has outliers). \n",
    "\n",
    "R has a built-in function to calculate the median. \n",
    "Let's calculate the median for the displacement variable in the auto_mpg dataset."
   ]
  },
  {
   "cell_type": "code",
   "execution_count": null,
   "metadata": {},
   "outputs": [],
   "source": [
    "median(auto_mpg$acceleration)"
   ]
  },
  {
   "cell_type": "code",
   "execution_count": null,
   "metadata": {},
   "outputs": [],
   "source": [
    "paste(\"median: \",median(auto_mpg$acceleration))"
   ]
  },
  {
   "cell_type": "markdown",
   "metadata": {},
   "source": [
    "Of the 398 observations in the dataset, 199 observations have acceleration less than or equal to 15.5 and other 199 observations have acceleration greater than or equal to 15.5"
   ]
  },
  {
   "cell_type": "markdown",
   "metadata": {},
   "source": [
    "#### Range\n",
    "    \n",
    "    Range = (lowest value, highest value)\n",
    "    \n",
    "The range is also a measure of spread or extremal values of a variable. \n",
    "R also has a built-in function to calculate range. \n",
    "Let's calculate the range of the variable `model.year` in the auto_mpg dataset. "
   ]
  },
  {
   "cell_type": "code",
   "execution_count": null,
   "metadata": {},
   "outputs": [],
   "source": [
    "range(auto_mpg$model.year)"
   ]
  },
  {
   "cell_type": "markdown",
   "metadata": {},
   "source": [
    "So, the range of model years for cars in the dataset are from year 70 to year 82"
   ]
  },
  {
   "cell_type": "markdown",
   "metadata": {},
   "source": [
    "#### Quantile\n",
    "\n",
    "The `quantile()` function divides the data set into **4 equal parts**, based on quantity of measurements. \n",
    "The first is Quantile (Q1), the second is Quantile (Q2), the third Quantile (Q3), and the fourth quantile (Q4).\n",
    "\n",
    "Quantiles are well understood when used with box plots. \n",
    "Box plots summarize and identify the range (minimum and maximum), Q1, Q2, and Q3 of a variable."
   ]
  },
  {
   "cell_type": "code",
   "execution_count": null,
   "metadata": {},
   "outputs": [],
   "source": [
    "quantile(auto_mpg$displacement)"
   ]
  },
  {
   "cell_type": "code",
   "execution_count": null,
   "metadata": {},
   "outputs": [],
   "source": [
    "quantile(auto_mpg$model.year)"
   ]
  },
  {
   "cell_type": "markdown",
   "metadata": {},
   "source": [
    "This command is very informative as it gives minimum, maximum, 25th percentile, 50th percentile (median) and 75th percentile values of the variable. \n",
    "Quantiles are used for explaining the variance in the variable as it is less immune to outliers and explains variation better than other measures. "
   ]
  },
  {
   "cell_type": "markdown",
   "metadata": {},
   "source": [
    "#### Variance\n",
    "\n",
    "    The average of the squared differences from the mean.\n",
    "    \n",
    "Variance measures how widely the values in a variable are spread around the mean. \n",
    "If the observations vary greatly from the variable mean, the variance will be big and vice versa. \n",
    "R has built-in functions to calculate the variance so that we don't have to get into the math of it. "
   ]
  },
  {
   "cell_type": "code",
   "execution_count": null,
   "metadata": {},
   "outputs": [],
   "source": [
    "var(auto_mpg$displacement)"
   ]
  },
  {
   "cell_type": "code",
   "execution_count": null,
   "metadata": {},
   "outputs": [],
   "source": [
    "paste('variance: ', var(auto_mpg$displacement))"
   ]
  },
  {
   "cell_type": "markdown",
   "metadata": {},
   "source": [
    "The above value represents the squared error of all the displacement values. \n",
    "Variance often doesn't make much sense when trying to understand the spread of the data, as the units of variance are not the same as the units of the original data.\n",
    "However, standard deviation will give us a clearer idea of how data is spread. "
   ]
  },
  {
   "cell_type": "markdown",
   "metadata": {},
   "source": [
    "#### Standard deviation\n",
    "\n",
    "    SQRT(variance) = Standard Deviation"
   ]
  },
  {
   "cell_type": "code",
   "execution_count": null,
   "metadata": {},
   "outputs": [],
   "source": [
    "sd(auto_mpg$displacement)"
   ]
  },
  {
   "cell_type": "code",
   "execution_count": null,
   "metadata": {},
   "outputs": [],
   "source": [
    "paste(\"standard deviation: \", sd(auto_mpg$displacement))"
   ]
  },
  {
   "cell_type": "markdown",
   "metadata": {},
   "source": [
    "The values in the displacement variable have a standard deviation of 104.27. \n",
    "Recall that the mean was 193.42. \n",
    "In later lessons, the combination of mean and standard deviation can be combined to model a data population."
   ]
  },
  {
   "cell_type": "markdown",
   "metadata": {},
   "source": [
    "**Maximum, Minimum, Median, and Mean Absolute Deviation (similar to standard deviation):**\n",
    "\n",
    "We will do this using a for-loop, which is a slow process in R.  \n",
    "Inside the loop, `c()` is a generic R function that **combines** its arguments into a vector.\n",
    "\n",
    "`print()` is a generic R command that prints the contents of an object.\n",
    "\n",
    "Minimum, Maximum etc. cannot be calculated for factor data. \n",
    "So let's create a new dataframe called numeric_data with horsepower as a numeric type variable.\n",
    "We will also exclude car.name."
   ]
  },
  {
   "cell_type": "code",
   "execution_count": null,
   "metadata": {},
   "outputs": [],
   "source": [
    "#ncol is a function that returns the number of columns\n",
    "numeric_data=auto_mpg[-ncol(auto_mpg)] # take all columns except the last column\n",
    "numeric_data$horsepower = as.numeric(numeric_data$horsepower) # Convert horsepower to a numeric class"
   ]
  },
  {
   "cell_type": "markdown",
   "metadata": {},
   "source": [
    "See this link for an explanation of the sprintf() function and its syntax: https://www.gastonsanchez.com/r4strings/c-style-formatting.html"
   ]
  },
  {
   "cell_type": "code",
   "execution_count": null,
   "metadata": {},
   "outputs": [],
   "source": [
    "print(sprintf(\"%15s %10s %10s %10s %30s\",\"Column\", \"Maximum\", \"Minimum\", \"Median\",\"Mean Absolute Deviation\"))\n",
    "for(i in 1:ncol(numeric_data))\n",
    "{\n",
    "    print(sprintf(\"%15s %10.1f %10.1f %10.1f %10.1f\", \n",
    "                  names(numeric_data[i]), \n",
    "                  max(numeric_data[,i]), \n",
    "                  min(numeric_data[,i]), \n",
    "                  median(numeric_data[,i]), \n",
    "                  mad(numeric_data[,i])\n",
    "                 )) \n",
    "}\n",
    "\n",
    "#sprintf() is a wrapper for the C function sprintf, that returns a character vector containing a formatted \n",
    "#combination of text and variable values.  \n",
    "# \"%15s\" returns a string with 15 leading zeros\n",
    "# \"%10.1f\" returns a floating point number with 10 leading zeros and 1 digit after the decimal point"
   ]
  },
  {
   "cell_type": "markdown",
   "metadata": {},
   "source": [
    "The output of the cell above is inefficient but intuitive. \n",
    "We will do the same job in a more efficient fashion using the apply() command.  \n",
    "\n",
    "Notice the \"**NA**\" values for horsepower; it had missing values that are converted to NAs so the functions cannot compute numerical value for horsepower. We need to exclude the NAs from computation. \n",
    "\n",
    "Below, the \"2\" refers to columns in the x array; a \"1\" would refer to rows.\n",
    "This is because rows are the _first index_ and columns are the _second index_."
   ]
  },
  {
   "cell_type": "code",
   "execution_count": null,
   "metadata": {},
   "outputs": [],
   "source": [
    "cbind(Max=apply(numeric_data, 2, max, na.rm=TRUE), \n",
    "      Min=apply(numeric_data, 2, min, na.rm=TRUE), \n",
    "      Median=apply(numeric_data, 2, median, na.rm=TRUE), \n",
    "      Mean_Absolute_Deviation=apply(numeric_data, 2, mad, na.rm=TRUE))\n",
    "\n",
    "# cbind() takes a sequence of vector, matrix or data-frame arguments and combines by columns or rows, respectively.\n",
    "\n",
    "# apply() returns a vector /array / list of values obtained by applying a function to margins of an array or matrix.\n",
    "# The second argument in the apply function is the MARGIN argument, which, here, indicates the function is to be \n",
    "# applied to the columns (as indicated by the number \"2\".)  The third argument is the FUN argument, which specifies \n",
    "# the name of the function to be applied.\n",
    "\n",
    "# na.rm excludes the NA values so that the functions can compute numerical values. "
   ]
  },
  {
   "cell_type": "markdown",
   "metadata": {},
   "source": [
    "What does the `cbind()` function do?\n",
    "When you see functions used and you want more information, you can use the `help()` function to ask the R environment.\n",
    "\n",
    "In a similar fashion you can read the documentation of the `apply()` function as well."
   ]
  },
  {
   "cell_type": "code",
   "execution_count": null,
   "metadata": {},
   "outputs": [],
   "source": [
    "help(cbind)"
   ]
  },
  {
   "cell_type": "markdown",
   "metadata": {},
   "source": [
    "---\n",
    "\n",
    "## Variables in R\n",
    "\n",
    "In statistical inference, there are basically two treatments of variables in a dataset, **Dependent** and **Independent** variables. \n",
    "The independent variables are used to predict the dependent variable's outcome. \n",
    "For example, in our auto-mpg dataset the variable 'mpg' can be dependent, i.e., it can be predicted by other variables in the dataset.  \n",
    "\n",
    "The variables often share a correlation among themselves. \n",
    "For example, the displacement of a vehicle might be correlated to mpg. \n",
    "Small vehicles tend to have more miles per gallon compared to big vehicles with low miles per gallon. \n",
    "A correlation between a dependent variable and an independent variable doesn't mean that independent variable is causing the changes in dependent variable. \n",
    "Dependent variables change according to independent variables, but aren't necessarily caused by them. \n",
    "\n",
    "### Types of Variables:\n",
    "\n",
    "The most important distinction between variables is if they are either qualitative or quantitative. \n",
    "\n",
    "**Qualitative variables:** Variables that express a qualitative attribute such as religion, favorite movie, gender, and so on fall into this category. They are sometimes referred to as categorical or nominal variables. \n",
    "\n",
    "**Quantitative variables:** Variables that are measured in terms of numbers. \n",
    "Some examples are height, weight, and shoe size.\n",
    "\n",
    "Generally speaking, when the variable has a numeric value, we call it quantitative data. When you classify something, we call it qualitative data."
   ]
  },
  {
   "cell_type": "markdown",
   "metadata": {},
   "source": [
    "\n",
    "##### Flavors of Quantitative data:\n",
    "\n",
    "<b>Discrete variables: </b> Some measures in data are discrete and cannot be made more precise. \n",
    "For example, number of children in a family is discrete, because you are counting indivisible entities. \n",
    "You can't have 2.5 kids or 1.3 pets.\n",
    "\n",
    "<b>Continuous data: </b> Data that can be reduced to finer levels is said to be continuous in nature. \n",
    "\n",
    "### Levels of measurement\n",
    "\n",
    "Both qualitative and quantitative variables follow levels of measurement. \n",
    "There are 4 levels: nominal, ordinal, interval and ratio scaled. \n",
    "\n",
    "<b>nominal:</b> Example : car.name - since it just has car names has its values. \n",
    "More examples could be marital status, gender, religious affliation, etc.\n",
    "\n",
    "<b>ordinal:</b> Example : cylinders - increase in the number of cylinders in a car means higher horsepower. \n",
    "Number of cylinders in cars have an order. \n",
    "More examples could be ranking of soldiers, grade a student belongs to, etc.\n",
    "\n",
    "<b>interval: </b> We can classify acceleration as an interval scaled variable. \n",
    "More examples could be temperature, I.Q, etc. \n",
    "\n",
    "<b>ratio:</b> We don't have a ratio scaled variable in the auto_mpg dataset. \n",
    "An example of a ratio scaled variable could be daily calorie intake or GPA score. \n",
    "\n",
    "These levels are explained in further detail in **Chapter 1 in the [statistics online text book](http://onlinestatbook.com/2/introduction/levels_of_measurement.html)**. \n",
    "We will explore the concepts with the  _auto_mpg_ dataset columns and classify them into different kinds of variables."
   ]
  },
  {
   "cell_type": "code",
   "execution_count": null,
   "metadata": {},
   "outputs": [],
   "source": [
    "summary(auto_mpg)"
   ]
  },
  {
   "cell_type": "code",
   "execution_count": null,
   "metadata": {},
   "outputs": [],
   "source": [
    "str(auto_mpg)"
   ]
  },
  {
   "cell_type": "markdown",
   "metadata": {},
   "source": [
    "From the above summary and structure of data, we can identify what kind of variable each one is!\n",
    "\n",
    "mpg - quantitative[continuous] : \n",
    "\n",
    "      mpg data is numeric and continuous in nature.\n",
    "\n",
    "cylinders - quantitative[discrete] : \n",
    "\n",
    "      cylinders data is integer type and is discrete in nature.\n",
    "\n",
    "displacement - quantitative[continuous] : \n",
    "\n",
    "      Displacement data is numeric and continuous in nature.\n",
    "\n",
    "horsepower - quantitative[discrete] : \n",
    "\n",
    "      Horsepower data is character type and discrete in nature.\n",
    "\n",
    "weight - quantitative[continuous] : \n",
    "\n",
    "      Weight data is numeric and continuous in nature.\n",
    "\n",
    "acceleration - quantitative[continuous] : \n",
    "\n",
    "      Acceleration data is numeric and continuous in nature.\n",
    "\n",
    "model.year - quantitative[discrete] : \n",
    "\n",
    "      model.year data is numeric and is discrete with values ranging from 70 through 82.\n",
    "\n",
    "origin - quantitative[discrete] : \n",
    "\n",
    "      origin data is integer type and it's discrete in nature with levels 1, 2, 3.\n",
    "\n",
    "car.name - qualitative[nominal] : \n",
    "\n",
    "      Car names are nominal. So, it is qualitative data. \n",
    "\n",
    "For variables origin, model.year, and cylinders, the summary() doesn't give enough information to classify them as continuous or discrete. \n",
    "**You should explore the data and see the values in the dataset to characterize their level of measurement.**  "
   ]
  },
  {
   "cell_type": "markdown",
   "metadata": {},
   "source": [
    "## This concludes part A of the introductory statistics lab.  \n",
    "\n",
    "### Please take a break, then continue with [Part B](./1_lab1_intro_to_stats_ptB.ipynb)\n",
    "\n"
   ]
  }
 ],
 "metadata": {
  "kernelspec": {
   "display_name": "R",
   "language": "R",
   "name": "ir"
  },
  "language_info": {
   "codemirror_mode": "r",
   "file_extension": ".r",
   "mimetype": "text/x-r-source",
   "name": "R",
   "pygments_lexer": "r",
   "version": "4.0.5"
  }
 },
 "nbformat": 4,
 "nbformat_minor": 1
}
