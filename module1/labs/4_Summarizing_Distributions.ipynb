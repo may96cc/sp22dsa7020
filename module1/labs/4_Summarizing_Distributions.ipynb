{
 "cells": [
  {
   "cell_type": "markdown",
   "metadata": {},
   "source": [
    "## Summarizing distributions\n",
    "\n",
    "In this notebook we will look into summarizing distributions using measures of central tendency and variability. "
   ]
  },
  {
   "cell_type": "markdown",
   "metadata": {},
   "source": [
    "It is important to understand how a variable is distributed before using the variable to fit a model.\n",
    "Some of the basic summerizing metrics we will look into are measures of central tendency (mean, median, mode), measures of variability (standard deviation, variance), and percentiles.\n",
    "\n",
    "\n",
    "### Central Tendency"
   ]
  },
  {
   "cell_type": "code",
   "execution_count": null,
   "metadata": {},
   "outputs": [],
   "source": [
    "download.file(\"http://www.openintro.org/stat/data/bdims.RData\", destfile = \"bdims.RData\")\n",
    "load(\"bdims.RData\")\n",
    "\n",
    "male <- subset(bdims, sex == 1)\n",
    "female <- subset(bdims, sex == 0)"
   ]
  },
  {
   "cell_type": "code",
   "execution_count": null,
   "metadata": {},
   "outputs": [],
   "source": [
    "#Mean of the Men's height\n",
    "mean(male$hgt)\n",
    "\n",
    "#Median of the Men's height\n",
    "median(male$hgt)\n",
    "\n",
    "#R doesn't have a built in function for mode."
   ]
  },
  {
   "cell_type": "code",
   "execution_count": null,
   "metadata": {},
   "outputs": [],
   "source": [
    "paste('mean:',mean(male$hgt))\n",
    "\n",
    "paste(\"median:\",median(male$hgt))"
   ]
  },
  {
   "cell_type": "markdown",
   "metadata": {},
   "source": [
    "### Measures of Variability"
   ]
  },
  {
   "cell_type": "code",
   "execution_count": null,
   "metadata": {},
   "outputs": [],
   "source": [
    "#standard deviation of the Men's height\n",
    "sd(male$hgt)\n",
    "\n",
    "#Variance of the Men's height\n",
    "var(male$hgt)\n",
    "\n",
    "#Range of the Men's height gives lowest and highest values in distribution\n",
    "range(male$hgt)"
   ]
  },
  {
   "cell_type": "code",
   "execution_count": null,
   "metadata": {},
   "outputs": [],
   "source": [
    "paste(\"standard deviation:\",sd(male$hgt))\n",
    "\n",
    "paste('variance:',var(male$hgt))\n",
    "\n",
    "paste('Range:',range(male$hgt))"
   ]
  },
  {
   "cell_type": "markdown",
   "metadata": {},
   "source": [
    "### Percentiles\n",
    "\n",
    "A percentile is a measure indicating the value below which a given percentage of observations in a group of observations fall. \n",
    "For example, the 20th percentile is the value (or score) below which 20% of the observations may be found.\n",
    "\n",
    "We apply the R `quantile` function to compute the percentiles with the desired percentage ratios.\n",
    "\n",
    "**Note**: the name quantile comes from the prevalent use of the 25% and 75% quartiles in statistics."
   ]
  },
  {
   "cell_type": "code",
   "execution_count": null,
   "metadata": {},
   "outputs": [],
   "source": [
    "quantile(male$hgt, c(.20, .40, .90))"
   ]
  },
  {
   "cell_type": "markdown",
   "metadata": {},
   "source": [
    "## Shapes of Distribution - Measure of center and Measure of spread\n",
    "\n",
    "Understanding the shape of a distribution is an important part of any initial exploratory data analysis.\n",
    "Along with descriptive statistics like mean, standard deviation, skewness, etc. and using graphical techniques like histograms, understanding shape tells us which kind of probability density function to use to fit the model.\n",
    "Histograms provide information about multi-modal behaviour, skewness and behavior in tails. \n",
    "Here we are just dealing with normal distributions of data. \n",
    "\n",
    "The following link is available to explore different kinds of distributions. \n",
    " * https://cran.r-project.org/doc/contrib/Ricci-distributions-en.pdf\n",
    "\n",
    "We will generate some random samples for normal distribution using R statements and then plot histograms. \n",
    "Imagine we have a sample size of n=200 from a normal population whose **mean=10** and **standard deviation=2**.\n"
   ]
  },
  {
   "cell_type": "markdown",
   "metadata": {},
   "source": [
    "### Analyzing shape of distribution and measure of center"
   ]
  },
  {
   "cell_type": "code",
   "execution_count": null,
   "metadata": {},
   "outputs": [],
   "source": [
    "x.norm<-rnorm(n=200,m=10,sd=2)"
   ]
  },
  {
   "cell_type": "markdown",
   "metadata": {},
   "source": [
    "In the following code cells, we will preview some data, look at some plots of the sample and plots of the model.\n",
    "Please read the code carefully to understand how the lines of code contribute to the visual elements."
   ]
  },
  {
   "cell_type": "code",
   "execution_count": null,
   "metadata": {},
   "outputs": [],
   "source": [
    "head(x.norm, 25)"
   ]
  },
  {
   "cell_type": "code",
   "execution_count": null,
   "metadata": {},
   "outputs": [],
   "source": [
    "#calculate mean, median and sd to show them on the graph\n",
    "mean_norm <- mean(x.norm)\n",
    "median_norm = median(x.norm)\n",
    "sd_norm_pos <- mean(x.norm) + sd(x.norm)   # This is the positive first standard deviation\n",
    "sd_norm_neg <- mean(x.norm) - sd(x.norm)   # This is the negative first standard deviation"
   ]
  },
  {
   "cell_type": "code",
   "execution_count": null,
   "metadata": {},
   "outputs": [],
   "source": [
    "library(ggplot2)\n",
    "\n",
    "df <- data.frame(x=x.norm)\n",
    "\n",
    "p <- ggplot(df, aes(x=x)) + geom_histogram(aes(y=..density..),binwidth=1,fill=\"gray\", color=\"black\") + geom_density(adjust=2)\n",
    "p <- p + geom_vline(xintercept=mean_norm, color=\"blue\", size=4)\n",
    "p <- p + geom_vline(xintercept=median_norm, color=\"red\", size=1)\n",
    "p <- p + geom_vline(xintercept=sd_norm_pos, color=\"green\", size=1)\n",
    "p <- p + geom_vline(xintercept=sd_norm_neg, color=\"green\", size=1) + theme_light() \n",
    "\n",
    "p"
   ]
  },
  {
   "cell_type": "code",
   "execution_count": null,
   "metadata": {},
   "outputs": [],
   "source": [
    "#Since the prob=TRUE, we will be plotting a density plot. The y-axis represents probability density of corresponding x values\n",
    "hist(x.norm,prob=TRUE,main=\"Histogram of normal distribution\")\n",
    "#curve draws a curve corresponding to a function over the interval specified\n",
    "#dnorm function gives the density\n",
    "curve(dnorm(x, mean(x.norm), sd(x.norm)), add=TRUE, col=\"darkblue\", lwd=2)\n",
    "\n",
    "#abline() will draw a vertical line on the graph at the specified x value. \n",
    "abline(v = mean_norm, col = \"blue\", lwd =6) # draw a thick blue line at the sample mean value\n",
    "abline(v = median_norm, col = \"red\", lwd = 3) # draw a thinner red line for median.  Notice it overlaps the mean\n",
    "\n",
    "# Lines for the positive and negative first standard deviation\n",
    "abline(v = sd_norm_pos, col = \"green\", lwd = 2)\n",
    "abline(v = sd_norm_neg, col = \"green\", lwd = 2)"
   ]
  },
  {
   "cell_type": "markdown",
   "metadata": {},
   "source": [
    "The histogram above represents a normal distribution of data with the mean lying around 10 and a standard deviation of 2. \n",
    "The data is aggregated close to the mean or the center and is symmetric on both sides."
   ]
  },
  {
   "cell_type": "code",
   "execution_count": null,
   "metadata": {},
   "outputs": [],
   "source": [
    "paste('mean: ',mean(x.norm))\n",
    "paste('median: ',median(x.norm))\n",
    "paste('standard deviation: ',sd(x.norm))"
   ]
  },
  {
   "cell_type": "markdown",
   "metadata": {},
   "source": [
    "#### Left skewed data or negative skew"
   ]
  },
  {
   "cell_type": "code",
   "execution_count": null,
   "metadata": {},
   "outputs": [],
   "source": [
    "x.norm=sort(x.norm)\n",
    "#Simulating data for plotting a left skewed distribution. We are removing the higher values from the right end of the sorted list whose \n",
    "#mean is 10 and sd is 2.\n",
    "left_skewed=x.norm[1:150]"
   ]
  },
  {
   "cell_type": "code",
   "execution_count": null,
   "metadata": {},
   "outputs": [],
   "source": [
    "#The mean and median shift toward the left because the data is left skewed, but the mode does not change.\n",
    "paste('mean: ',mean(left_skewed))\n",
    "paste('median: ',median(left_skewed))"
   ]
  },
  {
   "cell_type": "code",
   "execution_count": null,
   "metadata": {},
   "outputs": [],
   "source": [
    "#We can get a histogram for this left skewed data using hist() statement\n",
    "\n",
    "hist(left_skewed,prob=TRUE,main=\"Histogram of left skewed data\")\n",
    "curve(dnorm(x, mean(left_skewed), sd(left_skewed)), add=TRUE, col=\"darkblue\", lwd=2)\n",
    "mean_left <- mean(left_skewed)\n",
    "median_left = median(left_skewed)\n",
    "abline(v = mean_left, col = \"blue\", lwd = 4)\n",
    "abline(v = median_left, col = \"red\", lwd = 4)"
   ]
  },
  {
   "cell_type": "code",
   "execution_count": null,
   "metadata": {},
   "outputs": [],
   "source": [
    "\n",
    "df2 <- data.frame(x=left_skewed)\n",
    "\n",
    "p <- ggplot(df2, aes(x=x)) + geom_histogram(aes(y=..density..),binwidth=1,fill=\"gray\", color=\"black\") + theme_light() +\n",
    "     geom_density(adjust=2) + \n",
    "     geom_vline(xintercept=mean(df2$x), color=\"blue\", size=2) + geom_vline(xintercept=median(df2$x), color=\"red\", size=2) \n",
    "\n",
    "p"
   ]
  },
  {
   "cell_type": "markdown",
   "metadata": {},
   "source": [
    "The graph has a longer tail on the left side.  The mean and median have shifted towards the left, compared to the normal distribution. "
   ]
  },
  {
   "cell_type": "markdown",
   "metadata": {},
   "source": [
    "#### Right skewed data or positive skew"
   ]
  },
  {
   "cell_type": "code",
   "execution_count": null,
   "metadata": {},
   "outputs": [],
   "source": [
    "#Simulating data for plotting a positive skewed distribution. We are removing the lower values from the left end \n",
    "#of the sorted list whose mean is 10 and sd is 2.\n",
    "\n",
    "right_skewed=x.norm[51:200]"
   ]
  },
  {
   "cell_type": "code",
   "execution_count": null,
   "metadata": {},
   "outputs": [],
   "source": [
    "# the mean and median is shifted towards right because the data is right skewed. \n",
    "\n",
    "paste('mean: ',mean(right_skewed))\n",
    "paste('median: ',median(right_skewed))"
   ]
  },
  {
   "cell_type": "code",
   "execution_count": null,
   "metadata": {},
   "outputs": [],
   "source": [
    "#Plot histogram for right skewed data\n",
    "\n",
    "hist(right_skewed,prob=TRUE,main=\"Histogram of right skewed data\")\n",
    "curve(dnorm(x, mean(right_skewed), sd(right_skewed)), add=TRUE, col=\"darkblue\", lwd=2)\n",
    "mean_right <- mean(right_skewed)\n",
    "median_right = median(right_skewed)\n",
    "abline(v = mean_right, col = \"blue\", lwd = 4)\n",
    "abline(v = median_right, col = \"red\", lwd = 4)"
   ]
  },
  {
   "cell_type": "code",
   "execution_count": null,
   "metadata": {},
   "outputs": [],
   "source": [
    "\n",
    "df2 <- data.frame(x=right_skewed)\n",
    "\n",
    "p <- ggplot(df2, aes(x=x)) + geom_histogram(aes(y=..density..),bins=8,fill=\"gray\", color=\"black\") + theme_light() +\n",
    "     geom_density(adjust=2) + \n",
    "     geom_vline(xintercept=mean(df2$x), color=\"blue\", size=2) + geom_vline(xintercept=median(df2$x), color=\"red\", size=2) \n",
    "\n",
    "p"
   ]
  },
  {
   "cell_type": "markdown",
   "metadata": {},
   "source": [
    "If the data is normally distributed/symmetrical and not skewed in either direction, \n",
    "the _mean_ would be an ideal choice if we want to measure the center.\n",
    "But if the mean is positively skewed -- the **mean** will give an overestimate of the center.  If the mean is negatively skewed, the **mean** will give an underestimate of the center. \n",
    "\n",
    "**mean**; and if the distribution is skewed in either direction the measure of center should be the **median**. \n",
    "The median would be the measure of the center that informs the center of distribution without being affected too much by the skew.\n",
    "\n",
    "Likewise, standard deviation would be the choice of measure for spread when the data is normally distributed.\n",
    "But when the data is skewed the curve is not symmetric anymore and the $\\mu + \\sigma$ and $\\mu - \\sigma$ doesn't represent the correct areas of distribution.\n",
    "\n",
    "\n",
    "The image below shows all three kinds of distributions: \n",
    "normal, left skewed, and right skewed distributions. \n",
    "Observe how the mean shifts with skewness. \n",
    "\n",
    "<img src=\"../images/Curves_Left_and_Right_skewed.JPG\"/>\n",
    "\n",
    "When the data is left skewed, the mean shifts towards the left,\n",
    "so the distribution of data  measured as \n",
    "($\\mu - 3\\sigma$ , $\\mu - 2\\sigma$ , $\\mu - \\sigma$ , $\\mu + \\sigma$ , $\\mu + 2\\sigma$ , $\\mu + 3\\sigma$) \n",
    "will give incorrect results. \n",
    "Inter-quartile range is the choice of measure of spread when data is skewed like this. \n",
    "The quartile range tells you the spread, no matter how much the data is skewed.  \n",
    "\n",
    "Look at the distributions below when data is skewed and how mean, median, and mode shift with skewness. \n",
    "\n",
    "<img src=\"../images/left_skewed.JPG\"/>\n",
    "\n",
    "\n",
    "<img src=\"../images/right_skewed.JPG\"/>"
   ]
  },
  {
   "cell_type": "markdown",
   "metadata": {},
   "source": [
    "Additionally, we can observe changes in the associated quartile range marks for these three distributions."
   ]
  },
  {
   "cell_type": "code",
   "execution_count": null,
   "metadata": {},
   "outputs": [],
   "source": [
    "# Inter-quartile range of normally distributed data\n",
    "\n",
    "quantile(x.norm)"
   ]
  },
  {
   "cell_type": "code",
   "execution_count": null,
   "metadata": {},
   "outputs": [],
   "source": [
    "# Inter quartile range of left_skewed data\n",
    "\n",
    "quantile(left_skewed)"
   ]
  },
  {
   "cell_type": "code",
   "execution_count": null,
   "metadata": {},
   "outputs": [],
   "source": [
    "# Inter quartile range of right_skewed data\n",
    "\n",
    "quantile(right_skewed)"
   ]
  },
  {
   "cell_type": "markdown",
   "metadata": {},
   "source": [
    "## Measures of Skewness\n",
    "\n",
    "Different shapes of distributions differ in skew and/or kurtosis. \n",
    "For a highly-skewed distribution, the mean can vary more than twice the amount of the median. \n",
    "Skewness can be calculated using this simple equation (Pearson): \n",
    "\n",
    "<img src='../images/pearson_skew.gif'/>"
   ]
  },
  {
   "cell_type": "markdown",
   "metadata": {},
   "source": [
    "### Skewness\n",
    "\n",
    "Let's calculate the skewness of the **left-skewed** data"
   ]
  },
  {
   "cell_type": "code",
   "execution_count": null,
   "metadata": {},
   "outputs": [],
   "source": [
    "library(moments)\n",
    "skewness(left_skewed)\n"
   ]
  },
  {
   "cell_type": "markdown",
   "metadata": {},
   "source": [
    "The skewness we got should be around -0.74\n",
    "(but don't worry if it is different; it will be every time the notebook is rerun from the top). \n",
    "The negative value implies that the distribution of the data is slightly skewed to the left or negatively skewed."
   ]
  },
  {
   "cell_type": "markdown",
   "metadata": {},
   "source": [
    "Let's calculate the skewness of the **right-skewed** data"
   ]
  },
  {
   "cell_type": "code",
   "execution_count": null,
   "metadata": {},
   "outputs": [],
   "source": [
    "skewness(right_skewed)"
   ]
  },
  {
   "cell_type": "markdown",
   "metadata": {},
   "source": [
    "The skewness we got should be around 0.75, nearly opposite of what we got for left-skewed data.\n",
    "The positive value implies that the distribution of the data is slightly skewed to the right or positively skewed.\n",
    "\n",
    "**Note**: Output from the prior two cells necessarily varies due to the random number generation used when creating our initial data sample of 200."
   ]
  },
  {
   "cell_type": "code",
   "execution_count": null,
   "metadata": {},
   "outputs": [],
   "source": [
    "auto_mpg <- read.csv(\"/dsa/data/all_datasets/auto-mpg/auto-mpg.csv\", header = T, sep=\",\")\n",
    "head(auto_mpg)"
   ]
  },
  {
   "cell_type": "code",
   "execution_count": null,
   "metadata": {},
   "outputs": [],
   "source": [
    "dim(auto_mpg)\n",
    "mean(auto_mpg$displacement)\n",
    "sd(auto_mpg$displacement)"
   ]
  },
  {
   "cell_type": "code",
   "execution_count": null,
   "metadata": {},
   "outputs": [],
   "source": [
    "options(scipen=999)\n",
    "x.norm<-rnorm(n=398,m=193.4,sd=104.2)"
   ]
  },
  {
   "cell_type": "code",
   "execution_count": null,
   "metadata": {},
   "outputs": [],
   "source": [
    "#Since the prob=TRUE, we will be plotting a density plot. The y-axis represents probability density of \n",
    "# corresponding x values\n",
    "hist(auto_mpg$displacement,prob=TRUE,main=\"Histogram of normal distribution\")\n",
    "#curve draws a curve corresponding to a function over the interval specified\n",
    "curve(dnorm(x, mean(x.norm), sd(x.norm)), add=TRUE, col=\"darkblue\", lwd=2)\n",
    "\n",
    "#calculate mean, median and sd to show them on the graph\n",
    "mean_norm <- mean(x.norm)\n",
    "median_norm = median(x.norm)\n",
    "sd_norm=sd(x.norm)\n",
    "#abline() will draw a vertical line on the graph at the specified x value. \n",
    "abline(v = mean_norm, col = \"blue\", lwd = 2)\n",
    "abline(v = median_norm, col = \"red\", lwd = 2)\n",
    "abline(v = sd_norm, col = \"green\", lwd = 2)"
   ]
  },
  {
   "cell_type": "code",
   "execution_count": null,
   "metadata": {},
   "outputs": [],
   "source": [
    "mean(as.numeric(auto_mpg$horsepower), na.rm=TRUE)\n",
    "sd(as.numeric(auto_mpg$horsepower), na.rm=TRUE)\n",
    "x.norm<-rnorm(n=398,m=51.4,sd=29.93)"
   ]
  },
  {
   "cell_type": "code",
   "execution_count": null,
   "metadata": {},
   "outputs": [],
   "source": [
    "#Since the prob=TRUE, we will be plotting a density plot. The y-axis represents probability density of \n",
    "# corresponding x values\n",
    "hist(as.numeric(auto_mpg$horsepower),prob=TRUE,main=\"Histogram of normal distribution\")\n",
    "#curve draws a curve corresponding to a function over the interval specified\n",
    "curve(dnorm(x, mean(x.norm), sd(x.norm)), add=TRUE, col=\"darkblue\", lwd=2)\n",
    "\n",
    "#calculate mean, median and sd to show them on the graph\n",
    "mean_norm <- mean(x.norm)\n",
    "median_norm = median(x.norm)\n",
    "sd_norm=sd(x.norm)\n",
    "#abline() will draw a vertical line on the graph at the specified x value. \n",
    "abline(v = mean_norm, col = \"blue\", lwd = 2)\n",
    "abline(v = median_norm, col = \"red\", lwd = 2)\n",
    "abline(v = sd_norm, col = \"green\", lwd = 2)"
   ]
  },
  {
   "cell_type": "markdown",
   "metadata": {},
   "source": [
    "### This concludes the lab on summarizing distributions."
   ]
  }
 ],
 "metadata": {
  "kernelspec": {
   "display_name": "R",
   "language": "R",
   "name": "ir"
  },
  "language_info": {
   "codemirror_mode": "r",
   "file_extension": ".r",
   "mimetype": "text/x-r-source",
   "name": "R",
   "pygments_lexer": "r",
   "version": "4.0.5"
  }
 },
 "nbformat": 4,
 "nbformat_minor": 2
}
