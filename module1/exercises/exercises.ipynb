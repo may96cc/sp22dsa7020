{
 "cells": [
  {
   "cell_type": "markdown",
   "metadata": {},
   "source": [
    "# Intro to statistics with `R`\n",
    "\n",
    "This is your first exercise notebook. \n",
    "The exercises are similar to what you have seen in lab and practice notebook with a few exercises designed to be a bit challenging. \n",
    "You should explore and find commands to solve the exercises.   \n",
    "\n",
    "Much of the content will be similar to your lab and practice notebook. \n",
    "Both notebooks will help you as a guide post in working out the solutions. "
   ]
  },
  {
   "cell_type": "markdown",
   "metadata": {},
   "source": [
    "## Read in the Data\n",
    "\n",
    "For this exercise we will use some Bike Share data."
   ]
  },
  {
   "cell_type": "code",
   "execution_count": 3,
   "metadata": {},
   "outputs": [],
   "source": [
    "bikeshare_hour <- read.csv('/dsa/data/all_datasets/bikeshare/hour.csv')"
   ]
  },
  {
   "cell_type": "markdown",
   "metadata": {},
   "source": [
    "**Activity 1**: Find the dimensions (the number of rows and columns) of the data frame."
   ]
  },
  {
   "cell_type": "code",
   "execution_count": 4,
   "metadata": {},
   "outputs": [
    {
     "data": {
      "text/html": [
       "<style>\n",
       ".list-inline {list-style: none; margin:0; padding: 0}\n",
       ".list-inline>li {display: inline-block}\n",
       ".list-inline>li:not(:last-child)::after {content: \"\\00b7\"; padding: 0 .5ex}\n",
       "</style>\n",
       "<ol class=list-inline><li>17379</li><li>17</li></ol>\n"
      ],
      "text/latex": [
       "\\begin{enumerate*}\n",
       "\\item 17379\n",
       "\\item 17\n",
       "\\end{enumerate*}\n"
      ],
      "text/markdown": [
       "1. 17379\n",
       "2. 17\n",
       "\n",
       "\n"
      ],
      "text/plain": [
       "[1] 17379    17"
      ]
     },
     "metadata": {},
     "output_type": "display_data"
    }
   ],
   "source": [
    "dim(bikeshare_hour)\n"
   ]
  },
  {
   "cell_type": "markdown",
   "metadata": {},
   "source": [
    "**Activity 2**: Display the ***last*** 10 rows of the data frame."
   ]
  },
  {
   "cell_type": "code",
   "execution_count": 5,
   "metadata": {},
   "outputs": [
    {
     "data": {
      "text/html": [
       "<table class=\"dataframe\">\n",
       "<caption>A data.frame: 10 × 17</caption>\n",
       "<thead>\n",
       "\t<tr><th></th><th scope=col>instant</th><th scope=col>dteday</th><th scope=col>season</th><th scope=col>yr</th><th scope=col>mnth</th><th scope=col>hr</th><th scope=col>holiday</th><th scope=col>weekday</th><th scope=col>workingday</th><th scope=col>weathersit</th><th scope=col>temp</th><th scope=col>atemp</th><th scope=col>hum</th><th scope=col>windspeed</th><th scope=col>casual</th><th scope=col>registered</th><th scope=col>cnt</th></tr>\n",
       "\t<tr><th></th><th scope=col>&lt;int&gt;</th><th scope=col>&lt;chr&gt;</th><th scope=col>&lt;int&gt;</th><th scope=col>&lt;int&gt;</th><th scope=col>&lt;int&gt;</th><th scope=col>&lt;int&gt;</th><th scope=col>&lt;int&gt;</th><th scope=col>&lt;int&gt;</th><th scope=col>&lt;int&gt;</th><th scope=col>&lt;int&gt;</th><th scope=col>&lt;dbl&gt;</th><th scope=col>&lt;dbl&gt;</th><th scope=col>&lt;dbl&gt;</th><th scope=col>&lt;dbl&gt;</th><th scope=col>&lt;int&gt;</th><th scope=col>&lt;int&gt;</th><th scope=col>&lt;int&gt;</th></tr>\n",
       "</thead>\n",
       "<tbody>\n",
       "\t<tr><th scope=row>17370</th><td>17370</td><td>2012-12-31</td><td>1</td><td>1</td><td>12</td><td>14</td><td>0</td><td>1</td><td>1</td><td>2</td><td>0.28</td><td>0.2727</td><td>0.45</td><td>0.2239</td><td>62</td><td>185</td><td>247</td></tr>\n",
       "\t<tr><th scope=row>17371</th><td>17371</td><td>2012-12-31</td><td>1</td><td>1</td><td>12</td><td>15</td><td>0</td><td>1</td><td>1</td><td>2</td><td>0.28</td><td>0.2879</td><td>0.45</td><td>0.1343</td><td>69</td><td>246</td><td>315</td></tr>\n",
       "\t<tr><th scope=row>17372</th><td>17372</td><td>2012-12-31</td><td>1</td><td>1</td><td>12</td><td>16</td><td>0</td><td>1</td><td>1</td><td>2</td><td>0.26</td><td>0.2576</td><td>0.48</td><td>0.1940</td><td>30</td><td>184</td><td>214</td></tr>\n",
       "\t<tr><th scope=row>17373</th><td>17373</td><td>2012-12-31</td><td>1</td><td>1</td><td>12</td><td>17</td><td>0</td><td>1</td><td>1</td><td>2</td><td>0.26</td><td>0.2879</td><td>0.48</td><td>0.0896</td><td>14</td><td>150</td><td>164</td></tr>\n",
       "\t<tr><th scope=row>17374</th><td>17374</td><td>2012-12-31</td><td>1</td><td>1</td><td>12</td><td>18</td><td>0</td><td>1</td><td>1</td><td>2</td><td>0.26</td><td>0.2727</td><td>0.48</td><td>0.1343</td><td>10</td><td>112</td><td>122</td></tr>\n",
       "\t<tr><th scope=row>17375</th><td>17375</td><td>2012-12-31</td><td>1</td><td>1</td><td>12</td><td>19</td><td>0</td><td>1</td><td>1</td><td>2</td><td>0.26</td><td>0.2576</td><td>0.60</td><td>0.1642</td><td>11</td><td>108</td><td>119</td></tr>\n",
       "\t<tr><th scope=row>17376</th><td>17376</td><td>2012-12-31</td><td>1</td><td>1</td><td>12</td><td>20</td><td>0</td><td>1</td><td>1</td><td>2</td><td>0.26</td><td>0.2576</td><td>0.60</td><td>0.1642</td><td> 8</td><td> 81</td><td> 89</td></tr>\n",
       "\t<tr><th scope=row>17377</th><td>17377</td><td>2012-12-31</td><td>1</td><td>1</td><td>12</td><td>21</td><td>0</td><td>1</td><td>1</td><td>1</td><td>0.26</td><td>0.2576</td><td>0.60</td><td>0.1642</td><td> 7</td><td> 83</td><td> 90</td></tr>\n",
       "\t<tr><th scope=row>17378</th><td>17378</td><td>2012-12-31</td><td>1</td><td>1</td><td>12</td><td>22</td><td>0</td><td>1</td><td>1</td><td>1</td><td>0.26</td><td>0.2727</td><td>0.56</td><td>0.1343</td><td>13</td><td> 48</td><td> 61</td></tr>\n",
       "\t<tr><th scope=row>17379</th><td>17379</td><td>2012-12-31</td><td>1</td><td>1</td><td>12</td><td>23</td><td>0</td><td>1</td><td>1</td><td>1</td><td>0.26</td><td>0.2727</td><td>0.65</td><td>0.1343</td><td>12</td><td> 37</td><td> 49</td></tr>\n",
       "</tbody>\n",
       "</table>\n"
      ],
      "text/latex": [
       "A data.frame: 10 × 17\n",
       "\\begin{tabular}{r|lllllllllllllllll}\n",
       "  & instant & dteday & season & yr & mnth & hr & holiday & weekday & workingday & weathersit & temp & atemp & hum & windspeed & casual & registered & cnt\\\\\n",
       "  & <int> & <chr> & <int> & <int> & <int> & <int> & <int> & <int> & <int> & <int> & <dbl> & <dbl> & <dbl> & <dbl> & <int> & <int> & <int>\\\\\n",
       "\\hline\n",
       "\t17370 & 17370 & 2012-12-31 & 1 & 1 & 12 & 14 & 0 & 1 & 1 & 2 & 0.28 & 0.2727 & 0.45 & 0.2239 & 62 & 185 & 247\\\\\n",
       "\t17371 & 17371 & 2012-12-31 & 1 & 1 & 12 & 15 & 0 & 1 & 1 & 2 & 0.28 & 0.2879 & 0.45 & 0.1343 & 69 & 246 & 315\\\\\n",
       "\t17372 & 17372 & 2012-12-31 & 1 & 1 & 12 & 16 & 0 & 1 & 1 & 2 & 0.26 & 0.2576 & 0.48 & 0.1940 & 30 & 184 & 214\\\\\n",
       "\t17373 & 17373 & 2012-12-31 & 1 & 1 & 12 & 17 & 0 & 1 & 1 & 2 & 0.26 & 0.2879 & 0.48 & 0.0896 & 14 & 150 & 164\\\\\n",
       "\t17374 & 17374 & 2012-12-31 & 1 & 1 & 12 & 18 & 0 & 1 & 1 & 2 & 0.26 & 0.2727 & 0.48 & 0.1343 & 10 & 112 & 122\\\\\n",
       "\t17375 & 17375 & 2012-12-31 & 1 & 1 & 12 & 19 & 0 & 1 & 1 & 2 & 0.26 & 0.2576 & 0.60 & 0.1642 & 11 & 108 & 119\\\\\n",
       "\t17376 & 17376 & 2012-12-31 & 1 & 1 & 12 & 20 & 0 & 1 & 1 & 2 & 0.26 & 0.2576 & 0.60 & 0.1642 &  8 &  81 &  89\\\\\n",
       "\t17377 & 17377 & 2012-12-31 & 1 & 1 & 12 & 21 & 0 & 1 & 1 & 1 & 0.26 & 0.2576 & 0.60 & 0.1642 &  7 &  83 &  90\\\\\n",
       "\t17378 & 17378 & 2012-12-31 & 1 & 1 & 12 & 22 & 0 & 1 & 1 & 1 & 0.26 & 0.2727 & 0.56 & 0.1343 & 13 &  48 &  61\\\\\n",
       "\t17379 & 17379 & 2012-12-31 & 1 & 1 & 12 & 23 & 0 & 1 & 1 & 1 & 0.26 & 0.2727 & 0.65 & 0.1343 & 12 &  37 &  49\\\\\n",
       "\\end{tabular}\n"
      ],
      "text/markdown": [
       "\n",
       "A data.frame: 10 × 17\n",
       "\n",
       "| <!--/--> | instant &lt;int&gt; | dteday &lt;chr&gt; | season &lt;int&gt; | yr &lt;int&gt; | mnth &lt;int&gt; | hr &lt;int&gt; | holiday &lt;int&gt; | weekday &lt;int&gt; | workingday &lt;int&gt; | weathersit &lt;int&gt; | temp &lt;dbl&gt; | atemp &lt;dbl&gt; | hum &lt;dbl&gt; | windspeed &lt;dbl&gt; | casual &lt;int&gt; | registered &lt;int&gt; | cnt &lt;int&gt; |\n",
       "|---|---|---|---|---|---|---|---|---|---|---|---|---|---|---|---|---|---|\n",
       "| 17370 | 17370 | 2012-12-31 | 1 | 1 | 12 | 14 | 0 | 1 | 1 | 2 | 0.28 | 0.2727 | 0.45 | 0.2239 | 62 | 185 | 247 |\n",
       "| 17371 | 17371 | 2012-12-31 | 1 | 1 | 12 | 15 | 0 | 1 | 1 | 2 | 0.28 | 0.2879 | 0.45 | 0.1343 | 69 | 246 | 315 |\n",
       "| 17372 | 17372 | 2012-12-31 | 1 | 1 | 12 | 16 | 0 | 1 | 1 | 2 | 0.26 | 0.2576 | 0.48 | 0.1940 | 30 | 184 | 214 |\n",
       "| 17373 | 17373 | 2012-12-31 | 1 | 1 | 12 | 17 | 0 | 1 | 1 | 2 | 0.26 | 0.2879 | 0.48 | 0.0896 | 14 | 150 | 164 |\n",
       "| 17374 | 17374 | 2012-12-31 | 1 | 1 | 12 | 18 | 0 | 1 | 1 | 2 | 0.26 | 0.2727 | 0.48 | 0.1343 | 10 | 112 | 122 |\n",
       "| 17375 | 17375 | 2012-12-31 | 1 | 1 | 12 | 19 | 0 | 1 | 1 | 2 | 0.26 | 0.2576 | 0.60 | 0.1642 | 11 | 108 | 119 |\n",
       "| 17376 | 17376 | 2012-12-31 | 1 | 1 | 12 | 20 | 0 | 1 | 1 | 2 | 0.26 | 0.2576 | 0.60 | 0.1642 |  8 |  81 |  89 |\n",
       "| 17377 | 17377 | 2012-12-31 | 1 | 1 | 12 | 21 | 0 | 1 | 1 | 1 | 0.26 | 0.2576 | 0.60 | 0.1642 |  7 |  83 |  90 |\n",
       "| 17378 | 17378 | 2012-12-31 | 1 | 1 | 12 | 22 | 0 | 1 | 1 | 1 | 0.26 | 0.2727 | 0.56 | 0.1343 | 13 |  48 |  61 |\n",
       "| 17379 | 17379 | 2012-12-31 | 1 | 1 | 12 | 23 | 0 | 1 | 1 | 1 | 0.26 | 0.2727 | 0.65 | 0.1343 | 12 |  37 |  49 |\n",
       "\n"
      ],
      "text/plain": [
       "      instant dteday     season yr mnth hr holiday weekday workingday\n",
       "17370 17370   2012-12-31 1      1  12   14 0       1       1         \n",
       "17371 17371   2012-12-31 1      1  12   15 0       1       1         \n",
       "17372 17372   2012-12-31 1      1  12   16 0       1       1         \n",
       "17373 17373   2012-12-31 1      1  12   17 0       1       1         \n",
       "17374 17374   2012-12-31 1      1  12   18 0       1       1         \n",
       "17375 17375   2012-12-31 1      1  12   19 0       1       1         \n",
       "17376 17376   2012-12-31 1      1  12   20 0       1       1         \n",
       "17377 17377   2012-12-31 1      1  12   21 0       1       1         \n",
       "17378 17378   2012-12-31 1      1  12   22 0       1       1         \n",
       "17379 17379   2012-12-31 1      1  12   23 0       1       1         \n",
       "      weathersit temp atemp  hum  windspeed casual registered cnt\n",
       "17370 2          0.28 0.2727 0.45 0.2239    62     185        247\n",
       "17371 2          0.28 0.2879 0.45 0.1343    69     246        315\n",
       "17372 2          0.26 0.2576 0.48 0.1940    30     184        214\n",
       "17373 2          0.26 0.2879 0.48 0.0896    14     150        164\n",
       "17374 2          0.26 0.2727 0.48 0.1343    10     112        122\n",
       "17375 2          0.26 0.2576 0.60 0.1642    11     108        119\n",
       "17376 2          0.26 0.2576 0.60 0.1642     8      81         89\n",
       "17377 1          0.26 0.2576 0.60 0.1642     7      83         90\n",
       "17378 1          0.26 0.2727 0.56 0.1343    13      48         61\n",
       "17379 1          0.26 0.2727 0.65 0.1343    12      37         49"
      ]
     },
     "metadata": {},
     "output_type": "display_data"
    }
   ],
   "source": [
    "# Code for Activity 2 goes here \n",
    "# ------------------------------\n",
    "tail(bikeshare_hour, 10)"
   ]
  },
  {
   "cell_type": "markdown",
   "metadata": {},
   "source": [
    "**Activity 3**: Run summary command learned in lab and identify **each variable** if it is discrete or continuous."
   ]
  },
  {
   "cell_type": "code",
   "execution_count": 6,
   "metadata": {},
   "outputs": [
    {
     "data": {
      "text/plain": [
       "    instant         dteday              season            yr        \n",
       " Min.   :    1   Length:17379       Min.   :1.000   Min.   :0.0000  \n",
       " 1st Qu.: 4346   Class :character   1st Qu.:2.000   1st Qu.:0.0000  \n",
       " Median : 8690   Mode  :character   Median :3.000   Median :1.0000  \n",
       " Mean   : 8690                      Mean   :2.502   Mean   :0.5026  \n",
       " 3rd Qu.:13034                      3rd Qu.:3.000   3rd Qu.:1.0000  \n",
       " Max.   :17379                      Max.   :4.000   Max.   :1.0000  \n",
       "      mnth              hr           holiday           weekday     \n",
       " Min.   : 1.000   Min.   : 0.00   Min.   :0.00000   Min.   :0.000  \n",
       " 1st Qu.: 4.000   1st Qu.: 6.00   1st Qu.:0.00000   1st Qu.:1.000  \n",
       " Median : 7.000   Median :12.00   Median :0.00000   Median :3.000  \n",
       " Mean   : 6.538   Mean   :11.55   Mean   :0.02877   Mean   :3.004  \n",
       " 3rd Qu.:10.000   3rd Qu.:18.00   3rd Qu.:0.00000   3rd Qu.:5.000  \n",
       " Max.   :12.000   Max.   :23.00   Max.   :1.00000   Max.   :6.000  \n",
       "   workingday       weathersit         temp           atemp       \n",
       " Min.   :0.0000   Min.   :1.000   Min.   :0.020   Min.   :0.0000  \n",
       " 1st Qu.:0.0000   1st Qu.:1.000   1st Qu.:0.340   1st Qu.:0.3333  \n",
       " Median :1.0000   Median :1.000   Median :0.500   Median :0.4848  \n",
       " Mean   :0.6827   Mean   :1.425   Mean   :0.497   Mean   :0.4758  \n",
       " 3rd Qu.:1.0000   3rd Qu.:2.000   3rd Qu.:0.660   3rd Qu.:0.6212  \n",
       " Max.   :1.0000   Max.   :4.000   Max.   :1.000   Max.   :1.0000  \n",
       "      hum           windspeed          casual         registered   \n",
       " Min.   :0.0000   Min.   :0.0000   Min.   :  0.00   Min.   :  0.0  \n",
       " 1st Qu.:0.4800   1st Qu.:0.1045   1st Qu.:  4.00   1st Qu.: 34.0  \n",
       " Median :0.6300   Median :0.1940   Median : 17.00   Median :115.0  \n",
       " Mean   :0.6272   Mean   :0.1901   Mean   : 35.68   Mean   :153.8  \n",
       " 3rd Qu.:0.7800   3rd Qu.:0.2537   3rd Qu.: 48.00   3rd Qu.:220.0  \n",
       " Max.   :1.0000   Max.   :0.8507   Max.   :367.00   Max.   :886.0  \n",
       "      cnt       \n",
       " Min.   :  1.0  \n",
       " 1st Qu.: 40.0  \n",
       " Median :142.0  \n",
       " Mean   :189.5  \n",
       " 3rd Qu.:281.0  \n",
       " Max.   :977.0  "
      ]
     },
     "metadata": {},
     "output_type": "display_data"
    }
   ],
   "source": [
    "# Code for Activity 3 goes here \n",
    "# ------------------------------\n",
    "summary(bikeshare_hour)"
   ]
  },
  {
   "cell_type": "code",
   "execution_count": 7,
   "metadata": {},
   "outputs": [
    {
     "name": "stdout",
     "output_type": "stream",
     "text": [
      "'data.frame':\t17379 obs. of  17 variables:\n",
      " $ instant   : int  1 2 3 4 5 6 7 8 9 10 ...\n",
      " $ dteday    : chr  \"2011-01-01\" \"2011-01-01\" \"2011-01-01\" \"2011-01-01\" ...\n",
      " $ season    : int  1 1 1 1 1 1 1 1 1 1 ...\n",
      " $ yr        : int  0 0 0 0 0 0 0 0 0 0 ...\n",
      " $ mnth      : int  1 1 1 1 1 1 1 1 1 1 ...\n",
      " $ hr        : int  0 1 2 3 4 5 6 7 8 9 ...\n",
      " $ holiday   : int  0 0 0 0 0 0 0 0 0 0 ...\n",
      " $ weekday   : int  6 6 6 6 6 6 6 6 6 6 ...\n",
      " $ workingday: int  0 0 0 0 0 0 0 0 0 0 ...\n",
      " $ weathersit: int  1 1 1 1 1 2 1 1 1 1 ...\n",
      " $ temp      : num  0.24 0.22 0.22 0.24 0.24 0.24 0.22 0.2 0.24 0.32 ...\n",
      " $ atemp     : num  0.288 0.273 0.273 0.288 0.288 ...\n",
      " $ hum       : num  0.81 0.8 0.8 0.75 0.75 0.75 0.8 0.86 0.75 0.76 ...\n",
      " $ windspeed : num  0 0 0 0 0 0.0896 0 0 0 0 ...\n",
      " $ casual    : int  3 8 5 3 0 0 2 1 1 8 ...\n",
      " $ registered: int  13 32 27 10 1 1 0 2 7 6 ...\n",
      " $ cnt       : int  16 40 32 13 1 1 2 3 8 14 ...\n"
     ]
    }
   ],
   "source": [
    "str(bikeshare_hour)"
   ]
  },
  {
   "cell_type": "code",
   "execution_count": 8,
   "metadata": {},
   "outputs": [
    {
     "ename": "ERROR",
     "evalue": "Error in eval(expr, envir, enclos): object 'instant' not found\n",
     "output_type": "error",
     "traceback": [
      "Error in eval(expr, envir, enclos): object 'instant' not found\nTraceback:\n"
     ]
    }
   ],
   "source": [
    "instant - continuous\n",
    "dtedat - continuous \n",
    "season - discrete \n",
    "yr - discrete\n",
    "month - discrete \n",
    "hr - discrete \n",
    "holdiay - discrete \n",
    "weekday - discrete \n",
    "workingday - discrete \n",
    "weathersit - discrete \n",
    "temp - continuous \n",
    "atemp - continuous\n",
    "hum - continuous \n",
    "windspeed - continuous \n",
    "casual - discrete \n",
    "registered - discrete \n",
    "cnt - discrete "
   ]
  },
  {
   "cell_type": "markdown",
   "metadata": {},
   "source": [
    "**So what is the most common type of weather that happens?**\n",
    "\n",
    "**Activity 4**: Find out the most common type of weather that occurs in the dataset."
   ]
  },
  {
   "cell_type": "code",
   "execution_count": 9,
   "metadata": {},
   "outputs": [
    {
     "data": {
      "text/html": [
       "<strong>1:</strong> 1"
      ],
      "text/latex": [
       "\\textbf{1:} 1"
      ],
      "text/markdown": [
       "**1:** 1"
      ],
      "text/plain": [
       "1 \n",
       "1 "
      ]
     },
     "metadata": {},
     "output_type": "display_data"
    }
   ],
   "source": [
    "# Code for Activity 4 goes here\n",
    "# -------------------------------    \n",
    "which.max(table(bikeshare_hour$weathersit))\n"
   ]
  },
  {
   "cell_type": "markdown",
   "metadata": {},
   "source": [
    "We have seen how to calculate z-score in the lab and how to use it in testing a hypothesis. \n",
    "Let’s say, we want to check the significance of variable `weekday` for hypothesis testing. \n",
    "Assuming monday(weekday=1) has more bike shares than average population bike shares on any other day\n",
    "\n",
    "\n",
    "Null hypothesis $H_0$:   \n",
    "There is no significant difference in the number of bike shares for Monday versus any other day of the week.\n",
    "\n",
    "Alternate hypothesis $H_1$:  \n",
    "There is a better chance of monday having more bike shares on average than average bike shares on other days.\n",
    "\n",
    "**Activity 5.a**: Calculate the z-score based on `weekday` variable."
   ]
  },
  {
   "cell_type": "code",
   "execution_count": 11,
   "metadata": {},
   "outputs": [
    {
     "name": "stderr",
     "output_type": "stream",
     "text": [
      "\n",
      "Attaching package: ‘dplyr’\n",
      "\n",
      "\n",
      "The following objects are masked from ‘package:stats’:\n",
      "\n",
      "    filter, lag\n",
      "\n",
      "\n",
      "The following objects are masked from ‘package:base’:\n",
      "\n",
      "    intersect, setdiff, setequal, union\n",
      "\n",
      "\n"
     ]
    },
    {
     "name": "stdout",
     "output_type": "stream",
     "text": [
      "[1] \"sample mean :  183.744655102864\"\n",
      "[1] \"population mean :  189.463087634501\"\n",
      "[1] \"population variance :  32901.4611043111\"\n",
      "[1] \"Z-score :  -0.0315260390471415\"\n"
     ]
    }
   ],
   "source": [
    "# Code for Activity 5 goes here\n",
    "# -------------------------------    \n",
    "library(dplyr)\n",
    "\n",
    "mon <- subset(bikeshare_hour, weekday == 1)\n",
    "nonmon <- subset(bikeshare_hour, weekday != 1)\n",
    "\n",
    "sample_mean = mean(mon$cnt)\n",
    "pop_mean = mean(bikeshare_hour$cnt)\n",
    "pop_var = var(bikeshare_hour$cnt)\n",
    "zscore = (sample_mean - pop_mean) / (sqrt(pop_var))\n",
    "\n",
    " print(paste(\"sample mean : \",sample_mean))\n",
    " print(paste(\"population mean : \",pop_mean))\n",
    " print(paste(\"population variance : \",pop_var))\n",
    "\n",
    " print(paste(\"Z-score : \",zscore))"
   ]
  },
  {
   "cell_type": "markdown",
   "metadata": {},
   "source": [
    "**Activity 5.b**: Use the z-score obtained in 5.a to accept or reject null hypothesis $H_0$. \n",
    "Explain why it is accepted or rejected below."
   ]
  },
  {
   "cell_type": "raw",
   "metadata": {},
   "source": [
    "# Answer for activity 5.b goes here\n",
    "# -------------------------------    \n",
    " The value for counts on Monday was less than the average of counts on all day, as indicated by a z_score of -0.03. The test was not statistically significant \n",
    "\n",
    "p value - 0.9748499145\n",
    "\n",
    "\n"
   ]
  },
  {
   "cell_type": "markdown",
   "metadata": {},
   "source": [
    "Let's say we were interested in analyzing patters on weekdays and weekends. \n",
    "\n",
    "**Activity 6**: Divide the data set into two different subsets. \n",
    "All rows where the `weekday = 1,2,3,4,5` should be in one set and all days where `weekday = 0,6` should be another set.\n",
    "\n",
    "Hint: You can use `|` operator to satisfy multiple conditions in an if condition."
   ]
  },
  {
   "cell_type": "code",
   "execution_count": 12,
   "metadata": {},
   "outputs": [
    {
     "data": {
      "text/html": [
       "<table class=\"dataframe\">\n",
       "<caption>A data.frame: 6 × 17</caption>\n",
       "<thead>\n",
       "\t<tr><th></th><th scope=col>instant</th><th scope=col>dteday</th><th scope=col>season</th><th scope=col>yr</th><th scope=col>mnth</th><th scope=col>hr</th><th scope=col>holiday</th><th scope=col>weekday</th><th scope=col>workingday</th><th scope=col>weathersit</th><th scope=col>temp</th><th scope=col>atemp</th><th scope=col>hum</th><th scope=col>windspeed</th><th scope=col>casual</th><th scope=col>registered</th><th scope=col>cnt</th></tr>\n",
       "\t<tr><th></th><th scope=col>&lt;int&gt;</th><th scope=col>&lt;chr&gt;</th><th scope=col>&lt;int&gt;</th><th scope=col>&lt;int&gt;</th><th scope=col>&lt;int&gt;</th><th scope=col>&lt;int&gt;</th><th scope=col>&lt;int&gt;</th><th scope=col>&lt;int&gt;</th><th scope=col>&lt;int&gt;</th><th scope=col>&lt;int&gt;</th><th scope=col>&lt;dbl&gt;</th><th scope=col>&lt;dbl&gt;</th><th scope=col>&lt;dbl&gt;</th><th scope=col>&lt;dbl&gt;</th><th scope=col>&lt;int&gt;</th><th scope=col>&lt;int&gt;</th><th scope=col>&lt;int&gt;</th></tr>\n",
       "</thead>\n",
       "<tbody>\n",
       "\t<tr><th scope=row>48</th><td>48</td><td>2011-01-03</td><td>1</td><td>0</td><td>1</td><td>0</td><td>0</td><td>1</td><td>1</td><td>1</td><td>0.22</td><td>0.1970</td><td>0.44</td><td>0.3582</td><td>0</td><td> 5</td><td> 5</td></tr>\n",
       "\t<tr><th scope=row>49</th><td>49</td><td>2011-01-03</td><td>1</td><td>0</td><td>1</td><td>1</td><td>0</td><td>1</td><td>1</td><td>1</td><td>0.20</td><td>0.1667</td><td>0.44</td><td>0.4179</td><td>0</td><td> 2</td><td> 2</td></tr>\n",
       "\t<tr><th scope=row>50</th><td>50</td><td>2011-01-03</td><td>1</td><td>0</td><td>1</td><td>4</td><td>0</td><td>1</td><td>1</td><td>1</td><td>0.16</td><td>0.1364</td><td>0.47</td><td>0.3881</td><td>0</td><td> 1</td><td> 1</td></tr>\n",
       "\t<tr><th scope=row>51</th><td>51</td><td>2011-01-03</td><td>1</td><td>0</td><td>1</td><td>5</td><td>0</td><td>1</td><td>1</td><td>1</td><td>0.16</td><td>0.1364</td><td>0.47</td><td>0.2836</td><td>0</td><td> 3</td><td> 3</td></tr>\n",
       "\t<tr><th scope=row>52</th><td>52</td><td>2011-01-03</td><td>1</td><td>0</td><td>1</td><td>6</td><td>0</td><td>1</td><td>1</td><td>1</td><td>0.14</td><td>0.1061</td><td>0.50</td><td>0.3881</td><td>0</td><td>30</td><td>30</td></tr>\n",
       "\t<tr><th scope=row>53</th><td>53</td><td>2011-01-03</td><td>1</td><td>0</td><td>1</td><td>7</td><td>0</td><td>1</td><td>1</td><td>1</td><td>0.14</td><td>0.1364</td><td>0.50</td><td>0.1940</td><td>1</td><td>63</td><td>64</td></tr>\n",
       "</tbody>\n",
       "</table>\n"
      ],
      "text/latex": [
       "A data.frame: 6 × 17\n",
       "\\begin{tabular}{r|lllllllllllllllll}\n",
       "  & instant & dteday & season & yr & mnth & hr & holiday & weekday & workingday & weathersit & temp & atemp & hum & windspeed & casual & registered & cnt\\\\\n",
       "  & <int> & <chr> & <int> & <int> & <int> & <int> & <int> & <int> & <int> & <int> & <dbl> & <dbl> & <dbl> & <dbl> & <int> & <int> & <int>\\\\\n",
       "\\hline\n",
       "\t48 & 48 & 2011-01-03 & 1 & 0 & 1 & 0 & 0 & 1 & 1 & 1 & 0.22 & 0.1970 & 0.44 & 0.3582 & 0 &  5 &  5\\\\\n",
       "\t49 & 49 & 2011-01-03 & 1 & 0 & 1 & 1 & 0 & 1 & 1 & 1 & 0.20 & 0.1667 & 0.44 & 0.4179 & 0 &  2 &  2\\\\\n",
       "\t50 & 50 & 2011-01-03 & 1 & 0 & 1 & 4 & 0 & 1 & 1 & 1 & 0.16 & 0.1364 & 0.47 & 0.3881 & 0 &  1 &  1\\\\\n",
       "\t51 & 51 & 2011-01-03 & 1 & 0 & 1 & 5 & 0 & 1 & 1 & 1 & 0.16 & 0.1364 & 0.47 & 0.2836 & 0 &  3 &  3\\\\\n",
       "\t52 & 52 & 2011-01-03 & 1 & 0 & 1 & 6 & 0 & 1 & 1 & 1 & 0.14 & 0.1061 & 0.50 & 0.3881 & 0 & 30 & 30\\\\\n",
       "\t53 & 53 & 2011-01-03 & 1 & 0 & 1 & 7 & 0 & 1 & 1 & 1 & 0.14 & 0.1364 & 0.50 & 0.1940 & 1 & 63 & 64\\\\\n",
       "\\end{tabular}\n"
      ],
      "text/markdown": [
       "\n",
       "A data.frame: 6 × 17\n",
       "\n",
       "| <!--/--> | instant &lt;int&gt; | dteday &lt;chr&gt; | season &lt;int&gt; | yr &lt;int&gt; | mnth &lt;int&gt; | hr &lt;int&gt; | holiday &lt;int&gt; | weekday &lt;int&gt; | workingday &lt;int&gt; | weathersit &lt;int&gt; | temp &lt;dbl&gt; | atemp &lt;dbl&gt; | hum &lt;dbl&gt; | windspeed &lt;dbl&gt; | casual &lt;int&gt; | registered &lt;int&gt; | cnt &lt;int&gt; |\n",
       "|---|---|---|---|---|---|---|---|---|---|---|---|---|---|---|---|---|---|\n",
       "| 48 | 48 | 2011-01-03 | 1 | 0 | 1 | 0 | 0 | 1 | 1 | 1 | 0.22 | 0.1970 | 0.44 | 0.3582 | 0 |  5 |  5 |\n",
       "| 49 | 49 | 2011-01-03 | 1 | 0 | 1 | 1 | 0 | 1 | 1 | 1 | 0.20 | 0.1667 | 0.44 | 0.4179 | 0 |  2 |  2 |\n",
       "| 50 | 50 | 2011-01-03 | 1 | 0 | 1 | 4 | 0 | 1 | 1 | 1 | 0.16 | 0.1364 | 0.47 | 0.3881 | 0 |  1 |  1 |\n",
       "| 51 | 51 | 2011-01-03 | 1 | 0 | 1 | 5 | 0 | 1 | 1 | 1 | 0.16 | 0.1364 | 0.47 | 0.2836 | 0 |  3 |  3 |\n",
       "| 52 | 52 | 2011-01-03 | 1 | 0 | 1 | 6 | 0 | 1 | 1 | 1 | 0.14 | 0.1061 | 0.50 | 0.3881 | 0 | 30 | 30 |\n",
       "| 53 | 53 | 2011-01-03 | 1 | 0 | 1 | 7 | 0 | 1 | 1 | 1 | 0.14 | 0.1364 | 0.50 | 0.1940 | 1 | 63 | 64 |\n",
       "\n"
      ],
      "text/plain": [
       "   instant dteday     season yr mnth hr holiday weekday workingday weathersit\n",
       "48 48      2011-01-03 1      0  1    0  0       1       1          1         \n",
       "49 49      2011-01-03 1      0  1    1  0       1       1          1         \n",
       "50 50      2011-01-03 1      0  1    4  0       1       1          1         \n",
       "51 51      2011-01-03 1      0  1    5  0       1       1          1         \n",
       "52 52      2011-01-03 1      0  1    6  0       1       1          1         \n",
       "53 53      2011-01-03 1      0  1    7  0       1       1          1         \n",
       "   temp atemp  hum  windspeed casual registered cnt\n",
       "48 0.22 0.1970 0.44 0.3582    0       5          5 \n",
       "49 0.20 0.1667 0.44 0.4179    0       2          2 \n",
       "50 0.16 0.1364 0.47 0.3881    0       1          1 \n",
       "51 0.16 0.1364 0.47 0.2836    0       3          3 \n",
       "52 0.14 0.1061 0.50 0.3881    0      30         30 \n",
       "53 0.14 0.1364 0.50 0.1940    1      63         64 "
      ]
     },
     "metadata": {},
     "output_type": "display_data"
    },
    {
     "data": {
      "text/html": [
       "<table class=\"dataframe\">\n",
       "<caption>A data.frame: 6 × 17</caption>\n",
       "<thead>\n",
       "\t<tr><th></th><th scope=col>instant</th><th scope=col>dteday</th><th scope=col>season</th><th scope=col>yr</th><th scope=col>mnth</th><th scope=col>hr</th><th scope=col>holiday</th><th scope=col>weekday</th><th scope=col>workingday</th><th scope=col>weathersit</th><th scope=col>temp</th><th scope=col>atemp</th><th scope=col>hum</th><th scope=col>windspeed</th><th scope=col>casual</th><th scope=col>registered</th><th scope=col>cnt</th></tr>\n",
       "\t<tr><th></th><th scope=col>&lt;int&gt;</th><th scope=col>&lt;chr&gt;</th><th scope=col>&lt;int&gt;</th><th scope=col>&lt;int&gt;</th><th scope=col>&lt;int&gt;</th><th scope=col>&lt;int&gt;</th><th scope=col>&lt;int&gt;</th><th scope=col>&lt;int&gt;</th><th scope=col>&lt;int&gt;</th><th scope=col>&lt;int&gt;</th><th scope=col>&lt;dbl&gt;</th><th scope=col>&lt;dbl&gt;</th><th scope=col>&lt;dbl&gt;</th><th scope=col>&lt;dbl&gt;</th><th scope=col>&lt;int&gt;</th><th scope=col>&lt;int&gt;</th><th scope=col>&lt;int&gt;</th></tr>\n",
       "</thead>\n",
       "<tbody>\n",
       "\t<tr><th scope=row>1</th><td>1</td><td>2011-01-01</td><td>1</td><td>0</td><td>1</td><td>0</td><td>0</td><td>6</td><td>0</td><td>1</td><td>0.24</td><td>0.2879</td><td>0.81</td><td>0.0000</td><td>3</td><td>13</td><td>16</td></tr>\n",
       "\t<tr><th scope=row>2</th><td>2</td><td>2011-01-01</td><td>1</td><td>0</td><td>1</td><td>1</td><td>0</td><td>6</td><td>0</td><td>1</td><td>0.22</td><td>0.2727</td><td>0.80</td><td>0.0000</td><td>8</td><td>32</td><td>40</td></tr>\n",
       "\t<tr><th scope=row>3</th><td>3</td><td>2011-01-01</td><td>1</td><td>0</td><td>1</td><td>2</td><td>0</td><td>6</td><td>0</td><td>1</td><td>0.22</td><td>0.2727</td><td>0.80</td><td>0.0000</td><td>5</td><td>27</td><td>32</td></tr>\n",
       "\t<tr><th scope=row>4</th><td>4</td><td>2011-01-01</td><td>1</td><td>0</td><td>1</td><td>3</td><td>0</td><td>6</td><td>0</td><td>1</td><td>0.24</td><td>0.2879</td><td>0.75</td><td>0.0000</td><td>3</td><td>10</td><td>13</td></tr>\n",
       "\t<tr><th scope=row>5</th><td>5</td><td>2011-01-01</td><td>1</td><td>0</td><td>1</td><td>4</td><td>0</td><td>6</td><td>0</td><td>1</td><td>0.24</td><td>0.2879</td><td>0.75</td><td>0.0000</td><td>0</td><td> 1</td><td> 1</td></tr>\n",
       "\t<tr><th scope=row>6</th><td>6</td><td>2011-01-01</td><td>1</td><td>0</td><td>1</td><td>5</td><td>0</td><td>6</td><td>0</td><td>2</td><td>0.24</td><td>0.2576</td><td>0.75</td><td>0.0896</td><td>0</td><td> 1</td><td> 1</td></tr>\n",
       "</tbody>\n",
       "</table>\n"
      ],
      "text/latex": [
       "A data.frame: 6 × 17\n",
       "\\begin{tabular}{r|lllllllllllllllll}\n",
       "  & instant & dteday & season & yr & mnth & hr & holiday & weekday & workingday & weathersit & temp & atemp & hum & windspeed & casual & registered & cnt\\\\\n",
       "  & <int> & <chr> & <int> & <int> & <int> & <int> & <int> & <int> & <int> & <int> & <dbl> & <dbl> & <dbl> & <dbl> & <int> & <int> & <int>\\\\\n",
       "\\hline\n",
       "\t1 & 1 & 2011-01-01 & 1 & 0 & 1 & 0 & 0 & 6 & 0 & 1 & 0.24 & 0.2879 & 0.81 & 0.0000 & 3 & 13 & 16\\\\\n",
       "\t2 & 2 & 2011-01-01 & 1 & 0 & 1 & 1 & 0 & 6 & 0 & 1 & 0.22 & 0.2727 & 0.80 & 0.0000 & 8 & 32 & 40\\\\\n",
       "\t3 & 3 & 2011-01-01 & 1 & 0 & 1 & 2 & 0 & 6 & 0 & 1 & 0.22 & 0.2727 & 0.80 & 0.0000 & 5 & 27 & 32\\\\\n",
       "\t4 & 4 & 2011-01-01 & 1 & 0 & 1 & 3 & 0 & 6 & 0 & 1 & 0.24 & 0.2879 & 0.75 & 0.0000 & 3 & 10 & 13\\\\\n",
       "\t5 & 5 & 2011-01-01 & 1 & 0 & 1 & 4 & 0 & 6 & 0 & 1 & 0.24 & 0.2879 & 0.75 & 0.0000 & 0 &  1 &  1\\\\\n",
       "\t6 & 6 & 2011-01-01 & 1 & 0 & 1 & 5 & 0 & 6 & 0 & 2 & 0.24 & 0.2576 & 0.75 & 0.0896 & 0 &  1 &  1\\\\\n",
       "\\end{tabular}\n"
      ],
      "text/markdown": [
       "\n",
       "A data.frame: 6 × 17\n",
       "\n",
       "| <!--/--> | instant &lt;int&gt; | dteday &lt;chr&gt; | season &lt;int&gt; | yr &lt;int&gt; | mnth &lt;int&gt; | hr &lt;int&gt; | holiday &lt;int&gt; | weekday &lt;int&gt; | workingday &lt;int&gt; | weathersit &lt;int&gt; | temp &lt;dbl&gt; | atemp &lt;dbl&gt; | hum &lt;dbl&gt; | windspeed &lt;dbl&gt; | casual &lt;int&gt; | registered &lt;int&gt; | cnt &lt;int&gt; |\n",
       "|---|---|---|---|---|---|---|---|---|---|---|---|---|---|---|---|---|---|\n",
       "| 1 | 1 | 2011-01-01 | 1 | 0 | 1 | 0 | 0 | 6 | 0 | 1 | 0.24 | 0.2879 | 0.81 | 0.0000 | 3 | 13 | 16 |\n",
       "| 2 | 2 | 2011-01-01 | 1 | 0 | 1 | 1 | 0 | 6 | 0 | 1 | 0.22 | 0.2727 | 0.80 | 0.0000 | 8 | 32 | 40 |\n",
       "| 3 | 3 | 2011-01-01 | 1 | 0 | 1 | 2 | 0 | 6 | 0 | 1 | 0.22 | 0.2727 | 0.80 | 0.0000 | 5 | 27 | 32 |\n",
       "| 4 | 4 | 2011-01-01 | 1 | 0 | 1 | 3 | 0 | 6 | 0 | 1 | 0.24 | 0.2879 | 0.75 | 0.0000 | 3 | 10 | 13 |\n",
       "| 5 | 5 | 2011-01-01 | 1 | 0 | 1 | 4 | 0 | 6 | 0 | 1 | 0.24 | 0.2879 | 0.75 | 0.0000 | 0 |  1 |  1 |\n",
       "| 6 | 6 | 2011-01-01 | 1 | 0 | 1 | 5 | 0 | 6 | 0 | 2 | 0.24 | 0.2576 | 0.75 | 0.0896 | 0 |  1 |  1 |\n",
       "\n"
      ],
      "text/plain": [
       "  instant dteday     season yr mnth hr holiday weekday workingday weathersit\n",
       "1 1       2011-01-01 1      0  1    0  0       6       0          1         \n",
       "2 2       2011-01-01 1      0  1    1  0       6       0          1         \n",
       "3 3       2011-01-01 1      0  1    2  0       6       0          1         \n",
       "4 4       2011-01-01 1      0  1    3  0       6       0          1         \n",
       "5 5       2011-01-01 1      0  1    4  0       6       0          1         \n",
       "6 6       2011-01-01 1      0  1    5  0       6       0          2         \n",
       "  temp atemp  hum  windspeed casual registered cnt\n",
       "1 0.24 0.2879 0.81 0.0000    3      13         16 \n",
       "2 0.22 0.2727 0.80 0.0000    8      32         40 \n",
       "3 0.22 0.2727 0.80 0.0000    5      27         32 \n",
       "4 0.24 0.2879 0.75 0.0000    3      10         13 \n",
       "5 0.24 0.2879 0.75 0.0000    0       1          1 \n",
       "6 0.24 0.2576 0.75 0.0896    0       1          1 "
      ]
     },
     "metadata": {},
     "output_type": "display_data"
    }
   ],
   "source": [
    "# Code for Activity 6 goes here\n",
    "# -------------------------------    \n",
    "s1 <- subset(bikeshare_hour, weekday == 1 | weekday == 2 | weekday == 3 | weekday == 4 | weekday == 5)\n",
    "s2 <- subset(bikeshare_hour, weekday == 0 | weekday == 6 ) \n",
    "head(s1)\n",
    "head(s2)"
   ]
  },
  {
   "cell_type": "markdown",
   "metadata": {},
   "source": [
    "Let's say we were interested in analyzing the weather situation on working days. \n",
    "\n",
    "**Activity 7**: Find the distribution of data based `weathersit` and `workingday`.\n",
    "\n",
    "Hint: Look at `table()` command."
   ]
  },
  {
   "cell_type": "code",
   "execution_count": 13,
   "metadata": {},
   "outputs": [
    {
     "data": {
      "text/plain": [
       "\n",
       "    1     2     3     4 \n",
       "11413  4544  1419     3 "
      ]
     },
     "metadata": {},
     "output_type": "display_data"
    },
    {
     "data": {
      "text/plain": [
       "\n",
       "    0     1 \n",
       " 5514 11865 "
      ]
     },
     "metadata": {},
     "output_type": "display_data"
    },
    {
     "data": {
      "text/plain": [
       "   \n",
       "       1    2    3    4\n",
       "  0 3781 1353  379    1\n",
       "  1 7632 3191 1040    2"
      ]
     },
     "metadata": {},
     "output_type": "display_data"
    }
   ],
   "source": [
    "# Code for Activity 7  goes here\n",
    "# -------------------------------    \n",
    "table(bikeshare_hour$weathersit)\n",
    "table(bikeshare_hour$workingday)\n",
    "table(bikeshare_hour$workingday, bikeshare_hour$weathersit)\n"
   ]
  },
  {
   "cell_type": "markdown",
   "metadata": {},
   "source": [
    "**Activity 8**: Identify the datatype of each variable in bikeshare_hour dataframe.\n",
    "\n",
    "Hint: Use class()."
   ]
  },
  {
   "cell_type": "code",
   "execution_count": 14,
   "metadata": {},
   "outputs": [
    {
     "data": {
      "text/html": [
       "<dl>\n",
       "\t<dt>$instant</dt>\n",
       "\t\t<dd>'integer'</dd>\n",
       "\t<dt>$dteday</dt>\n",
       "\t\t<dd>'character'</dd>\n",
       "\t<dt>$season</dt>\n",
       "\t\t<dd>'integer'</dd>\n",
       "\t<dt>$yr</dt>\n",
       "\t\t<dd>'integer'</dd>\n",
       "\t<dt>$mnth</dt>\n",
       "\t\t<dd>'integer'</dd>\n",
       "\t<dt>$hr</dt>\n",
       "\t\t<dd>'integer'</dd>\n",
       "\t<dt>$holiday</dt>\n",
       "\t\t<dd>'integer'</dd>\n",
       "\t<dt>$weekday</dt>\n",
       "\t\t<dd>'integer'</dd>\n",
       "\t<dt>$workingday</dt>\n",
       "\t\t<dd>'integer'</dd>\n",
       "\t<dt>$weathersit</dt>\n",
       "\t\t<dd>'integer'</dd>\n",
       "\t<dt>$temp</dt>\n",
       "\t\t<dd>'numeric'</dd>\n",
       "\t<dt>$atemp</dt>\n",
       "\t\t<dd>'numeric'</dd>\n",
       "\t<dt>$hum</dt>\n",
       "\t\t<dd>'numeric'</dd>\n",
       "\t<dt>$windspeed</dt>\n",
       "\t\t<dd>'numeric'</dd>\n",
       "\t<dt>$casual</dt>\n",
       "\t\t<dd>'integer'</dd>\n",
       "\t<dt>$registered</dt>\n",
       "\t\t<dd>'integer'</dd>\n",
       "\t<dt>$cnt</dt>\n",
       "\t\t<dd>'integer'</dd>\n",
       "</dl>\n"
      ],
      "text/latex": [
       "\\begin{description}\n",
       "\\item[\\$instant] 'integer'\n",
       "\\item[\\$dteday] 'character'\n",
       "\\item[\\$season] 'integer'\n",
       "\\item[\\$yr] 'integer'\n",
       "\\item[\\$mnth] 'integer'\n",
       "\\item[\\$hr] 'integer'\n",
       "\\item[\\$holiday] 'integer'\n",
       "\\item[\\$weekday] 'integer'\n",
       "\\item[\\$workingday] 'integer'\n",
       "\\item[\\$weathersit] 'integer'\n",
       "\\item[\\$temp] 'numeric'\n",
       "\\item[\\$atemp] 'numeric'\n",
       "\\item[\\$hum] 'numeric'\n",
       "\\item[\\$windspeed] 'numeric'\n",
       "\\item[\\$casual] 'integer'\n",
       "\\item[\\$registered] 'integer'\n",
       "\\item[\\$cnt] 'integer'\n",
       "\\end{description}\n"
      ],
      "text/markdown": [
       "$instant\n",
       ":   'integer'\n",
       "$dteday\n",
       ":   'character'\n",
       "$season\n",
       ":   'integer'\n",
       "$yr\n",
       ":   'integer'\n",
       "$mnth\n",
       ":   'integer'\n",
       "$hr\n",
       ":   'integer'\n",
       "$holiday\n",
       ":   'integer'\n",
       "$weekday\n",
       ":   'integer'\n",
       "$workingday\n",
       ":   'integer'\n",
       "$weathersit\n",
       ":   'integer'\n",
       "$temp\n",
       ":   'numeric'\n",
       "$atemp\n",
       ":   'numeric'\n",
       "$hum\n",
       ":   'numeric'\n",
       "$windspeed\n",
       ":   'numeric'\n",
       "$casual\n",
       ":   'integer'\n",
       "$registered\n",
       ":   'integer'\n",
       "$cnt\n",
       ":   'integer'\n",
       "\n",
       "\n"
      ],
      "text/plain": [
       "$instant\n",
       "[1] \"integer\"\n",
       "\n",
       "$dteday\n",
       "[1] \"character\"\n",
       "\n",
       "$season\n",
       "[1] \"integer\"\n",
       "\n",
       "$yr\n",
       "[1] \"integer\"\n",
       "\n",
       "$mnth\n",
       "[1] \"integer\"\n",
       "\n",
       "$hr\n",
       "[1] \"integer\"\n",
       "\n",
       "$holiday\n",
       "[1] \"integer\"\n",
       "\n",
       "$weekday\n",
       "[1] \"integer\"\n",
       "\n",
       "$workingday\n",
       "[1] \"integer\"\n",
       "\n",
       "$weathersit\n",
       "[1] \"integer\"\n",
       "\n",
       "$temp\n",
       "[1] \"numeric\"\n",
       "\n",
       "$atemp\n",
       "[1] \"numeric\"\n",
       "\n",
       "$hum\n",
       "[1] \"numeric\"\n",
       "\n",
       "$windspeed\n",
       "[1] \"numeric\"\n",
       "\n",
       "$casual\n",
       "[1] \"integer\"\n",
       "\n",
       "$registered\n",
       "[1] \"integer\"\n",
       "\n",
       "$cnt\n",
       "[1] \"integer\"\n"
      ]
     },
     "metadata": {},
     "output_type": "display_data"
    }
   ],
   "source": [
    "# Code for Activity 8  goes here\n",
    "# -------------------------------    \n",
    "lapply(bikeshare_hour,class)\n",
    "\n",
    "\n"
   ]
  },
  {
   "cell_type": "markdown",
   "metadata": {},
   "source": [
    "**Activity 9**: Check the **structure** of bikeshare_hour dataframe. \n",
    "Look up for the command which returns the structure of a dataframe."
   ]
  },
  {
   "cell_type": "code",
   "execution_count": 15,
   "metadata": {},
   "outputs": [
    {
     "name": "stdout",
     "output_type": "stream",
     "text": [
      "'data.frame':\t17379 obs. of  17 variables:\n",
      " $ instant   : int  1 2 3 4 5 6 7 8 9 10 ...\n",
      " $ dteday    : chr  \"2011-01-01\" \"2011-01-01\" \"2011-01-01\" \"2011-01-01\" ...\n",
      " $ season    : int  1 1 1 1 1 1 1 1 1 1 ...\n",
      " $ yr        : int  0 0 0 0 0 0 0 0 0 0 ...\n",
      " $ mnth      : int  1 1 1 1 1 1 1 1 1 1 ...\n",
      " $ hr        : int  0 1 2 3 4 5 6 7 8 9 ...\n",
      " $ holiday   : int  0 0 0 0 0 0 0 0 0 0 ...\n",
      " $ weekday   : int  6 6 6 6 6 6 6 6 6 6 ...\n",
      " $ workingday: int  0 0 0 0 0 0 0 0 0 0 ...\n",
      " $ weathersit: int  1 1 1 1 1 2 1 1 1 1 ...\n",
      " $ temp      : num  0.24 0.22 0.22 0.24 0.24 0.24 0.22 0.2 0.24 0.32 ...\n",
      " $ atemp     : num  0.288 0.273 0.273 0.288 0.288 ...\n",
      " $ hum       : num  0.81 0.8 0.8 0.75 0.75 0.75 0.8 0.86 0.75 0.76 ...\n",
      " $ windspeed : num  0 0 0 0 0 0.0896 0 0 0 0 ...\n",
      " $ casual    : int  3 8 5 3 0 0 2 1 1 8 ...\n",
      " $ registered: int  13 32 27 10 1 1 0 2 7 6 ...\n",
      " $ cnt       : int  16 40 32 13 1 1 2 3 8 14 ...\n"
     ]
    }
   ],
   "source": [
    "# Code for Activity 9   goes here\n",
    "# -------------------------------    \n",
    "str(bikeshare_hour)\n",
    "\n"
   ]
  },
  {
   "cell_type": "markdown",
   "metadata": {},
   "source": [
    "Let's see if people are more interested in riding the bike on weekdays or weekends. \n",
    "\n",
    "**Activity 10:** Find out if people are more interested in riding the bike on weekdays or weekends. \n",
    "Find the average number of instances for weekdays and weekends."
   ]
  },
  {
   "cell_type": "code",
   "execution_count": 16,
   "metadata": {},
   "outputs": [
    {
     "data": {
      "text/html": [
       "191.738374443995"
      ],
      "text/latex": [
       "191.738374443995"
      ],
      "text/markdown": [
       "191.738374443995"
      ],
      "text/plain": [
       "[1] 191.7384"
      ]
     },
     "metadata": {},
     "output_type": "display_data"
    },
    {
     "data": {
      "text/html": [
       "183.852014359793"
      ],
      "text/latex": [
       "183.852014359793"
      ],
      "text/markdown": [
       "183.852014359793"
      ],
      "text/plain": [
       "[1] 183.852"
      ]
     },
     "metadata": {},
     "output_type": "display_data"
    },
    {
     "name": "stdout",
     "output_type": "stream",
     "text": [
      "[1] \"s1 = weekdays, s2 = weekends\"\n",
      "[1] \"weekdays!\"\n"
     ]
    }
   ],
   "source": [
    "# Code for Activity 10   goes here\n",
    "# -------------------------------    \n",
    "s1_cnt = mean(s1$cnt)\n",
    "s2_cnt = mean(s2$cnt)\n",
    "\n",
    "s1_cnt\n",
    "s2_cnt\n",
    "\n",
    "print('s1 = weekdays, s2 = weekends')\n",
    "print('weekdays!')"
   ]
  },
  {
   "cell_type": "code",
   "execution_count": 19,
   "metadata": {},
   "outputs": [
    {
     "data": {
      "text/html": [
       "<table class=\"dataframe\">\n",
       "<caption>A tibble: 1 × 1</caption>\n",
       "<thead>\n",
       "\t<tr><th scope=col>avg</th></tr>\n",
       "\t<tr><th scope=col>&lt;dbl&gt;</th></tr>\n",
       "</thead>\n",
       "<tbody>\n",
       "\t<tr><td>474169</td></tr>\n",
       "</tbody>\n",
       "</table>\n"
      ],
      "text/latex": [
       "A tibble: 1 × 1\n",
       "\\begin{tabular}{l}\n",
       " avg\\\\\n",
       " <dbl>\\\\\n",
       "\\hline\n",
       "\t 474169\\\\\n",
       "\\end{tabular}\n"
      ],
      "text/markdown": [
       "\n",
       "A tibble: 1 × 1\n",
       "\n",
       "| avg &lt;dbl&gt; |\n",
       "|---|\n",
       "| 474169 |\n",
       "\n"
      ],
      "text/plain": [
       "  avg   \n",
       "1 474169"
      ]
     },
     "metadata": {},
     "output_type": "display_data"
    },
    {
     "data": {
      "text/html": [
       "<table class=\"dataframe\">\n",
       "<caption>A tibble: 1 × 1</caption>\n",
       "<thead>\n",
       "\t<tr><th scope=col>avg</th></tr>\n",
       "\t<tr><th scope=col>&lt;dbl&gt;</th></tr>\n",
       "</thead>\n",
       "<tbody>\n",
       "\t<tr><td>460917</td></tr>\n",
       "</tbody>\n",
       "</table>\n"
      ],
      "text/latex": [
       "A tibble: 1 × 1\n",
       "\\begin{tabular}{l}\n",
       " avg\\\\\n",
       " <dbl>\\\\\n",
       "\\hline\n",
       "\t 460917\\\\\n",
       "\\end{tabular}\n"
      ],
      "text/markdown": [
       "\n",
       "A tibble: 1 × 1\n",
       "\n",
       "| avg &lt;dbl&gt; |\n",
       "|---|\n",
       "| 460917 |\n",
       "\n"
      ],
      "text/plain": [
       "  avg   \n",
       "1 460917"
      ]
     },
     "metadata": {},
     "output_type": "display_data"
    },
    {
     "data": {
      "text/html": [
       "'weekdays'"
      ],
      "text/latex": [
       "'weekdays'"
      ],
      "text/markdown": [
       "'weekdays'"
      ],
      "text/plain": [
       "[1] \"weekdays\""
      ]
     },
     "metadata": {},
     "output_type": "display_data"
    }
   ],
   "source": [
    "s1 %>% group_by(weekday) %>% summarize(sums = sum(cnt))%>% summarise(avg = mean(sums))\n",
    "s2 %>% group_by(weekday) %>% summarize(sums = sum(cnt)) %>% summarise(avg = mean(sums))\n",
    "'weekdays'"
   ]
  },
  {
   "cell_type": "markdown",
   "metadata": {},
   "source": [
    "**Activity 11:** Display the row when maximum number of bikes were shared in the hour."
   ]
  },
  {
   "cell_type": "code",
   "execution_count": 56,
   "metadata": {},
   "outputs": [
    {
     "data": {
      "text/html": [
       "<table class=\"dataframe\">\n",
       "<caption>A data.frame: 1 × 17</caption>\n",
       "<thead>\n",
       "\t<tr><th></th><th scope=col>instant</th><th scope=col>dteday</th><th scope=col>season</th><th scope=col>yr</th><th scope=col>mnth</th><th scope=col>hr</th><th scope=col>holiday</th><th scope=col>weekday</th><th scope=col>workingday</th><th scope=col>weathersit</th><th scope=col>temp</th><th scope=col>atemp</th><th scope=col>hum</th><th scope=col>windspeed</th><th scope=col>casual</th><th scope=col>registered</th><th scope=col>cnt</th></tr>\n",
       "\t<tr><th></th><th scope=col>&lt;int&gt;</th><th scope=col>&lt;chr&gt;</th><th scope=col>&lt;int&gt;</th><th scope=col>&lt;int&gt;</th><th scope=col>&lt;int&gt;</th><th scope=col>&lt;int&gt;</th><th scope=col>&lt;int&gt;</th><th scope=col>&lt;int&gt;</th><th scope=col>&lt;int&gt;</th><th scope=col>&lt;int&gt;</th><th scope=col>&lt;dbl&gt;</th><th scope=col>&lt;dbl&gt;</th><th scope=col>&lt;dbl&gt;</th><th scope=col>&lt;dbl&gt;</th><th scope=col>&lt;int&gt;</th><th scope=col>&lt;int&gt;</th><th scope=col>&lt;int&gt;</th></tr>\n",
       "</thead>\n",
       "<tbody>\n",
       "\t<tr><th scope=row>14774</th><td>14774</td><td>2012-09-12</td><td>3</td><td>1</td><td>9</td><td>18</td><td>0</td><td>3</td><td>1</td><td>1</td><td>0.66</td><td>0.6212</td><td>0.44</td><td>0.2537</td><td>91</td><td>886</td><td>977</td></tr>\n",
       "</tbody>\n",
       "</table>\n"
      ],
      "text/latex": [
       "A data.frame: 1 × 17\n",
       "\\begin{tabular}{r|lllllllllllllllll}\n",
       "  & instant & dteday & season & yr & mnth & hr & holiday & weekday & workingday & weathersit & temp & atemp & hum & windspeed & casual & registered & cnt\\\\\n",
       "  & <int> & <chr> & <int> & <int> & <int> & <int> & <int> & <int> & <int> & <int> & <dbl> & <dbl> & <dbl> & <dbl> & <int> & <int> & <int>\\\\\n",
       "\\hline\n",
       "\t14774 & 14774 & 2012-09-12 & 3 & 1 & 9 & 18 & 0 & 3 & 1 & 1 & 0.66 & 0.6212 & 0.44 & 0.2537 & 91 & 886 & 977\\\\\n",
       "\\end{tabular}\n"
      ],
      "text/markdown": [
       "\n",
       "A data.frame: 1 × 17\n",
       "\n",
       "| <!--/--> | instant &lt;int&gt; | dteday &lt;chr&gt; | season &lt;int&gt; | yr &lt;int&gt; | mnth &lt;int&gt; | hr &lt;int&gt; | holiday &lt;int&gt; | weekday &lt;int&gt; | workingday &lt;int&gt; | weathersit &lt;int&gt; | temp &lt;dbl&gt; | atemp &lt;dbl&gt; | hum &lt;dbl&gt; | windspeed &lt;dbl&gt; | casual &lt;int&gt; | registered &lt;int&gt; | cnt &lt;int&gt; |\n",
       "|---|---|---|---|---|---|---|---|---|---|---|---|---|---|---|---|---|---|\n",
       "| 14774 | 14774 | 2012-09-12 | 3 | 1 | 9 | 18 | 0 | 3 | 1 | 1 | 0.66 | 0.6212 | 0.44 | 0.2537 | 91 | 886 | 977 |\n",
       "\n"
      ],
      "text/plain": [
       "      instant dteday     season yr mnth hr holiday weekday workingday\n",
       "14774 14774   2012-09-12 3      1  9    18 0       3       1         \n",
       "      weathersit temp atemp  hum  windspeed casual registered cnt\n",
       "14774 1          0.66 0.6212 0.44 0.2537    91     886        977"
      ]
     },
     "metadata": {},
     "output_type": "display_data"
    }
   ],
   "source": [
    "# Code for Activity 11   goes here\n",
    "# ----------------------------\n",
    "\n",
    "\n",
    "bikeshare_hour[bikeshare_hour$cnt == max(bikeshare_hour$cnt),]\n",
    "\n"
   ]
  },
  {
   "cell_type": "markdown",
   "metadata": {},
   "source": [
    "Lets do some data cleaning before taking up the next activity"
   ]
  },
  {
   "cell_type": "code",
   "execution_count": 57,
   "metadata": {},
   "outputs": [],
   "source": [
    "#First get the count of total bike shares based on each hour of the day and weekday. Run the code below\n",
    "hour_sums=t(tapply(bikeshare_hour$cnt, bikeshare_hour$hr,sum))\n",
    "day_sums=t(tapply(bikeshare_hour$cnt, bikeshare_hour$weekday,sum))"
   ]
  },
  {
   "cell_type": "markdown",
   "metadata": {},
   "source": [
    "The `tapply()` definition from R-manual: \n",
    "\n",
    "Apply a function to each cell of a ragged array, \n",
    "that is to each (non-empty) group of values given by a unique combination of the levels of certain factors.\n",
    "\n",
    "Suggested reading: [tapply()](https://www.r-bloggers.com/r-function-of-the-day-tapply-2/)\n",
    "\n",
    "Simply put, in our example of hour_sums variable, \n",
    "the data is partitioned based on the second parameter, `bikeshare_hour$hr.` \n",
    "So 24 subsets are created for each hour(0 to 23). \n",
    "The 3rd argument can be any function(sum,mean,median etc) \n",
    "which is applied on the first parameter of tapply function. \n",
    "Since now we have 24 subsets, we are performing `sum(bikeshare_hour$cnt)` on this 24 subsets of data for each hour.\n",
    "\n",
    "\n",
    "The `t()` is used to return the transpose of the input dataframe or matrix. \n",
    "Jupyter has issues rendering `tapply()` output, so `t()` is a workaround to display the output correctly.\n",
    "\n",
    "More information on [t()](https://stat.ethz.ch/R-manual/R-devel/library/base/html/t.html)\n",
    "\n",
    "If you check the dimensions of `hour_sums` and `day_sums` variables they are dataframes. \n",
    "But we want the output in the form of a vector. \n",
    "So how can we convert a dataframe to a vector?"
   ]
  },
  {
   "cell_type": "code",
   "execution_count": 58,
   "metadata": {},
   "outputs": [
    {
     "data": {
      "text/html": [
       "<style>\n",
       ".list-inline {list-style: none; margin:0; padding: 0}\n",
       ".list-inline>li {display: inline-block}\n",
       ".list-inline>li:not(:last-child)::after {content: \"\\00b7\"; padding: 0 .5ex}\n",
       "</style>\n",
       "<ol class=list-inline><li>1</li><li>24</li></ol>\n"
      ],
      "text/latex": [
       "\\begin{enumerate*}\n",
       "\\item 1\n",
       "\\item 24\n",
       "\\end{enumerate*}\n"
      ],
      "text/markdown": [
       "1. 1\n",
       "2. 24\n",
       "\n",
       "\n"
      ],
      "text/plain": [
       "[1]  1 24"
      ]
     },
     "metadata": {},
     "output_type": "display_data"
    },
    {
     "data": {
      "text/html": [
       "<style>\n",
       ".list-inline {list-style: none; margin:0; padding: 0}\n",
       ".list-inline>li {display: inline-block}\n",
       ".list-inline>li:not(:last-child)::after {content: \"\\00b7\"; padding: 0 .5ex}\n",
       "</style>\n",
       "<ol class=list-inline><li>1</li><li>7</li></ol>\n"
      ],
      "text/latex": [
       "\\begin{enumerate*}\n",
       "\\item 1\n",
       "\\item 7\n",
       "\\end{enumerate*}\n"
      ],
      "text/markdown": [
       "1. 1\n",
       "2. 7\n",
       "\n",
       "\n"
      ],
      "text/plain": [
       "[1] 1 7"
      ]
     },
     "metadata": {},
     "output_type": "display_data"
    },
    {
     "data": {
      "text/html": [
       "<style>\n",
       ".list-inline {list-style: none; margin:0; padding: 0}\n",
       ".list-inline>li {display: inline-block}\n",
       ".list-inline>li:not(:last-child)::after {content: \"\\00b7\"; padding: 0 .5ex}\n",
       "</style>\n",
       "<ol class=list-inline><li>'matrix'</li><li>'array'</li></ol>\n"
      ],
      "text/latex": [
       "\\begin{enumerate*}\n",
       "\\item 'matrix'\n",
       "\\item 'array'\n",
       "\\end{enumerate*}\n"
      ],
      "text/markdown": [
       "1. 'matrix'\n",
       "2. 'array'\n",
       "\n",
       "\n"
      ],
      "text/plain": [
       "[1] \"matrix\" \"array\" "
      ]
     },
     "metadata": {},
     "output_type": "display_data"
    },
    {
     "data": {
      "text/html": [
       "<style>\n",
       ".list-inline {list-style: none; margin:0; padding: 0}\n",
       ".list-inline>li {display: inline-block}\n",
       ".list-inline>li:not(:last-child)::after {content: \"\\00b7\"; padding: 0 .5ex}\n",
       "</style>\n",
       "<ol class=list-inline><li>'matrix'</li><li>'array'</li></ol>\n"
      ],
      "text/latex": [
       "\\begin{enumerate*}\n",
       "\\item 'matrix'\n",
       "\\item 'array'\n",
       "\\end{enumerate*}\n"
      ],
      "text/markdown": [
       "1. 'matrix'\n",
       "2. 'array'\n",
       "\n",
       "\n"
      ],
      "text/plain": [
       "[1] \"matrix\" \"array\" "
      ]
     },
     "metadata": {},
     "output_type": "display_data"
    }
   ],
   "source": [
    "#The above piece of code returns dataframes as output. Check the dimensions and class to verify. Run the code below.\n",
    "dim(hour_sums)\n",
    "dim(day_sums)\n",
    "class(hour_sums)\n",
    "class(day_sums)"
   ]
  },
  {
   "cell_type": "markdown",
   "metadata": {},
   "source": [
    "R has builtin function to convert data format between dataframes,matrices and vectors. \n",
    "You can change the data type and also check if certain object is actually a dataframe \n",
    "or matrix or a vector using functions like `is.dataframe()` etc."
   ]
  },
  {
   "cell_type": "code",
   "execution_count": 59,
   "metadata": {},
   "outputs": [
    {
     "data": {
      "text/html": [
       "<style>\n",
       ".list-inline {list-style: none; margin:0; padding: 0}\n",
       ".list-inline>li {display: inline-block}\n",
       ".list-inline>li:not(:last-child)::after {content: \"\\00b7\"; padding: 0 .5ex}\n",
       "</style>\n",
       "<ol class=list-inline><li>39130</li><li>24164</li><li>16352</li><li>8174</li><li>4428</li><li>14261</li><li>55132</li><li>154171</li><li>261001</li><li>159438</li><li>126257</li><li>151320</li><li>184414</li><li>184919</li><li>175652</li><li>183149</li><li>227748</li><li>336860</li><li>309772</li><li>226789</li><li>164550</li><li>125445</li><li>95612</li><li>63941</li></ol>\n"
      ],
      "text/latex": [
       "\\begin{enumerate*}\n",
       "\\item 39130\n",
       "\\item 24164\n",
       "\\item 16352\n",
       "\\item 8174\n",
       "\\item 4428\n",
       "\\item 14261\n",
       "\\item 55132\n",
       "\\item 154171\n",
       "\\item 261001\n",
       "\\item 159438\n",
       "\\item 126257\n",
       "\\item 151320\n",
       "\\item 184414\n",
       "\\item 184919\n",
       "\\item 175652\n",
       "\\item 183149\n",
       "\\item 227748\n",
       "\\item 336860\n",
       "\\item 309772\n",
       "\\item 226789\n",
       "\\item 164550\n",
       "\\item 125445\n",
       "\\item 95612\n",
       "\\item 63941\n",
       "\\end{enumerate*}\n"
      ],
      "text/markdown": [
       "1. 39130\n",
       "2. 24164\n",
       "3. 16352\n",
       "4. 8174\n",
       "5. 4428\n",
       "6. 14261\n",
       "7. 55132\n",
       "8. 154171\n",
       "9. 261001\n",
       "10. 159438\n",
       "11. 126257\n",
       "12. 151320\n",
       "13. 184414\n",
       "14. 184919\n",
       "15. 175652\n",
       "16. 183149\n",
       "17. 227748\n",
       "18. 336860\n",
       "19. 309772\n",
       "20. 226789\n",
       "21. 164550\n",
       "22. 125445\n",
       "23. 95612\n",
       "24. 63941\n",
       "\n",
       "\n"
      ],
      "text/plain": [
       " [1]  39130  24164  16352   8174   4428  14261  55132 154171 261001 159438\n",
       "[11] 126257 151320 184414 184919 175652 183149 227748 336860 309772 226789\n",
       "[21] 164550 125445  95612  63941"
      ]
     },
     "metadata": {},
     "output_type": "display_data"
    },
    {
     "data": {
      "text/html": [
       "<style>\n",
       ".list-inline {list-style: none; margin:0; padding: 0}\n",
       ".list-inline>li {display: inline-block}\n",
       ".list-inline>li:not(:last-child)::after {content: \"\\00b7\"; padding: 0 .5ex}\n",
       "</style>\n",
       "<ol class=list-inline><li>444027</li><li>455503</li><li>469109</li><li>473048</li><li>485395</li><li>487790</li><li>477807</li></ol>\n"
      ],
      "text/latex": [
       "\\begin{enumerate*}\n",
       "\\item 444027\n",
       "\\item 455503\n",
       "\\item 469109\n",
       "\\item 473048\n",
       "\\item 485395\n",
       "\\item 487790\n",
       "\\item 477807\n",
       "\\end{enumerate*}\n"
      ],
      "text/markdown": [
       "1. 444027\n",
       "2. 455503\n",
       "3. 469109\n",
       "4. 473048\n",
       "5. 485395\n",
       "6. 487790\n",
       "7. 477807\n",
       "\n",
       "\n"
      ],
      "text/plain": [
       "[1] 444027 455503 469109 473048 485395 487790 477807"
      ]
     },
     "metadata": {},
     "output_type": "display_data"
    }
   ],
   "source": [
    "#Convert the dataframes hour_sums, day_sums into a matrix and then into arrays. Run the code below.\n",
    "hour_sums=as.vector(as.matrix(hour_sums))\n",
    "day_sums=as.vector(as.matrix(day_sums))\n",
    "hour_sums\n",
    "day_sums"
   ]
  },
  {
   "cell_type": "code",
   "execution_count": 60,
   "metadata": {},
   "outputs": [
    {
     "data": {
      "text/html": [
       "<style>\n",
       ".list-inline {list-style: none; margin:0; padding: 0}\n",
       ".list-inline>li {display: inline-block}\n",
       ".list-inline>li:not(:last-child)::after {content: \"\\00b7\"; padding: 0 .5ex}\n",
       "</style>\n",
       "<ol class=list-inline><li>39130</li><li>24164</li><li>16352</li><li>8174</li><li>4428</li><li>14261</li></ol>\n"
      ],
      "text/latex": [
       "\\begin{enumerate*}\n",
       "\\item 39130\n",
       "\\item 24164\n",
       "\\item 16352\n",
       "\\item 8174\n",
       "\\item 4428\n",
       "\\item 14261\n",
       "\\end{enumerate*}\n"
      ],
      "text/markdown": [
       "1. 39130\n",
       "2. 24164\n",
       "3. 16352\n",
       "4. 8174\n",
       "5. 4428\n",
       "6. 14261\n",
       "\n",
       "\n"
      ],
      "text/plain": [
       "[1] 39130 24164 16352  8174  4428 14261"
      ]
     },
     "metadata": {},
     "output_type": "display_data"
    }
   ],
   "source": [
    "head(hour_sums)"
   ]
  },
  {
   "cell_type": "markdown",
   "metadata": {},
   "source": [
    "## Distributions\n",
    "\n",
    "Lets peek into the distribution of different variables and see how they are distributed.\n",
    "\n",
    "**Activity 12:** Plot a bar plot for bike shares for each hour of the day and weekday.\n",
    "Use `hour_sums` and `day_sums` vectors we created above to plot the graphs. \n",
    "Combine this plots using the `par()` or `layout()` command for analyzing them easily.\n"
   ]
  },
  {
   "cell_type": "code",
   "execution_count": 132,
   "metadata": {},
   "outputs": [
    {
     "data": {
      "image/png": "[encoded data removed]",
      "text/plain": [
       "Plot with title “barplot of day sums”"
      ]
     },
     "metadata": {
      "image/png": {
       "height": 420,
       "width": 420
      }
     },
     "output_type": "display_data"
    }
   ],
   "source": [
    "# Code for activity 12 goes gere \n",
    "# Uncomment below if you want to supress scientific notation of numbers.\n",
    "# options(scipen=999)\n",
    "\n",
    "\n",
    "par(mfrow=c(1,2))\n",
    "barplot(hour_sums, main = 'barplot of hour sums')\n",
    "barplot(day_sums, main = 'barplot of day sums')\n",
    "options(scipen=999)\n",
    "\n"
   ]
  },
  {
   "cell_type": "markdown",
   "metadata": {},
   "source": [
    "The plots tell a clear story.\n",
    "The peak hour of bike shares is at the 17- and 18-hour every day. \n",
    "Additionally, Thurdays and Fridays are popular for bike shares in a week. \n",
    "This is contradicting with what we saw in activity 10 where average number of instances of bike shares are more on weekends. \n",
    "Lets see the average number of users who rent the bike on each day of the week."
   ]
  },
  {
   "cell_type": "code",
   "execution_count": 62,
   "metadata": {},
   "outputs": [
    {
     "data": {
      "text/html": [
       "<style>\n",
       ".list-inline {list-style: none; margin:0; padding: 0}\n",
       ".list-inline>li {display: inline-block}\n",
       ".list-inline>li:not(:last-child)::after {content: \"\\00b7\"; padding: 0 .5ex}\n",
       "</style>\n",
       "<ol class=list-inline><li>444027</li><li>455503</li><li>469109</li><li>473048</li><li>485395</li><li>487790</li><li>477807</li></ol>\n"
      ],
      "text/latex": [
       "\\begin{enumerate*}\n",
       "\\item 444027\n",
       "\\item 455503\n",
       "\\item 469109\n",
       "\\item 473048\n",
       "\\item 485395\n",
       "\\item 487790\n",
       "\\item 477807\n",
       "\\end{enumerate*}\n"
      ],
      "text/markdown": [
       "1. 444027\n",
       "2. 455503\n",
       "3. 469109\n",
       "4. 473048\n",
       "5. 485395\n",
       "6. 487790\n",
       "7. 477807\n",
       "\n",
       "\n"
      ],
      "text/plain": [
       "[1] 444027 455503 469109 473048 485395 487790 477807"
      ]
     },
     "metadata": {},
     "output_type": "display_data"
    }
   ],
   "source": [
    "day_sums"
   ]
  },
  {
   "cell_type": "markdown",
   "metadata": {},
   "source": [
    "**Activity 13:** Plot a boxplot for `cnt` against each weekday"
   ]
  },
  {
   "cell_type": "code",
   "execution_count": 74,
   "metadata": {
    "scrolled": true
   },
   "outputs": [
    {
     "data": {
      "text/html": [
       "<table class=\"dataframe\">\n",
       "<caption>A data.frame: 17379 × 2</caption>\n",
       "<thead>\n",
       "\t<tr><th scope=col>weekday</th><th scope=col>cnt</th></tr>\n",
       "\t<tr><th scope=col>&lt;int&gt;</th><th scope=col>&lt;int&gt;</th></tr>\n",
       "</thead>\n",
       "<tbody>\n",
       "\t<tr><td>6</td><td> 16</td></tr>\n",
       "\t<tr><td>6</td><td> 40</td></tr>\n",
       "\t<tr><td>6</td><td> 32</td></tr>\n",
       "\t<tr><td>6</td><td> 13</td></tr>\n",
       "\t<tr><td>6</td><td>  1</td></tr>\n",
       "\t<tr><td>6</td><td>  1</td></tr>\n",
       "\t<tr><td>6</td><td>  2</td></tr>\n",
       "\t<tr><td>6</td><td>  3</td></tr>\n",
       "\t<tr><td>6</td><td>  8</td></tr>\n",
       "\t<tr><td>6</td><td> 14</td></tr>\n",
       "\t<tr><td>6</td><td> 36</td></tr>\n",
       "\t<tr><td>6</td><td> 56</td></tr>\n",
       "\t<tr><td>6</td><td> 84</td></tr>\n",
       "\t<tr><td>6</td><td> 94</td></tr>\n",
       "\t<tr><td>6</td><td>106</td></tr>\n",
       "\t<tr><td>6</td><td>110</td></tr>\n",
       "\t<tr><td>6</td><td> 93</td></tr>\n",
       "\t<tr><td>6</td><td> 67</td></tr>\n",
       "\t<tr><td>6</td><td> 35</td></tr>\n",
       "\t<tr><td>6</td><td> 37</td></tr>\n",
       "\t<tr><td>6</td><td> 36</td></tr>\n",
       "\t<tr><td>6</td><td> 34</td></tr>\n",
       "\t<tr><td>6</td><td> 28</td></tr>\n",
       "\t<tr><td>6</td><td> 39</td></tr>\n",
       "\t<tr><td>0</td><td> 17</td></tr>\n",
       "\t<tr><td>0</td><td> 17</td></tr>\n",
       "\t<tr><td>0</td><td>  9</td></tr>\n",
       "\t<tr><td>0</td><td>  6</td></tr>\n",
       "\t<tr><td>0</td><td>  3</td></tr>\n",
       "\t<tr><td>0</td><td>  2</td></tr>\n",
       "\t<tr><td>⋮</td><td>⋮</td></tr>\n",
       "\t<tr><td>0</td><td>125</td></tr>\n",
       "\t<tr><td>0</td><td>102</td></tr>\n",
       "\t<tr><td>0</td><td> 72</td></tr>\n",
       "\t<tr><td>0</td><td> 47</td></tr>\n",
       "\t<tr><td>0</td><td> 36</td></tr>\n",
       "\t<tr><td>0</td><td> 49</td></tr>\n",
       "\t<tr><td>1</td><td> 34</td></tr>\n",
       "\t<tr><td>1</td><td> 19</td></tr>\n",
       "\t<tr><td>1</td><td> 11</td></tr>\n",
       "\t<tr><td>1</td><td>  1</td></tr>\n",
       "\t<tr><td>1</td><td>  3</td></tr>\n",
       "\t<tr><td>1</td><td>  9</td></tr>\n",
       "\t<tr><td>1</td><td> 40</td></tr>\n",
       "\t<tr><td>1</td><td> 85</td></tr>\n",
       "\t<tr><td>1</td><td>196</td></tr>\n",
       "\t<tr><td>1</td><td>157</td></tr>\n",
       "\t<tr><td>1</td><td>120</td></tr>\n",
       "\t<tr><td>1</td><td>157</td></tr>\n",
       "\t<tr><td>1</td><td>224</td></tr>\n",
       "\t<tr><td>1</td><td>203</td></tr>\n",
       "\t<tr><td>1</td><td>247</td></tr>\n",
       "\t<tr><td>1</td><td>315</td></tr>\n",
       "\t<tr><td>1</td><td>214</td></tr>\n",
       "\t<tr><td>1</td><td>164</td></tr>\n",
       "\t<tr><td>1</td><td>122</td></tr>\n",
       "\t<tr><td>1</td><td>119</td></tr>\n",
       "\t<tr><td>1</td><td> 89</td></tr>\n",
       "\t<tr><td>1</td><td> 90</td></tr>\n",
       "\t<tr><td>1</td><td> 61</td></tr>\n",
       "\t<tr><td>1</td><td> 49</td></tr>\n",
       "</tbody>\n",
       "</table>\n"
      ],
      "text/latex": [
       "A data.frame: 17379 × 2\n",
       "\\begin{tabular}{ll}\n",
       " weekday & cnt\\\\\n",
       " <int> & <int>\\\\\n",
       "\\hline\n",
       "\t 6 &  16\\\\\n",
       "\t 6 &  40\\\\\n",
       "\t 6 &  32\\\\\n",
       "\t 6 &  13\\\\\n",
       "\t 6 &   1\\\\\n",
       "\t 6 &   1\\\\\n",
       "\t 6 &   2\\\\\n",
       "\t 6 &   3\\\\\n",
       "\t 6 &   8\\\\\n",
       "\t 6 &  14\\\\\n",
       "\t 6 &  36\\\\\n",
       "\t 6 &  56\\\\\n",
       "\t 6 &  84\\\\\n",
       "\t 6 &  94\\\\\n",
       "\t 6 & 106\\\\\n",
       "\t 6 & 110\\\\\n",
       "\t 6 &  93\\\\\n",
       "\t 6 &  67\\\\\n",
       "\t 6 &  35\\\\\n",
       "\t 6 &  37\\\\\n",
       "\t 6 &  36\\\\\n",
       "\t 6 &  34\\\\\n",
       "\t 6 &  28\\\\\n",
       "\t 6 &  39\\\\\n",
       "\t 0 &  17\\\\\n",
       "\t 0 &  17\\\\\n",
       "\t 0 &   9\\\\\n",
       "\t 0 &   6\\\\\n",
       "\t 0 &   3\\\\\n",
       "\t 0 &   2\\\\\n",
       "\t ⋮ & ⋮\\\\\n",
       "\t 0 & 125\\\\\n",
       "\t 0 & 102\\\\\n",
       "\t 0 &  72\\\\\n",
       "\t 0 &  47\\\\\n",
       "\t 0 &  36\\\\\n",
       "\t 0 &  49\\\\\n",
       "\t 1 &  34\\\\\n",
       "\t 1 &  19\\\\\n",
       "\t 1 &  11\\\\\n",
       "\t 1 &   1\\\\\n",
       "\t 1 &   3\\\\\n",
       "\t 1 &   9\\\\\n",
       "\t 1 &  40\\\\\n",
       "\t 1 &  85\\\\\n",
       "\t 1 & 196\\\\\n",
       "\t 1 & 157\\\\\n",
       "\t 1 & 120\\\\\n",
       "\t 1 & 157\\\\\n",
       "\t 1 & 224\\\\\n",
       "\t 1 & 203\\\\\n",
       "\t 1 & 247\\\\\n",
       "\t 1 & 315\\\\\n",
       "\t 1 & 214\\\\\n",
       "\t 1 & 164\\\\\n",
       "\t 1 & 122\\\\\n",
       "\t 1 & 119\\\\\n",
       "\t 1 &  89\\\\\n",
       "\t 1 &  90\\\\\n",
       "\t 1 &  61\\\\\n",
       "\t 1 &  49\\\\\n",
       "\\end{tabular}\n"
      ],
      "text/markdown": [
       "\n",
       "A data.frame: 17379 × 2\n",
       "\n",
       "| weekday &lt;int&gt; | cnt &lt;int&gt; |\n",
       "|---|---|\n",
       "| 6 |  16 |\n",
       "| 6 |  40 |\n",
       "| 6 |  32 |\n",
       "| 6 |  13 |\n",
       "| 6 |   1 |\n",
       "| 6 |   1 |\n",
       "| 6 |   2 |\n",
       "| 6 |   3 |\n",
       "| 6 |   8 |\n",
       "| 6 |  14 |\n",
       "| 6 |  36 |\n",
       "| 6 |  56 |\n",
       "| 6 |  84 |\n",
       "| 6 |  94 |\n",
       "| 6 | 106 |\n",
       "| 6 | 110 |\n",
       "| 6 |  93 |\n",
       "| 6 |  67 |\n",
       "| 6 |  35 |\n",
       "| 6 |  37 |\n",
       "| 6 |  36 |\n",
       "| 6 |  34 |\n",
       "| 6 |  28 |\n",
       "| 6 |  39 |\n",
       "| 0 |  17 |\n",
       "| 0 |  17 |\n",
       "| 0 |   9 |\n",
       "| 0 |   6 |\n",
       "| 0 |   3 |\n",
       "| 0 |   2 |\n",
       "| ⋮ | ⋮ |\n",
       "| 0 | 125 |\n",
       "| 0 | 102 |\n",
       "| 0 |  72 |\n",
       "| 0 |  47 |\n",
       "| 0 |  36 |\n",
       "| 0 |  49 |\n",
       "| 1 |  34 |\n",
       "| 1 |  19 |\n",
       "| 1 |  11 |\n",
       "| 1 |   1 |\n",
       "| 1 |   3 |\n",
       "| 1 |   9 |\n",
       "| 1 |  40 |\n",
       "| 1 |  85 |\n",
       "| 1 | 196 |\n",
       "| 1 | 157 |\n",
       "| 1 | 120 |\n",
       "| 1 | 157 |\n",
       "| 1 | 224 |\n",
       "| 1 | 203 |\n",
       "| 1 | 247 |\n",
       "| 1 | 315 |\n",
       "| 1 | 214 |\n",
       "| 1 | 164 |\n",
       "| 1 | 122 |\n",
       "| 1 | 119 |\n",
       "| 1 |  89 |\n",
       "| 1 |  90 |\n",
       "| 1 |  61 |\n",
       "| 1 |  49 |\n",
       "\n"
      ],
      "text/plain": [
       "      weekday cnt\n",
       "1     6        16\n",
       "2     6        40\n",
       "3     6        32\n",
       "4     6        13\n",
       "5     6         1\n",
       "6     6         1\n",
       "7     6         2\n",
       "8     6         3\n",
       "9     6         8\n",
       "10    6        14\n",
       "11    6        36\n",
       "12    6        56\n",
       "13    6        84\n",
       "14    6        94\n",
       "15    6       106\n",
       "16    6       110\n",
       "17    6        93\n",
       "18    6        67\n",
       "19    6        35\n",
       "20    6        37\n",
       "21    6        36\n",
       "22    6        34\n",
       "23    6        28\n",
       "24    6        39\n",
       "25    0        17\n",
       "26    0        17\n",
       "27    0         9\n",
       "28    0         6\n",
       "29    0         3\n",
       "30    0         2\n",
       "⋮     ⋮       ⋮  \n",
       "17350 0       125\n",
       "17351 0       102\n",
       "17352 0        72\n",
       "17353 0        47\n",
       "17354 0        36\n",
       "17355 0        49\n",
       "17356 1        34\n",
       "17357 1        19\n",
       "17358 1        11\n",
       "17359 1         1\n",
       "17360 1         3\n",
       "17361 1         9\n",
       "17362 1        40\n",
       "17363 1        85\n",
       "17364 1       196\n",
       "17365 1       157\n",
       "17366 1       120\n",
       "17367 1       157\n",
       "17368 1       224\n",
       "17369 1       203\n",
       "17370 1       247\n",
       "17371 1       315\n",
       "17372 1       214\n",
       "17373 1       164\n",
       "17374 1       122\n",
       "17375 1       119\n",
       "17376 1        89\n",
       "17377 1        90\n",
       "17378 1        61\n",
       "17379 1        49"
      ]
     },
     "metadata": {},
     "output_type": "display_data"
    },
    {
     "data": {
      "image/png": "[encoded data removed]",
      "text/plain": [
       "plot without title"
      ]
     },
     "metadata": {
      "image/png": {
       "height": 420,
       "width": 420
      }
     },
     "output_type": "display_data"
    }
   ],
   "source": [
    "#Code for activity 13 goes here\n",
    "# -------------------------------    \n",
    "df1 <- select(bikeshare_hour,weekday,cnt)\n",
    "df1\n",
    "library(ggplot2)\n",
    "ggplot(data = df1 , aes(x=weekday, y= cnt, group = weekday)) + geom_boxplot(aes(fill=weekday)) + scale_x_continuous(breaks = c(0,1,2,3,4,5,6))"
   ]
  },
  {
   "cell_type": "markdown",
   "metadata": {},
   "source": [
    "**Activity 14:** Plot histograms for variables `casual`, `registered` and `cnt` and see how they are distributed.  \n",
    "Plot mean and median on the histograms. "
   ]
  },
  {
   "cell_type": "code",
   "execution_count": 126,
   "metadata": {},
   "outputs": [
    {
     "data": {
      "image/png": "[encoded data removed]",
      "text/plain": [
       "plot without title"
      ]
     },
     "metadata": {
      "image/png": {
       "height": 420,
       "width": 420
      }
     },
     "output_type": "display_data"
    },
    {
     "data": {
      "image/png": "[encoded data removed]",
      "text/plain": [
       "plot without title"
      ]
     },
     "metadata": {
      "image/png": {
       "height": 420,
       "width": 420
      }
     },
     "output_type": "display_data"
    },
    {
     "data": {
      "image/png": "[encoded data removed]",
      "text/plain": [
       "plot without title"
      ]
     },
     "metadata": {
      "image/png": {
       "height": 420,
       "width": 420
      }
     },
     "output_type": "display_data"
    }
   ],
   "source": [
    "#Code for activity 14 goes here\n",
    "# -------------------------------    \n",
    "df <- data.frame(h = bikeshare_hour$casual)\n",
    "p <- ggplot(df, aes(x=h)) + geom_histogram(aes(y = ..density..), binwidth = 5, color = 'black', fill = 'gray')\n",
    "p <- p + geom_vline(xintercept = mean(bikeshare_hour$casual), col = 'red', lwd = 1)\n",
    "p <- p + geom_vline(xintercept = median(bikeshare_hour$casual), col = 'blue', lwd = 1) + xlab('casual')\n",
    "p <- p +annotate(x= 100,y=+Inf,label=\"median\",vjust=2,geom=\"label\", color = 'blue')\n",
    "p <- p + annotate(x= 150,y=+Inf,label=\"mean\",vjust=2,geom=\"label\", color = 'red')\n",
    "p <- p+ ggtitle('Casual Histogram')\n",
    "\n",
    "p\n",
    "\n",
    "\n",
    "df2 <- data.frame(g = bikeshare_hour$registered)\n",
    "r <- ggplot(df2, aes(x=g)) + geom_histogram(aes(y = ..density..), binwidth = 5, color = 'black', fill = 'gray')\n",
    "r <- r + geom_vline(xintercept = mean(bikeshare_hour$registered), col = 'red', lwd = 1)\n",
    "r <- r + geom_vline(xintercept = median(bikeshare_hour$registered), col = 'blue', lwd = 1) + xlab('registered')\n",
    "r <- r +annotate(x= 60,y=+Inf,label=\"median\",vjust=2,geom=\"label\", color = 'blue')\n",
    "r <- r + annotate(x= 200, y=+Inf,label=\"mean\",vjust=2,geom=\"label\", color = 'red')\n",
    "r <- r + ggtitle('Registered Histogram')\n",
    "\n",
    "r\n",
    "\n",
    "\n",
    "df3 <- data.frame(j = bikeshare_hour$cnt)\n",
    "k <- ggplot(df3, aes(x=j)) + geom_histogram(aes(y = ..density..), binwidth = 5, color = 'black', fill = 'gray')\n",
    "k <- k + geom_vline(xintercept = mean(bikeshare_hour$cnt), col = 'red', lwd = 1)\n",
    "k <- k + geom_vline(xintercept = median(bikeshare_hour$cnt), col = 'blue', lwd = 1) + xlab('cnt')\n",
    "k <- k +annotate(x= 85,y=+Inf,label=\"median\",vjust=2,geom=\"label\", color = 'blue')\n",
    "k <- k + annotate(x= 235, y=+Inf,label=\"mean\",vjust=2,geom=\"label\", color = 'red')\n",
    "k <- k + ggtitle('CNT Histogram')\n",
    "k"
   ]
  },
  {
   "cell_type": "markdown",
   "metadata": {},
   "source": [
    "# SAVE YOUR NOTEBOOK"
   ]
  }
 ],
 "metadata": {
  "kernelspec": {
   "display_name": "R",
   "language": "R",
   "name": "ir"
  },
  "language_info": {
   "codemirror_mode": "r",
   "file_extension": ".r",
   "mimetype": "text/x-r-source",
   "name": "R",
   "pygments_lexer": "r",
   "version": "4.0.5"
  }
 },
 "nbformat": 4,
 "nbformat_minor": 1
}
